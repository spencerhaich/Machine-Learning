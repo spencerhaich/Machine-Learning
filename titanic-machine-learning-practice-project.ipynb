{
 "cells": [
  {
   "cell_type": "markdown",
   "id": "a3beeb44",
   "metadata": {
    "papermill": {
     "duration": 0.053249,
     "end_time": "2022-03-29T23:43:19.360791",
     "exception": false,
     "start_time": "2022-03-29T23:43:19.307542",
     "status": "completed"
    },
    "tags": []
   },
   "source": [
    "# Titanic Machine Learning Practice Project\n",
    "In this practice project, we use machine learning to predict if a given passenger will survive the Titanic crash. This is an ongoing competition on kaggle.com. I did this project to gain knowledge and experience in machine learning and data science. "
   ]
  },
  {
   "cell_type": "code",
   "execution_count": 1,
   "id": "ef7c6ae4",
   "metadata": {
    "_cell_guid": "b1076dfc-b9ad-4769-8c92-a6c4dae69d19",
    "_uuid": "8f2839f25d086af736a60e9eeb907d3b93b6e0e5",
    "execution": {
     "iopub.execute_input": "2022-03-29T23:43:19.474362Z",
     "iopub.status.busy": "2022-03-29T23:43:19.472229Z",
     "iopub.status.idle": "2022-03-29T23:43:20.824579Z",
     "shell.execute_reply": "2022-03-29T23:43:20.823719Z",
     "shell.execute_reply.started": "2022-03-29T23:42:05.162681Z"
    },
    "papermill": {
     "duration": 1.409522,
     "end_time": "2022-03-29T23:43:20.824760",
     "exception": false,
     "start_time": "2022-03-29T23:43:19.415238",
     "status": "completed"
    },
    "tags": []
   },
   "outputs": [],
   "source": [
    "import numpy as np \n",
    "import pandas as pd \n",
    "import matplotlib.pyplot as plt\n",
    "import seaborn as sns\n",
    "from scipy import stats\n",
    "from sklearn.model_selection import train_test_split"
   ]
  },
  {
   "cell_type": "markdown",
   "id": "9bee197e",
   "metadata": {
    "papermill": {
     "duration": 0.055222,
     "end_time": "2022-03-29T23:43:20.937055",
     "exception": false,
     "start_time": "2022-03-29T23:43:20.881833",
     "status": "completed"
    },
    "tags": []
   },
   "source": [
    "## Data Key\n",
    "|Variable|Definition|Key|\n",
    "|:-------|:---------|:--|\n",
    "|Survival|Survival|0 = No, 1 = Yes|\n",
    "|Pclass|Ticket class|1 = 1st, 2 = 2nd, 3 = 3rd|\n",
    "|Sex|Sex|\n",
    "|Age|Age in years|\n",
    "|Sibsp|# of siblings / spouses aboard the Titanic|\n",
    "|Parch|# of parents / children aboard the Titanic|\n",
    "|Ticket|Ticket number|\n",
    "|Fare|Passenger fare|\n",
    "|Cabin|Cabin number|\n",
    "|Embarked|Port of Embarkation|C = Cherbourg, Q = Queenstown, S = Southampton|"
   ]
  },
  {
   "cell_type": "markdown",
   "id": "b95a9759",
   "metadata": {
    "papermill": {
     "duration": 0.054463,
     "end_time": "2022-03-29T23:43:21.046640",
     "exception": false,
     "start_time": "2022-03-29T23:43:20.992177",
     "status": "completed"
    },
    "tags": []
   },
   "source": [
    "## Loading Data\n",
    "\n",
    "In the code below I load the data and partition the data into variables. Our prediction clastrain_test_splitput into the y variable. Our predictor classes are put into X for training data and X_test for the testing data that we will eventually make our final predictions with. PassengerId, Ticket,\n",
    "and Name are excluded from the training and testing data because these categories are not expected contribute helpful information for survival prediction. \n",
    "\n",
    "I then split the training data into train and validation sets. "
   ]
  },
  {
   "cell_type": "code",
   "execution_count": 2,
   "id": "32cb5422",
   "metadata": {
    "execution": {
     "iopub.execute_input": "2022-03-29T23:43:21.157265Z",
     "iopub.status.busy": "2022-03-29T23:43:21.156254Z",
     "iopub.status.idle": "2022-03-29T23:43:21.205815Z",
     "shell.execute_reply": "2022-03-29T23:43:21.206661Z",
     "shell.execute_reply.started": "2022-03-29T23:42:05.564785Z"
    },
    "papermill": {
     "duration": 0.106743,
     "end_time": "2022-03-29T23:43:21.206923",
     "exception": false,
     "start_time": "2022-03-29T23:43:21.100180",
     "status": "completed"
    },
    "tags": []
   },
   "outputs": [
    {
     "name": "stdout",
     "output_type": "stream",
     "text": [
      "Training Data:\n",
      " (891, 11)\n",
      "\n",
      "\n",
      "Testing Data:\n",
      " (418, 10)\n"
     ]
    }
   ],
   "source": [
    "# Importing Data\n",
    "train = pd.read_csv('../input/titanic/train.csv', index_col='PassengerId')\n",
    "test = pd.read_csv('../input/titanic/test.csv', index_col='PassengerId')\n",
    "\n",
    "# View aspects of each dataframe\n",
    "print('Training Data:\\n', train.shape)\n",
    "print('\\n\\nTesting Data:\\n', test.shape)\n",
    "\n",
    "y = train.Survived\n",
    "\n",
    "# Selecting all features, excluding PassengerId, Survived, and Name\n",
    "features = ['Pclass','Sex','Age','SibSp','Parch','Fare','Cabin','Embarked']\n",
    "X = train[features]\n",
    "X_test = test[features]\n",
    "\n",
    "# Splitting training data into train and validation sets\n",
    "X_train, X_val, y_train, y_val = train_test_split(X, y, random_state=42)"
   ]
  },
  {
   "cell_type": "code",
   "execution_count": 3,
   "id": "3cab9df8",
   "metadata": {
    "execution": {
     "iopub.execute_input": "2022-03-29T23:43:21.323678Z",
     "iopub.status.busy": "2022-03-29T23:43:21.322886Z",
     "iopub.status.idle": "2022-03-29T23:43:21.347465Z",
     "shell.execute_reply": "2022-03-29T23:43:21.348064Z",
     "shell.execute_reply.started": "2022-03-29T23:42:05.955923Z"
    },
    "papermill": {
     "duration": 0.083733,
     "end_time": "2022-03-29T23:43:21.348273",
     "exception": false,
     "start_time": "2022-03-29T23:43:21.264540",
     "status": "completed"
    },
    "tags": []
   },
   "outputs": [
    {
     "data": {
      "text/html": [
       "<div>\n",
       "<style scoped>\n",
       "    .dataframe tbody tr th:only-of-type {\n",
       "        vertical-align: middle;\n",
       "    }\n",
       "\n",
       "    .dataframe tbody tr th {\n",
       "        vertical-align: top;\n",
       "    }\n",
       "\n",
       "    .dataframe thead th {\n",
       "        text-align: right;\n",
       "    }\n",
       "</style>\n",
       "<table border=\"1\" class=\"dataframe\">\n",
       "  <thead>\n",
       "    <tr style=\"text-align: right;\">\n",
       "      <th></th>\n",
       "      <th>Survived</th>\n",
       "      <th>Pclass</th>\n",
       "      <th>Name</th>\n",
       "      <th>Sex</th>\n",
       "      <th>Age</th>\n",
       "      <th>SibSp</th>\n",
       "      <th>Parch</th>\n",
       "      <th>Ticket</th>\n",
       "      <th>Fare</th>\n",
       "      <th>Cabin</th>\n",
       "      <th>Embarked</th>\n",
       "    </tr>\n",
       "    <tr>\n",
       "      <th>PassengerId</th>\n",
       "      <th></th>\n",
       "      <th></th>\n",
       "      <th></th>\n",
       "      <th></th>\n",
       "      <th></th>\n",
       "      <th></th>\n",
       "      <th></th>\n",
       "      <th></th>\n",
       "      <th></th>\n",
       "      <th></th>\n",
       "      <th></th>\n",
       "    </tr>\n",
       "  </thead>\n",
       "  <tbody>\n",
       "    <tr>\n",
       "      <th>1</th>\n",
       "      <td>0</td>\n",
       "      <td>3</td>\n",
       "      <td>Braund, Mr. Owen Harris</td>\n",
       "      <td>male</td>\n",
       "      <td>22.0</td>\n",
       "      <td>1</td>\n",
       "      <td>0</td>\n",
       "      <td>A/5 21171</td>\n",
       "      <td>7.2500</td>\n",
       "      <td>NaN</td>\n",
       "      <td>S</td>\n",
       "    </tr>\n",
       "    <tr>\n",
       "      <th>2</th>\n",
       "      <td>1</td>\n",
       "      <td>1</td>\n",
       "      <td>Cumings, Mrs. John Bradley (Florence Briggs Th...</td>\n",
       "      <td>female</td>\n",
       "      <td>38.0</td>\n",
       "      <td>1</td>\n",
       "      <td>0</td>\n",
       "      <td>PC 17599</td>\n",
       "      <td>71.2833</td>\n",
       "      <td>C85</td>\n",
       "      <td>C</td>\n",
       "    </tr>\n",
       "    <tr>\n",
       "      <th>3</th>\n",
       "      <td>1</td>\n",
       "      <td>3</td>\n",
       "      <td>Heikkinen, Miss. Laina</td>\n",
       "      <td>female</td>\n",
       "      <td>26.0</td>\n",
       "      <td>0</td>\n",
       "      <td>0</td>\n",
       "      <td>STON/O2. 3101282</td>\n",
       "      <td>7.9250</td>\n",
       "      <td>NaN</td>\n",
       "      <td>S</td>\n",
       "    </tr>\n",
       "    <tr>\n",
       "      <th>4</th>\n",
       "      <td>1</td>\n",
       "      <td>1</td>\n",
       "      <td>Futrelle, Mrs. Jacques Heath (Lily May Peel)</td>\n",
       "      <td>female</td>\n",
       "      <td>35.0</td>\n",
       "      <td>1</td>\n",
       "      <td>0</td>\n",
       "      <td>113803</td>\n",
       "      <td>53.1000</td>\n",
       "      <td>C123</td>\n",
       "      <td>S</td>\n",
       "    </tr>\n",
       "    <tr>\n",
       "      <th>5</th>\n",
       "      <td>0</td>\n",
       "      <td>3</td>\n",
       "      <td>Allen, Mr. William Henry</td>\n",
       "      <td>male</td>\n",
       "      <td>35.0</td>\n",
       "      <td>0</td>\n",
       "      <td>0</td>\n",
       "      <td>373450</td>\n",
       "      <td>8.0500</td>\n",
       "      <td>NaN</td>\n",
       "      <td>S</td>\n",
       "    </tr>\n",
       "  </tbody>\n",
       "</table>\n",
       "</div>"
      ],
      "text/plain": [
       "             Survived  Pclass  \\\n",
       "PassengerId                     \n",
       "1                   0       3   \n",
       "2                   1       1   \n",
       "3                   1       3   \n",
       "4                   1       1   \n",
       "5                   0       3   \n",
       "\n",
       "                                                          Name     Sex   Age  \\\n",
       "PassengerId                                                                    \n",
       "1                                      Braund, Mr. Owen Harris    male  22.0   \n",
       "2            Cumings, Mrs. John Bradley (Florence Briggs Th...  female  38.0   \n",
       "3                                       Heikkinen, Miss. Laina  female  26.0   \n",
       "4                 Futrelle, Mrs. Jacques Heath (Lily May Peel)  female  35.0   \n",
       "5                                     Allen, Mr. William Henry    male  35.0   \n",
       "\n",
       "             SibSp  Parch            Ticket     Fare Cabin Embarked  \n",
       "PassengerId                                                          \n",
       "1                1      0         A/5 21171   7.2500   NaN        S  \n",
       "2                1      0          PC 17599  71.2833   C85        C  \n",
       "3                0      0  STON/O2. 3101282   7.9250   NaN        S  \n",
       "4                1      0            113803  53.1000  C123        S  \n",
       "5                0      0            373450   8.0500   NaN        S  "
      ]
     },
     "execution_count": 3,
     "metadata": {},
     "output_type": "execute_result"
    }
   ],
   "source": [
    "train.head()"
   ]
  },
  {
   "cell_type": "code",
   "execution_count": 4,
   "id": "b3445bbb",
   "metadata": {
    "execution": {
     "iopub.execute_input": "2022-03-29T23:43:21.469322Z",
     "iopub.status.busy": "2022-03-29T23:43:21.468581Z",
     "iopub.status.idle": "2022-03-29T23:43:21.484230Z",
     "shell.execute_reply": "2022-03-29T23:43:21.484840Z",
     "shell.execute_reply.started": "2022-03-29T23:42:06.391264Z"
    },
    "papermill": {
     "duration": 0.077587,
     "end_time": "2022-03-29T23:43:21.485165",
     "exception": false,
     "start_time": "2022-03-29T23:43:21.407578",
     "status": "completed"
    },
    "tags": []
   },
   "outputs": [
    {
     "name": "stdout",
     "output_type": "stream",
     "text": [
      "<class 'pandas.core.frame.DataFrame'>\n",
      "Int64Index: 891 entries, 1 to 891\n",
      "Data columns (total 11 columns):\n",
      " #   Column    Non-Null Count  Dtype  \n",
      "---  ------    --------------  -----  \n",
      " 0   Survived  891 non-null    int64  \n",
      " 1   Pclass    891 non-null    int64  \n",
      " 2   Name      891 non-null    object \n",
      " 3   Sex       891 non-null    object \n",
      " 4   Age       714 non-null    float64\n",
      " 5   SibSp     891 non-null    int64  \n",
      " 6   Parch     891 non-null    int64  \n",
      " 7   Ticket    891 non-null    object \n",
      " 8   Fare      891 non-null    float64\n",
      " 9   Cabin     204 non-null    object \n",
      " 10  Embarked  889 non-null    object \n",
      "dtypes: float64(2), int64(4), object(5)\n",
      "memory usage: 83.5+ KB\n"
     ]
    }
   ],
   "source": [
    "train.info()"
   ]
  },
  {
   "cell_type": "code",
   "execution_count": 5,
   "id": "05d64796",
   "metadata": {
    "execution": {
     "iopub.execute_input": "2022-03-29T23:43:21.602505Z",
     "iopub.status.busy": "2022-03-29T23:43:21.601839Z",
     "iopub.status.idle": "2022-03-29T23:43:21.631775Z",
     "shell.execute_reply": "2022-03-29T23:43:21.632399Z",
     "shell.execute_reply.started": "2022-03-29T23:42:06.756278Z"
    },
    "papermill": {
     "duration": 0.091981,
     "end_time": "2022-03-29T23:43:21.632585",
     "exception": false,
     "start_time": "2022-03-29T23:43:21.540604",
     "status": "completed"
    },
    "tags": []
   },
   "outputs": [
    {
     "data": {
      "text/html": [
       "<div>\n",
       "<style scoped>\n",
       "    .dataframe tbody tr th:only-of-type {\n",
       "        vertical-align: middle;\n",
       "    }\n",
       "\n",
       "    .dataframe tbody tr th {\n",
       "        vertical-align: top;\n",
       "    }\n",
       "\n",
       "    .dataframe thead th {\n",
       "        text-align: right;\n",
       "    }\n",
       "</style>\n",
       "<table border=\"1\" class=\"dataframe\">\n",
       "  <thead>\n",
       "    <tr style=\"text-align: right;\">\n",
       "      <th></th>\n",
       "      <th>Survived</th>\n",
       "      <th>Pclass</th>\n",
       "      <th>Age</th>\n",
       "      <th>SibSp</th>\n",
       "      <th>Parch</th>\n",
       "      <th>Fare</th>\n",
       "    </tr>\n",
       "  </thead>\n",
       "  <tbody>\n",
       "    <tr>\n",
       "      <th>count</th>\n",
       "      <td>891.000000</td>\n",
       "      <td>891.000000</td>\n",
       "      <td>714.000000</td>\n",
       "      <td>891.000000</td>\n",
       "      <td>891.000000</td>\n",
       "      <td>891.000000</td>\n",
       "    </tr>\n",
       "    <tr>\n",
       "      <th>mean</th>\n",
       "      <td>0.383838</td>\n",
       "      <td>2.308642</td>\n",
       "      <td>29.699118</td>\n",
       "      <td>0.523008</td>\n",
       "      <td>0.381594</td>\n",
       "      <td>32.204208</td>\n",
       "    </tr>\n",
       "    <tr>\n",
       "      <th>std</th>\n",
       "      <td>0.486592</td>\n",
       "      <td>0.836071</td>\n",
       "      <td>14.526497</td>\n",
       "      <td>1.102743</td>\n",
       "      <td>0.806057</td>\n",
       "      <td>49.693429</td>\n",
       "    </tr>\n",
       "    <tr>\n",
       "      <th>min</th>\n",
       "      <td>0.000000</td>\n",
       "      <td>1.000000</td>\n",
       "      <td>0.420000</td>\n",
       "      <td>0.000000</td>\n",
       "      <td>0.000000</td>\n",
       "      <td>0.000000</td>\n",
       "    </tr>\n",
       "    <tr>\n",
       "      <th>25%</th>\n",
       "      <td>0.000000</td>\n",
       "      <td>2.000000</td>\n",
       "      <td>20.125000</td>\n",
       "      <td>0.000000</td>\n",
       "      <td>0.000000</td>\n",
       "      <td>7.910400</td>\n",
       "    </tr>\n",
       "    <tr>\n",
       "      <th>50%</th>\n",
       "      <td>0.000000</td>\n",
       "      <td>3.000000</td>\n",
       "      <td>28.000000</td>\n",
       "      <td>0.000000</td>\n",
       "      <td>0.000000</td>\n",
       "      <td>14.454200</td>\n",
       "    </tr>\n",
       "    <tr>\n",
       "      <th>75%</th>\n",
       "      <td>1.000000</td>\n",
       "      <td>3.000000</td>\n",
       "      <td>38.000000</td>\n",
       "      <td>1.000000</td>\n",
       "      <td>0.000000</td>\n",
       "      <td>31.000000</td>\n",
       "    </tr>\n",
       "    <tr>\n",
       "      <th>max</th>\n",
       "      <td>1.000000</td>\n",
       "      <td>3.000000</td>\n",
       "      <td>80.000000</td>\n",
       "      <td>8.000000</td>\n",
       "      <td>6.000000</td>\n",
       "      <td>512.329200</td>\n",
       "    </tr>\n",
       "  </tbody>\n",
       "</table>\n",
       "</div>"
      ],
      "text/plain": [
       "         Survived      Pclass         Age       SibSp       Parch        Fare\n",
       "count  891.000000  891.000000  714.000000  891.000000  891.000000  891.000000\n",
       "mean     0.383838    2.308642   29.699118    0.523008    0.381594   32.204208\n",
       "std      0.486592    0.836071   14.526497    1.102743    0.806057   49.693429\n",
       "min      0.000000    1.000000    0.420000    0.000000    0.000000    0.000000\n",
       "25%      0.000000    2.000000   20.125000    0.000000    0.000000    7.910400\n",
       "50%      0.000000    3.000000   28.000000    0.000000    0.000000   14.454200\n",
       "75%      1.000000    3.000000   38.000000    1.000000    0.000000   31.000000\n",
       "max      1.000000    3.000000   80.000000    8.000000    6.000000  512.329200"
      ]
     },
     "execution_count": 5,
     "metadata": {},
     "output_type": "execute_result"
    }
   ],
   "source": [
    "train.describe()"
   ]
  },
  {
   "cell_type": "markdown",
   "id": "44f1e9cd",
   "metadata": {
    "papermill": {
     "duration": 0.05252,
     "end_time": "2022-03-29T23:43:21.739863",
     "exception": false,
     "start_time": "2022-03-29T23:43:21.687343",
     "status": "completed"
    },
    "tags": []
   },
   "source": [
    "## Data Exploration\n"
   ]
  },
  {
   "cell_type": "markdown",
   "id": "836b1fe9",
   "metadata": {
    "papermill": {
     "duration": 0.053713,
     "end_time": "2022-03-29T23:43:21.848007",
     "exception": false,
     "start_time": "2022-03-29T23:43:21.794294",
     "status": "completed"
    },
    "tags": []
   },
   "source": [
    "### Sex"
   ]
  },
  {
   "cell_type": "code",
   "execution_count": 6,
   "id": "d6a3ee2a",
   "metadata": {
    "execution": {
     "iopub.execute_input": "2022-03-29T23:43:21.961210Z",
     "iopub.status.busy": "2022-03-29T23:43:21.956762Z",
     "iopub.status.idle": "2022-03-29T23:43:22.258389Z",
     "shell.execute_reply": "2022-03-29T23:43:22.257775Z",
     "shell.execute_reply.started": "2022-03-29T23:42:07.073525Z"
    },
    "papermill": {
     "duration": 0.357262,
     "end_time": "2022-03-29T23:43:22.258548",
     "exception": false,
     "start_time": "2022-03-29T23:43:21.901286",
     "status": "completed"
    },
    "tags": []
   },
   "outputs": [
    {
     "name": "stdout",
     "output_type": "stream",
     "text": [
      "With a p-value of 1.1973570627755645e-58 from the chi-squared test, we see that sex and survival are related.\n"
     ]
    },
    {
     "data": {
      "image/png": "[encoded data removed]",
      "text/plain": [
       "<Figure size 720x432 with 1 Axes>"
      ]
     },
     "metadata": {
      "needs_background": "light"
     },
     "output_type": "display_data"
    }
   ],
   "source": [
    "# Method to generate bar plot of those of each sex that survived along with chi-squared value\n",
    "sex_survive = pd.crosstab(train['Sex'], train['Survived']).sort_index(axis=1, ascending=False)\n",
    "sex_survive.plot.bar(stacked=True, \n",
    "                     title='Survival of the Sexes', \n",
    "                     ylabel='Count',\n",
    "                     colormap='winter', \n",
    "                     figsize=(10,6))\n",
    "chi2, p, dof, exp = stats.chi2_contingency(sex_survive)\n",
    "print('With a p-value of '+str(p)+' from the chi-squared test, we see that sex and survival are related.')"
   ]
  },
  {
   "cell_type": "markdown",
   "id": "8b955f26",
   "metadata": {
    "papermill": {
     "duration": 0.054697,
     "end_time": "2022-03-29T23:43:22.368487",
     "exception": false,
     "start_time": "2022-03-29T23:43:22.313790",
     "status": "completed"
    },
    "tags": []
   },
   "source": [
    "### Ticket Class"
   ]
  },
  {
   "cell_type": "code",
   "execution_count": 7,
   "id": "e7bcbb68",
   "metadata": {
    "execution": {
     "iopub.execute_input": "2022-03-29T23:43:22.493569Z",
     "iopub.status.busy": "2022-03-29T23:43:22.487566Z",
     "iopub.status.idle": "2022-03-29T23:43:22.721152Z",
     "shell.execute_reply": "2022-03-29T23:43:22.720458Z",
     "shell.execute_reply.started": "2022-03-29T23:42:07.464437Z"
    },
    "papermill": {
     "duration": 0.294059,
     "end_time": "2022-03-29T23:43:22.721316",
     "exception": false,
     "start_time": "2022-03-29T23:43:22.427257",
     "status": "completed"
    },
    "tags": []
   },
   "outputs": [
    {
     "name": "stdout",
     "output_type": "stream",
     "text": [
      "With a p-value of 4.5492517112987287e-23 from the chi-squared test, we see that ticket class and survival are related.\n"
     ]
    },
    {
     "data": {
      "image/png": "[encoded data removed]",
      "text/plain": [
       "<Figure size 720x432 with 1 Axes>"
      ]
     },
     "metadata": {
      "needs_background": "light"
     },
     "output_type": "display_data"
    }
   ],
   "source": [
    "pclass_survive = pd.crosstab(train['Pclass'], train['Survived']).sort_index(axis=1, ascending=False)\n",
    "pclass_survive.plot.bar(stacked=True, \n",
    "                        title='Survival of the Classes', \n",
    "                        ylabel='Count',\n",
    "                        colormap='winter', \n",
    "                        figsize=(10,6))\n",
    "chi2, p, dof, exp = stats.chi2_contingency(pclass_survive)\n",
    "print('With a p-value of '+str(p)+' from the chi-squared test, we see that ticket class and survival are related.')"
   ]
  },
  {
   "cell_type": "markdown",
   "id": "3e10e1c3",
   "metadata": {
    "papermill": {
     "duration": 0.058951,
     "end_time": "2022-03-29T23:43:22.841393",
     "exception": false,
     "start_time": "2022-03-29T23:43:22.782442",
     "status": "completed"
    },
    "tags": []
   },
   "source": [
    "### Siblings and Spouses"
   ]
  },
  {
   "cell_type": "code",
   "execution_count": 8,
   "id": "c55cfbf8",
   "metadata": {
    "execution": {
     "iopub.execute_input": "2022-03-29T23:43:22.967553Z",
     "iopub.status.busy": "2022-03-29T23:43:22.966539Z",
     "iopub.status.idle": "2022-03-29T23:43:23.229956Z",
     "shell.execute_reply": "2022-03-29T23:43:23.230622Z",
     "shell.execute_reply.started": "2022-03-29T23:42:07.978220Z"
    },
    "papermill": {
     "duration": 0.330111,
     "end_time": "2022-03-29T23:43:23.230835",
     "exception": false,
     "start_time": "2022-03-29T23:43:22.900724",
     "status": "completed"
    },
    "tags": []
   },
   "outputs": [
    {
     "name": "stdout",
     "output_type": "stream",
     "text": [
      "With a p-value of 1.5585810465902116e-06 from the chi-squared test, we see that number of siblings/spouses and survival are related.\n"
     ]
    },
    {
     "data": {
      "image/png": "[encoded data removed]",
      "text/plain": [
       "<Figure size 720x432 with 1 Axes>"
      ]
     },
     "metadata": {
      "needs_background": "light"
     },
     "output_type": "display_data"
    }
   ],
   "source": [
    "sib_survive = pd.crosstab(train['SibSp'], train['Survived']).sort_index(axis=1, ascending=False)\n",
    "sib_survive.plot.bar(stacked=True, \n",
    "                     title='Survival Based on Siblings and Spouses', \n",
    "                     ylabel='Count',\n",
    "                     colormap='winter', \n",
    "                     figsize=(10,6))\n",
    "chi2, p, dof, exp = stats.chi2_contingency(sib_survive)\n",
    "print('With a p-value of '+str(p)+' from the chi-squared test, we see that number of siblings/spouses and survival are related.')"
   ]
  },
  {
   "cell_type": "markdown",
   "id": "a2ba9de9",
   "metadata": {
    "papermill": {
     "duration": 0.05601,
     "end_time": "2022-03-29T23:43:23.344021",
     "exception": false,
     "start_time": "2022-03-29T23:43:23.288011",
     "status": "completed"
    },
    "tags": []
   },
   "source": [
    "### Parents and Children"
   ]
  },
  {
   "cell_type": "code",
   "execution_count": 9,
   "id": "c15d29ab",
   "metadata": {
    "execution": {
     "iopub.execute_input": "2022-03-29T23:43:23.464281Z",
     "iopub.status.busy": "2022-03-29T23:43:23.463312Z",
     "iopub.status.idle": "2022-03-29T23:43:23.731245Z",
     "shell.execute_reply": "2022-03-29T23:43:23.731673Z",
     "shell.execute_reply.started": "2022-03-29T23:42:08.419950Z"
    },
    "papermill": {
     "duration": 0.332329,
     "end_time": "2022-03-29T23:43:23.731848",
     "exception": false,
     "start_time": "2022-03-29T23:43:23.399519",
     "status": "completed"
    },
    "tags": []
   },
   "outputs": [
    {
     "name": "stdout",
     "output_type": "stream",
     "text": [
      "With a p-value of 9.703526421039997e-05 from the chi-squared test, we see that number of parents/children and survival are related.\n"
     ]
    },
    {
     "data": {
      "image/png": "[encoded data removed]",
      "text/plain": [
       "<Figure size 720x432 with 1 Axes>"
      ]
     },
     "metadata": {
      "needs_background": "light"
     },
     "output_type": "display_data"
    }
   ],
   "source": [
    "parch_survive = pd.crosstab(train['Parch'], train['Survived']).sort_index(axis=1, ascending=False)\n",
    "parch_survive.plot.bar(stacked=True, \n",
    "                       title='Survival Based on Parents and Children', \n",
    "                       ylabel='Count',\n",
    "                       colormap='winter', \n",
    "                       figsize=(10,6))\n",
    "chi2, p, dof, exp = stats.chi2_contingency(parch_survive)\n",
    "print('With a p-value of '+str(p)+' from the chi-squared test, we see that number of parents/children and survival are related.')"
   ]
  },
  {
   "cell_type": "markdown",
   "id": "23d9a79e",
   "metadata": {
    "papermill": {
     "duration": 0.056313,
     "end_time": "2022-03-29T23:43:23.845451",
     "exception": false,
     "start_time": "2022-03-29T23:43:23.789138",
     "status": "completed"
    },
    "tags": []
   },
   "source": [
    "### Age"
   ]
  },
  {
   "cell_type": "code",
   "execution_count": 10,
   "id": "ccd0bf5b",
   "metadata": {
    "execution": {
     "iopub.execute_input": "2022-03-29T23:43:23.965577Z",
     "iopub.status.busy": "2022-03-29T23:43:23.964959Z",
     "iopub.status.idle": "2022-03-29T23:43:24.183963Z",
     "shell.execute_reply": "2022-03-29T23:43:24.183345Z",
     "shell.execute_reply.started": "2022-03-29T23:42:08.695943Z"
    },
    "papermill": {
     "duration": 0.280736,
     "end_time": "2022-03-29T23:43:24.184194",
     "exception": false,
     "start_time": "2022-03-29T23:43:23.903458",
     "status": "completed"
    },
    "tags": []
   },
   "outputs": [
    {
     "data": {
      "text/plain": [
       "<AxesSubplot:title={'center':'Survival Based on Age'}, ylabel='Age'>"
      ]
     },
     "execution_count": 10,
     "metadata": {},
     "output_type": "execute_result"
    },
    {
     "data": {
      "image/png": "[encoded data removed]",
      "text/plain": [
       "<Figure size 720x432 with 1 Axes>"
      ]
     },
     "metadata": {
      "needs_background": "light"
     },
     "output_type": "display_data"
    }
   ],
   "source": [
    "age_survive = pd.concat([train.Age[train.Survived==1],\n",
    "                         train.Age[train.Survived==0]], \n",
    "                         axis=1)\n",
    "age_survive.columns = ['Survived', 'Perished']\n",
    "age_survive.plot.box(title='Survival Based on Age', \n",
    "                     ylabel='Age',\n",
    "                     figsize=(10,6))"
   ]
  },
  {
   "cell_type": "markdown",
   "id": "1c62d24f",
   "metadata": {
    "papermill": {
     "duration": 0.057459,
     "end_time": "2022-03-29T23:43:24.302599",
     "exception": false,
     "start_time": "2022-03-29T23:43:24.245140",
     "status": "completed"
    },
    "tags": []
   },
   "source": [
    "#### Is Age a normal distribution?\n",
    "If the Age category is a normal distribution, then we can use ANOVA to determine if there is a significant difference between the means of the ages that survived versus those that did not. If it is not a normal distribution, we will use the Kruskal-Wallis test to determine if the medians are significantly different."
   ]
  },
  {
   "cell_type": "code",
   "execution_count": 11,
   "id": "a8b85aaf",
   "metadata": {
    "execution": {
     "iopub.execute_input": "2022-03-29T23:43:24.427542Z",
     "iopub.status.busy": "2022-03-29T23:43:24.426611Z",
     "iopub.status.idle": "2022-03-29T23:43:24.436698Z",
     "shell.execute_reply": "2022-03-29T23:43:24.437194Z",
     "shell.execute_reply.started": "2022-03-29T23:42:08.909285Z"
    },
    "papermill": {
     "duration": 0.076591,
     "end_time": "2022-03-29T23:43:24.437380",
     "exception": false,
     "start_time": "2022-03-29T23:43:24.360789",
     "status": "completed"
    },
    "tags": []
   },
   "outputs": [
    {
     "name": "stdout",
     "output_type": "stream",
     "text": [
      "Age is not normally distributed.\n",
      "p = 0.00011709599657350744\n"
     ]
    }
   ],
   "source": [
    "# Testing the Age column to see if it is a normal distribution\n",
    "from scipy.stats import normaltest\n",
    "\n",
    "stat, p = normaltest(train.Age,\n",
    "                     nan_policy='omit')\n",
    "if p<1e-3:\n",
    "    print('Age is not normally distributed.\\np = '+str(p))\n",
    "else:\n",
    "    print('Age is normally distributed.\\np = '+str(p))"
   ]
  },
  {
   "cell_type": "markdown",
   "id": "e2711ebb",
   "metadata": {
    "papermill": {
     "duration": 0.058316,
     "end_time": "2022-03-29T23:43:24.553857",
     "exception": false,
     "start_time": "2022-03-29T23:43:24.495541",
     "status": "completed"
    },
    "tags": []
   },
   "source": [
    "Because Age is not normally distributed, we are using the Kruskal-Wallis H-test rather than ANOVA. "
   ]
  },
  {
   "cell_type": "code",
   "execution_count": 12,
   "id": "ebc20ca8",
   "metadata": {
    "execution": {
     "iopub.execute_input": "2022-03-29T23:43:24.675958Z",
     "iopub.status.busy": "2022-03-29T23:43:24.674995Z",
     "iopub.status.idle": "2022-03-29T23:43:24.689131Z",
     "shell.execute_reply": "2022-03-29T23:43:24.689715Z",
     "shell.execute_reply.started": "2022-03-29T23:42:08.985240Z"
    },
    "papermill": {
     "duration": 0.076544,
     "end_time": "2022-03-29T23:43:24.689884",
     "exception": false,
     "start_time": "2022-03-29T23:43:24.613340",
     "status": "completed"
    },
    "tags": []
   },
   "outputs": [
    {
     "name": "stdout",
     "output_type": "stream",
     "text": [
      "The median of the survived and perished age groups are equal.\n",
      "p = 0.16043746252207006\n"
     ]
    }
   ],
   "source": [
    "from scipy.stats import kruskal\n",
    "\n",
    "H, p = kruskal(age_survive['Survived'],\n",
    "               age_survive['Perished'], \n",
    "               nan_policy='omit')\n",
    "if p<1e-3:\n",
    "    print('The median of the survived and perished age groups are not equal.\\np = '+str(p))\n",
    "else:\n",
    "    print('The median of the survived and perished age groups are equal.\\np = '+str(p))"
   ]
  },
  {
   "cell_type": "markdown",
   "id": "5645ee6f",
   "metadata": {
    "papermill": {
     "duration": 0.058631,
     "end_time": "2022-03-29T23:43:24.807533",
     "exception": false,
     "start_time": "2022-03-29T23:43:24.748902",
     "status": "completed"
    },
    "tags": []
   },
   "source": [
    "Because the medians are equal, Age will not be very helpful in determining if a passenger survives. "
   ]
  },
  {
   "cell_type": "code",
   "execution_count": 13,
   "id": "56da004b",
   "metadata": {
    "execution": {
     "iopub.execute_input": "2022-03-29T23:43:24.929240Z",
     "iopub.status.busy": "2022-03-29T23:43:24.928623Z",
     "iopub.status.idle": "2022-03-29T23:43:25.217200Z",
     "shell.execute_reply": "2022-03-29T23:43:25.216670Z",
     "shell.execute_reply.started": "2022-03-29T23:42:09.217982Z"
    },
    "papermill": {
     "duration": 0.349948,
     "end_time": "2022-03-29T23:43:25.217333",
     "exception": false,
     "start_time": "2022-03-29T23:43:24.867385",
     "status": "completed"
    },
    "tags": []
   },
   "outputs": [
    {
     "data": {
      "text/plain": [
       "<AxesSubplot:title={'center':'Survival by Age'}, xlabel='Age', ylabel='Count'>"
      ]
     },
     "execution_count": 13,
     "metadata": {},
     "output_type": "execute_result"
    },
    {
     "data": {
      "image/png": "[encoded data removed]",
      "text/plain": [
       "<Figure size 864x432 with 1 Axes>"
      ]
     },
     "metadata": {
      "needs_background": "light"
     },
     "output_type": "display_data"
    }
   ],
   "source": [
    "age_survive_group = train.groupby('Survived').Age.value_counts().sort_index()\n",
    "age_survive_count = pd.concat([age_survive_group[1],\n",
    "                               age_survive_group[0]], \n",
    "                               axis=1)\n",
    "age_survive_count.columns = ['Survived','Perished']\n",
    "age_survive_count.plot.area(title='Survival by Age',\n",
    "                            ylabel='Count',\n",
    "                            colormap='winter',\n",
    "                            figsize=(12,6))"
   ]
  },
  {
   "cell_type": "markdown",
   "id": "62431df2",
   "metadata": {
    "papermill": {
     "duration": 0.06053,
     "end_time": "2022-03-29T23:43:25.337938",
     "exception": false,
     "start_time": "2022-03-29T23:43:25.277408",
     "status": "completed"
    },
    "tags": []
   },
   "source": [
    "#### Binning the Age groups\n",
    "In this section, I bin the age groups with different bin sizes to determine if changing the variable from numerical to categorical will improve its value in predicting survival. Because the variable is now categorical, we will evaluate it with a chi-squared test."
   ]
  },
  {
   "cell_type": "code",
   "execution_count": 14,
   "id": "c664fc75",
   "metadata": {
    "execution": {
     "iopub.execute_input": "2022-03-29T23:43:25.468202Z",
     "iopub.status.busy": "2022-03-29T23:43:25.467571Z",
     "iopub.status.idle": "2022-03-29T23:43:25.824942Z",
     "shell.execute_reply": "2022-03-29T23:43:25.824308Z",
     "shell.execute_reply.started": "2022-03-29T23:42:09.545201Z"
    },
    "papermill": {
     "duration": 0.42416,
     "end_time": "2022-03-29T23:43:25.825077",
     "exception": false,
     "start_time": "2022-03-29T23:43:25.400917",
     "status": "completed"
    },
    "tags": []
   },
   "outputs": [
    {
     "name": "stdout",
     "output_type": "stream",
     "text": [
      "With a p-value of 0.007930788925480686 from the chi-squared test, we see that age bins and survival are somewhat related.\n"
     ]
    },
    {
     "data": {
      "image/png": "[encoded data removed]",
      "text/plain": [
       "<Figure size 720x432 with 1 Axes>"
      ]
     },
     "metadata": {
      "needs_background": "light"
     },
     "output_type": "display_data"
    }
   ],
   "source": [
    "age_bin = pd.cut(train.Age,range(0,81,5))\n",
    "age_bin.name = 'Age Binned'\n",
    "age_bin_survive = pd.crosstab(age_bin, train['Survived']).sort_index(axis=1, ascending=False)\n",
    "age_bin_survive.plot.bar(stacked=True, \n",
    "                         title='Survival Based on Age', \n",
    "                         ylabel='Count',\n",
    "                         colormap='winter', \n",
    "                         figsize=(10,6))\n",
    "chi2, p, dof, exp = stats.chi2_contingency(age_bin_survive)\n",
    "print('With a p-value of '+str(p)+' from the chi-squared test, we see that age bins and survival are somewhat related.')"
   ]
  },
  {
   "cell_type": "code",
   "execution_count": 15,
   "id": "30cd0a44",
   "metadata": {
    "execution": {
     "iopub.execute_input": "2022-03-29T23:43:25.956197Z",
     "iopub.status.busy": "2022-03-29T23:43:25.955531Z",
     "iopub.status.idle": "2022-03-29T23:43:26.225995Z",
     "shell.execute_reply": "2022-03-29T23:43:26.226627Z",
     "shell.execute_reply.started": "2022-03-29T23:42:10.016488Z"
    },
    "papermill": {
     "duration": 0.33942,
     "end_time": "2022-03-29T23:43:26.226858",
     "exception": false,
     "start_time": "2022-03-29T23:43:25.887438",
     "status": "completed"
    },
    "tags": []
   },
   "outputs": [
    {
     "name": "stdout",
     "output_type": "stream",
     "text": [
      "With a p-value of 0.03237887956708356 from the chi-squared test, we see that age bins and survival are somewhat related.\n"
     ]
    },
    {
     "data": {
      "image/png": "[encoded data removed]",
      "text/plain": [
       "<Figure size 720x432 with 1 Axes>"
      ]
     },
     "metadata": {
      "needs_background": "light"
     },
     "output_type": "display_data"
    }
   ],
   "source": [
    "age_bin = pd.cut(train.Age,range(0,81,10))\n",
    "age_bin.name = 'Age Binned'\n",
    "age_bin_survive = pd.crosstab(age_bin, train['Survived']).sort_index(axis=1, ascending=False)\n",
    "age_bin_survive.plot.bar(stacked=True, \n",
    "                         title='Survival Based on Age', \n",
    "                         ylabel='Count',\n",
    "                         colormap='winter', \n",
    "                         figsize=(10,6))\n",
    "chi2, p, dof, exp = stats.chi2_contingency(age_bin_survive)\n",
    "print('With a p-value of '+str(p)+' from the chi-squared test, we see that age bins and survival are somewhat related.')"
   ]
  },
  {
   "cell_type": "code",
   "execution_count": 16,
   "id": "511170b8",
   "metadata": {
    "execution": {
     "iopub.execute_input": "2022-03-29T23:43:26.364868Z",
     "iopub.status.busy": "2022-03-29T23:43:26.362785Z",
     "iopub.status.idle": "2022-03-29T23:43:26.629366Z",
     "shell.execute_reply": "2022-03-29T23:43:26.628793Z",
     "shell.execute_reply.started": "2022-03-29T23:42:10.664787Z"
    },
    "papermill": {
     "duration": 0.339351,
     "end_time": "2022-03-29T23:43:26.629511",
     "exception": false,
     "start_time": "2022-03-29T23:43:26.290160",
     "status": "completed"
    },
    "tags": []
   },
   "outputs": [
    {
     "name": "stdout",
     "output_type": "stream",
     "text": [
      "Bins size: 1\tp-value: 0.027324993647482955\n",
      "Bins size: 2\tp-value: 0.1430296644577068\n",
      "Bins size: 3\tp-value: 0.008550428212754615\n",
      "Bins size: 4\tp-value: 0.028533621872558593\n",
      "Bins size: 5\tp-value: 0.007930788925480686\n",
      "Bins size: 10\tp-value: 0.03237887956708356\n",
      "Bins size: 15\tp-value: 0.0007587571581613228\n",
      "Bins size: 20\tp-value: 0.15965998877520762\n",
      "Bins size: 30\tp-value: 0.7597522877775755\n",
      "Bins size: 40\tp-value: 0.31025795198781375\n"
     ]
    }
   ],
   "source": [
    "# Analyzing p-values with a chi-square test for different age bin sizes\n",
    "for i in [1,2,3,4,5,10,15,20,30,40]:\n",
    "    age_bin = pd.cut(train.Age,range(0,81,i))\n",
    "    age_bin.name = 'Age Binned'\n",
    "    age_bin_survive = pd.crosstab(age_bin, train['Survived']).sort_index(axis=1, ascending=False)\n",
    "    chi2, p, dof, exp = stats.chi2_contingency(age_bin_survive)\n",
    "    print('Bins size: '+str(i)+'\\tp-value: '+str(p))"
   ]
  },
  {
   "cell_type": "markdown",
   "id": "ce28814f",
   "metadata": {
    "papermill": {
     "duration": 0.062517,
     "end_time": "2022-03-29T23:43:26.756533",
     "exception": false,
     "start_time": "2022-03-29T23:43:26.694016",
     "status": "completed"
    },
    "tags": []
   },
   "source": [
    "Based on this analysis, bins of size 15 will be the most useful in determining survival."
   ]
  },
  {
   "cell_type": "markdown",
   "id": "0e118257",
   "metadata": {
    "papermill": {
     "duration": 0.062336,
     "end_time": "2022-03-29T23:43:26.881985",
     "exception": false,
     "start_time": "2022-03-29T23:43:26.819649",
     "status": "completed"
    },
    "tags": []
   },
   "source": [
    "### Fare"
   ]
  },
  {
   "cell_type": "code",
   "execution_count": 17,
   "id": "ba6431bb",
   "metadata": {
    "execution": {
     "iopub.execute_input": "2022-03-29T23:43:27.014564Z",
     "iopub.status.busy": "2022-03-29T23:43:27.013892Z",
     "iopub.status.idle": "2022-03-29T23:43:27.205296Z",
     "shell.execute_reply": "2022-03-29T23:43:27.204800Z",
     "shell.execute_reply.started": "2022-03-29T23:42:10.864413Z"
    },
    "papermill": {
     "duration": 0.260244,
     "end_time": "2022-03-29T23:43:27.205442",
     "exception": false,
     "start_time": "2022-03-29T23:43:26.945198",
     "status": "completed"
    },
    "tags": []
   },
   "outputs": [
    {
     "data": {
      "text/plain": [
       "<AxesSubplot:title={'center':'Survival Based on Fare'}, ylabel='Fare'>"
      ]
     },
     "execution_count": 17,
     "metadata": {},
     "output_type": "execute_result"
    },
    {
     "data": {
      "image/png": "[encoded data removed]",
      "text/plain": [
       "<Figure size 720x432 with 1 Axes>"
      ]
     },
     "metadata": {
      "needs_background": "light"
     },
     "output_type": "display_data"
    }
   ],
   "source": [
    "fare_survive = pd.concat([train.Fare[train.Survived==1],\n",
    "                          train.Fare[train.Survived==0]], \n",
    "                          axis=1)\n",
    "fare_survive.columns = ['Survived', 'Perished']\n",
    "fare_survive.plot.box(title='Survival Based on Fare', \n",
    "                      ylabel='Fare',\n",
    "                      figsize=(10,6))"
   ]
  },
  {
   "cell_type": "code",
   "execution_count": 18,
   "id": "ff8105b8",
   "metadata": {
    "execution": {
     "iopub.execute_input": "2022-03-29T23:43:27.339259Z",
     "iopub.status.busy": "2022-03-29T23:43:27.338660Z",
     "iopub.status.idle": "2022-03-29T23:43:27.345426Z",
     "shell.execute_reply": "2022-03-29T23:43:27.345889Z",
     "shell.execute_reply.started": "2022-03-29T23:42:11.075833Z"
    },
    "papermill": {
     "duration": 0.074979,
     "end_time": "2022-03-29T23:43:27.346054",
     "exception": false,
     "start_time": "2022-03-29T23:43:27.271075",
     "status": "completed"
    },
    "tags": []
   },
   "outputs": [
    {
     "name": "stdout",
     "output_type": "stream",
     "text": [
      "Fare is not normally distributed.\n",
      "p = 3.727091062842147e-197\n"
     ]
    }
   ],
   "source": [
    "# Testing the Fare column to see if it is a normal distribution\n",
    "stat, p = normaltest(train.Fare,\n",
    "                     nan_policy='omit')\n",
    "if p<1e-3:\n",
    "    print('Fare is not normally distributed.\\np = '+str(p))\n",
    "else:\n",
    "    print('Fare is normally distributed.\\np = '+str(p))"
   ]
  },
  {
   "cell_type": "code",
   "execution_count": 19,
   "id": "18632eee",
   "metadata": {
    "execution": {
     "iopub.execute_input": "2022-03-29T23:43:27.482059Z",
     "iopub.status.busy": "2022-03-29T23:43:27.481470Z",
     "iopub.status.idle": "2022-03-29T23:43:27.499399Z",
     "shell.execute_reply": "2022-03-29T23:43:27.499832Z",
     "shell.execute_reply.started": "2022-03-29T23:42:11.087742Z"
    },
    "papermill": {
     "duration": 0.08889,
     "end_time": "2022-03-29T23:43:27.500012",
     "exception": false,
     "start_time": "2022-03-29T23:43:27.411122",
     "status": "completed"
    },
    "tags": []
   },
   "outputs": [
    {
     "name": "stdout",
     "output_type": "stream",
     "text": [
      "The median of the survived and perished age groups are not equal.\n",
      "p = 4.547532067492866e-22\n"
     ]
    }
   ],
   "source": [
    "H, p = kruskal(fare_survive['Survived'],\n",
    "               fare_survive['Perished'], \n",
    "               nan_policy='omit')\n",
    "if p<1e-3:\n",
    "    print('The median of the survived and perished age groups are not equal.\\np = '+str(p))\n",
    "else:\n",
    "    print('The median of the survived and perished age groups are equal.\\np = '+str(p))"
   ]
  },
  {
   "cell_type": "markdown",
   "id": "d345d5be",
   "metadata": {
    "papermill": {
     "duration": 0.065274,
     "end_time": "2022-03-29T23:43:27.634042",
     "exception": false,
     "start_time": "2022-03-29T23:43:27.568768",
     "status": "completed"
    },
    "tags": []
   },
   "source": [
    "Because the medians are significantly different, Fare can be used to help determine whether a passenger survived."
   ]
  },
  {
   "cell_type": "code",
   "execution_count": 20,
   "id": "16924e03",
   "metadata": {
    "execution": {
     "iopub.execute_input": "2022-03-29T23:43:27.774832Z",
     "iopub.status.busy": "2022-03-29T23:43:27.774191Z",
     "iopub.status.idle": "2022-03-29T23:43:28.028242Z",
     "shell.execute_reply": "2022-03-29T23:43:28.027728Z",
     "shell.execute_reply.started": "2022-03-29T23:42:11.134637Z"
    },
    "papermill": {
     "duration": 0.328865,
     "end_time": "2022-03-29T23:43:28.028386",
     "exception": false,
     "start_time": "2022-03-29T23:43:27.699521",
     "status": "completed"
    },
    "tags": []
   },
   "outputs": [
    {
     "data": {
      "text/plain": [
       "<AxesSubplot:title={'center':'Survival by Fare'}, xlabel='Fare', ylabel='Count'>"
      ]
     },
     "execution_count": 20,
     "metadata": {},
     "output_type": "execute_result"
    },
    {
     "data": {
      "image/png": "[encoded data removed]",
      "text/plain": [
       "<Figure size 864x432 with 1 Axes>"
      ]
     },
     "metadata": {
      "needs_background": "light"
     },
     "output_type": "display_data"
    }
   ],
   "source": [
    "fare_survive_group = train.groupby('Survived').Fare.value_counts().sort_index()\n",
    "fare_survive_count = pd.concat([fare_survive_group[1],\n",
    "                                fare_survive_group[0]], \n",
    "                                axis=1)\n",
    "fare_survive_count.columns = ['Survived','Perished']\n",
    "fare_survive_count.plot.area(title='Survival by Fare', \n",
    "                             ylabel='Count',\n",
    "                             colormap='winter', \n",
    "                             figsize=(12,6))"
   ]
  },
  {
   "cell_type": "markdown",
   "id": "e32fc2c6",
   "metadata": {
    "papermill": {
     "duration": 0.064891,
     "end_time": "2022-03-29T23:43:28.161533",
     "exception": false,
     "start_time": "2022-03-29T23:43:28.096642",
     "status": "completed"
    },
    "tags": []
   },
   "source": [
    "### Ticket"
   ]
  },
  {
   "cell_type": "code",
   "execution_count": 21,
   "id": "dde9f4ad",
   "metadata": {
    "execution": {
     "iopub.execute_input": "2022-03-29T23:43:28.297304Z",
     "iopub.status.busy": "2022-03-29T23:43:28.296640Z",
     "iopub.status.idle": "2022-03-29T23:43:28.302042Z",
     "shell.execute_reply": "2022-03-29T23:43:28.302536Z",
     "shell.execute_reply.started": "2022-03-29T23:42:11.376287Z"
    },
    "papermill": {
     "duration": 0.075551,
     "end_time": "2022-03-29T23:43:28.302701",
     "exception": false,
     "start_time": "2022-03-29T23:43:28.227150",
     "status": "completed"
    },
    "tags": []
   },
   "outputs": [
    {
     "data": {
      "text/plain": [
       "array(['A/5 21171', 'PC 17599', 'STON/O2. 3101282', '113803', '373450',\n",
       "       '330877', '17463', '349909', '347742', '237736', 'PP 9549',\n",
       "       '113783', 'A/5. 2151', '347082', '350406', '248706', '382652',\n",
       "       '244373', '345763', '2649', '239865', '248698', '330923', '113788',\n",
       "       '347077', '2631', '19950', '330959', '349216', 'PC 17601',\n",
       "       'PC 17569', '335677', 'C.A. 24579', 'PC 17604', '113789', '2677',\n",
       "       'A./5. 2152', '345764', '2651', '7546', '11668', '349253',\n",
       "       'SC/Paris 2123', '330958', 'S.C./A.4. 23567', '370371', '14311',\n",
       "       '2662', '349237', '3101295', 'A/4. 39886', 'PC 17572', '2926',\n",
       "       '113509', '19947', 'C.A. 31026', '2697', 'C.A. 34651', 'CA 2144',\n",
       "       '2669', '113572', '36973', '347088', 'PC 17605', '2661',\n",
       "       'C.A. 29395', 'S.P. 3464', '3101281', '315151', 'C.A. 33111',\n",
       "       'S.O.C. 14879', '2680', '1601', '348123', '349208', '374746',\n",
       "       '248738', '364516', '345767', '345779', '330932', '113059',\n",
       "       'SO/C 14885', '3101278', 'W./C. 6608', 'SOTON/OQ 392086', '343275',\n",
       "       '343276', '347466', 'W.E.P. 5734', 'C.A. 2315', '364500', '374910',\n",
       "       'PC 17754', 'PC 17759', '231919', '244367', '349245', '349215',\n",
       "       '35281', '7540', '3101276', '349207', '343120', '312991', '349249',\n",
       "       '371110', '110465', '2665', '324669', '4136', '2627',\n",
       "       'STON/O 2. 3101294', '370369', 'PC 17558', 'A4. 54510', '27267',\n",
       "       '370372', 'C 17369', '2668', '347061', '349241',\n",
       "       'SOTON/O.Q. 3101307', 'A/5. 3337', '228414', 'C.A. 29178',\n",
       "       'SC/PARIS 2133', '11752', '7534', 'PC 17593', '2678', '347081',\n",
       "       'STON/O2. 3101279', '365222', '231945', 'C.A. 33112', '350043',\n",
       "       '230080', '244310', 'S.O.P. 1166', '113776', 'A.5. 11206',\n",
       "       'A/5. 851', 'Fa 265302', 'PC 17597', '35851', 'SOTON/OQ 392090',\n",
       "       '315037', 'CA. 2343', '371362', 'C.A. 33595', '347068', '315093',\n",
       "       '363291', '113505', 'PC 17318', '111240', 'STON/O 2. 3101280',\n",
       "       '17764', '350404', '4133', 'PC 17595', '250653', 'LINE',\n",
       "       'SC/PARIS 2131', '230136', '315153', '113767', '370365', '111428',\n",
       "       '364849', '349247', '234604', '28424', '350046', 'PC 17610',\n",
       "       '368703', '4579', '370370', '248747', '345770', '3101264', '2628',\n",
       "       'A/5 3540', '347054', '2699', '367231', '112277',\n",
       "       'SOTON/O.Q. 3101311', 'F.C.C. 13528', 'A/5 21174', '250646',\n",
       "       '367229', '35273', 'STON/O2. 3101283', '243847', '11813',\n",
       "       'W/C 14208', 'SOTON/OQ 392089', '220367', '21440', '349234',\n",
       "       '19943', 'PP 4348', 'SW/PP 751', 'A/5 21173', '236171', '347067',\n",
       "       '237442', 'C.A. 29566', 'W./C. 6609', '26707', 'C.A. 31921',\n",
       "       '28665', 'SCO/W 1585', '367230', 'W./C. 14263',\n",
       "       'STON/O 2. 3101275', '2694', '19928', '347071', '250649', '11751',\n",
       "       '244252', '362316', '113514', 'A/5. 3336', '370129', '2650',\n",
       "       'PC 17585', '110152', 'PC 17755', '230433', '384461', '110413',\n",
       "       '112059', '382649', 'C.A. 17248', '347083', 'PC 17582', 'PC 17760',\n",
       "       '113798', '250644', 'PC 17596', '370375', '13502', '347073',\n",
       "       '239853', 'C.A. 2673', '336439', '347464', '345778', 'A/5. 10482',\n",
       "       '113056', '349239', '345774', '349206', '237798', '370373',\n",
       "       '19877', '11967', 'SC/Paris 2163', '349236', '349233', 'PC 17612',\n",
       "       '2693', '113781', '19988', '9234', '367226', '226593', 'A/5 2466',\n",
       "       '17421', 'PC 17758', 'P/PP 3381', 'PC 17485', '11767', 'PC 17608',\n",
       "       '250651', '349243', 'F.C.C. 13529', '347470', '29011', '36928',\n",
       "       '16966', 'A/5 21172', '349219', '234818', '345364', '28551',\n",
       "       '111361', '113043', 'PC 17611', '349225', '7598', '113784',\n",
       "       '248740', '244361', '229236', '248733', '31418', '386525',\n",
       "       'C.A. 37671', '315088', '7267', '113510', '2695', '2647', '345783',\n",
       "       '237671', '330931', '330980', 'SC/PARIS 2167', '2691',\n",
       "       'SOTON/O.Q. 3101310', 'C 7076', '110813', '2626', '14313',\n",
       "       'PC 17477', '11765', '3101267', '323951', 'C 7077', '113503',\n",
       "       '2648', '347069', 'PC 17757', '2653', 'STON/O 2. 3101293',\n",
       "       '349227', '27849', '367655', 'SC 1748', '113760', '350034',\n",
       "       '3101277', '350052', '350407', '28403', '244278', '240929',\n",
       "       'STON/O 2. 3101289', '341826', '4137', '315096', '28664', '347064',\n",
       "       '29106', '312992', '349222', '394140', 'STON/O 2. 3101269',\n",
       "       '343095', '28220', '250652', '28228', '345773', '349254',\n",
       "       'A/5. 13032', '315082', '347080', 'A/4. 34244', '2003', '250655',\n",
       "       '364851', 'SOTON/O.Q. 392078', '110564', '376564', 'SC/AH 3085',\n",
       "       'STON/O 2. 3101274', '13507', 'C.A. 18723', '345769', '347076',\n",
       "       '230434', '65306', '33638', '113794', '2666', '113786', '65303',\n",
       "       '113051', '17453', 'A/5 2817', '349240', '13509', '17464',\n",
       "       'F.C.C. 13531', '371060', '19952', '364506', '111320', '234360',\n",
       "       'A/S 2816', 'SOTON/O.Q. 3101306', '113792', '36209', '323592',\n",
       "       '315089', 'SC/AH Basle 541', '7553', '31027', '3460', '350060',\n",
       "       '3101298', '239854', 'A/5 3594', '4134', '11771', 'A.5. 18509',\n",
       "       '65304', 'SOTON/OQ 3101317', '113787', 'PC 17609', 'A/4 45380',\n",
       "       '36947', 'C.A. 6212', '350035', '315086', '364846', '330909',\n",
       "       '4135', '26360', '111427', 'C 4001', '382651', 'SOTON/OQ 3101316',\n",
       "       'PC 17473', 'PC 17603', '349209', '36967', 'C.A. 34260', '226875',\n",
       "       '349242', '12749', '349252', '2624', '2700', '367232',\n",
       "       'W./C. 14258', 'PC 17483', '3101296', '29104', '2641', '2690',\n",
       "       '315084', '113050', 'PC 17761', '364498', '13568', 'WE/P 5735',\n",
       "       '2908', '693', 'SC/PARIS 2146', '244358', '330979', '2620',\n",
       "       '347085', '113807', '11755', '345572', '372622', '349251',\n",
       "       '218629', 'SOTON/OQ 392082', 'SOTON/O.Q. 392087', 'A/4 48871',\n",
       "       '349205', '2686', '350417', 'S.W./PP 752', '11769', 'PC 17474',\n",
       "       '14312', 'A/4. 20589', '358585', '243880', '2689',\n",
       "       'STON/O 2. 3101286', '237789', '13049', '3411', '237565', '13567',\n",
       "       '14973', 'A./5. 3235', 'STON/O 2. 3101273', 'A/5 3902', '364848',\n",
       "       'SC/AH 29037', '248727', '2664', '349214', '113796', '364511',\n",
       "       '111426', '349910', '349246', '113804', 'SOTON/O.Q. 3101305',\n",
       "       '370377', '364512', '220845', '31028', '2659', '11753', '350029',\n",
       "       '54636', '36963', '219533', '349224', '334912', '27042', '347743',\n",
       "       '13214', '112052', '237668', 'STON/O 2. 3101292', '350050',\n",
       "       '349231', '13213', 'S.O./P.P. 751', 'CA. 2314', '349221', '8475',\n",
       "       '330919', '365226', '349223', '29751', '2623', '5727', '349210',\n",
       "       'STON/O 2. 3101285', '234686', '312993', 'A/5 3536', '19996',\n",
       "       '29750', 'F.C. 12750', 'C.A. 24580', '244270', '239856', '349912',\n",
       "       '342826', '4138', '330935', '6563', '349228', '350036', '24160',\n",
       "       '17474', '349256', '2672', '113800', '248731', '363592', '35852',\n",
       "       '348121', 'PC 17475', '36864', '350025', '223596', 'PC 17476',\n",
       "       'PC 17482', '113028', '7545', '250647', '348124', '34218', '36568',\n",
       "       '347062', '350048', '12233', '250643', '113806', '315094', '36866',\n",
       "       '236853', 'STON/O2. 3101271', '239855', '28425', '233639',\n",
       "       '349201', '349218', '16988', '376566', 'STON/O 2. 3101288',\n",
       "       '250648', '113773', '335097', '29103', '392096', '345780',\n",
       "       '349204', '350042', '29108', '363294', 'SOTON/O2 3101272', '2663',\n",
       "       '347074', '112379', '364850', '8471', '345781', '350047',\n",
       "       'S.O./P.P. 3', '2674', '29105', '347078', '383121', '36865',\n",
       "       '2687', '113501', 'W./C. 6607', 'SOTON/O.Q. 3101312', '374887',\n",
       "       '3101265', '12460', 'PC 17600', '349203', '28213', '17465',\n",
       "       '349244', '2685', '2625', '347089', '347063', '112050', '347087',\n",
       "       '248723', '3474', '28206', '364499', '112058', 'STON/O2. 3101290',\n",
       "       'S.C./PARIS 2079', 'C 7075', '315098', '19972', '368323', '367228',\n",
       "       '2671', '347468', '2223', 'PC 17756', '315097', '392092', '11774',\n",
       "       'SOTON/O2 3101287', '2683', '315090', 'C.A. 5547', '349213',\n",
       "       '347060', 'PC 17592', '392091', '113055', '2629', '350026',\n",
       "       '28134', '17466', '233866', '236852', 'SC/PARIS 2149', 'PC 17590',\n",
       "       '345777', '349248', '695', '345765', '2667', '349212', '349217',\n",
       "       '349257', '7552', 'C.A./SOTON 34068', 'SOTON/OQ 392076', '211536',\n",
       "       '112053', '111369', '370376'], dtype=object)"
      ]
     },
     "execution_count": 21,
     "metadata": {},
     "output_type": "execute_result"
    }
   ],
   "source": [
    "train.Ticket.unique()"
   ]
  },
  {
   "cell_type": "markdown",
   "id": "0a2aac57",
   "metadata": {
    "papermill": {
     "duration": 0.065778,
     "end_time": "2022-03-29T23:43:28.434797",
     "exception": false,
     "start_time": "2022-03-29T23:43:28.369019",
     "status": "completed"
    },
    "tags": []
   },
   "source": [
    "The Ticket category has a high number of unique values and does not seem to follow a standard convention. Many values are only numbers, some have both letters and numbers, and a few have only letters. Because of this and the fact that, logically, ticket number is not likely to be related to survival, this category will be excluded."
   ]
  },
  {
   "cell_type": "markdown",
   "id": "64148388",
   "metadata": {
    "papermill": {
     "duration": 0.066289,
     "end_time": "2022-03-29T23:43:28.567075",
     "exception": false,
     "start_time": "2022-03-29T23:43:28.500786",
     "status": "completed"
    },
    "tags": []
   },
   "source": [
    "### Cabin"
   ]
  },
  {
   "cell_type": "code",
   "execution_count": 22,
   "id": "27ee0a26",
   "metadata": {
    "execution": {
     "iopub.execute_input": "2022-03-29T23:43:28.704758Z",
     "iopub.status.busy": "2022-03-29T23:43:28.702311Z",
     "iopub.status.idle": "2022-03-29T23:43:28.707775Z",
     "shell.execute_reply": "2022-03-29T23:43:28.708295Z",
     "shell.execute_reply.started": "2022-03-29T23:42:11.391097Z"
    },
    "papermill": {
     "duration": 0.075119,
     "end_time": "2022-03-29T23:43:28.708487",
     "exception": false,
     "start_time": "2022-03-29T23:43:28.633368",
     "status": "completed"
    },
    "tags": []
   },
   "outputs": [
    {
     "data": {
      "text/plain": [
       "array([nan, 'C85', 'C123', 'E46', 'G6', 'C103', 'D56', 'A6',\n",
       "       'C23 C25 C27', 'B78', 'D33', 'B30', 'C52', 'B28', 'C83', 'F33',\n",
       "       'F G73', 'E31', 'A5', 'D10 D12', 'D26', 'C110', 'B58 B60', 'E101',\n",
       "       'F E69', 'D47', 'B86', 'F2', 'C2', 'E33', 'B19', 'A7', 'C49', 'F4',\n",
       "       'A32', 'B4', 'B80', 'A31', 'D36', 'D15', 'C93', 'C78', 'D35',\n",
       "       'C87', 'B77', 'E67', 'B94', 'C125', 'C99', 'C118', 'D7', 'A19',\n",
       "       'B49', 'D', 'C22 C26', 'C106', 'C65', 'E36', 'C54',\n",
       "       'B57 B59 B63 B66', 'C7', 'E34', 'C32', 'B18', 'C124', 'C91', 'E40',\n",
       "       'T', 'C128', 'D37', 'B35', 'E50', 'C82', 'B96 B98', 'E10', 'E44',\n",
       "       'A34', 'C104', 'C111', 'C92', 'E38', 'D21', 'E12', 'E63', 'A14',\n",
       "       'B37', 'C30', 'D20', 'B79', 'E25', 'D46', 'B73', 'C95', 'B38',\n",
       "       'B39', 'B22', 'C86', 'C70', 'A16', 'C101', 'C68', 'A10', 'E68',\n",
       "       'B41', 'A20', 'D19', 'D50', 'D9', 'A23', 'B50', 'A26', 'D48',\n",
       "       'E58', 'C126', 'B71', 'B51 B53 B55', 'D49', 'B5', 'B20', 'F G63',\n",
       "       'C62 C64', 'E24', 'C90', 'C45', 'E8', 'B101', 'D45', 'C46', 'D30',\n",
       "       'E121', 'D11', 'E77', 'F38', 'B3', 'D6', 'B82 B84', 'D17', 'A36',\n",
       "       'B102', 'B69', 'E49', 'C47', 'D28', 'E17', 'A24', 'C50', 'B42',\n",
       "       'C148'], dtype=object)"
      ]
     },
     "execution_count": 22,
     "metadata": {},
     "output_type": "execute_result"
    }
   ],
   "source": [
    "train.Cabin.unique()"
   ]
  },
  {
   "cell_type": "code",
   "execution_count": 23,
   "id": "6135e4e1",
   "metadata": {
    "execution": {
     "iopub.execute_input": "2022-03-29T23:43:28.847468Z",
     "iopub.status.busy": "2022-03-29T23:43:28.846836Z",
     "iopub.status.idle": "2022-03-29T23:43:29.184508Z",
     "shell.execute_reply": "2022-03-29T23:43:29.183978Z",
     "shell.execute_reply.started": "2022-03-29T23:42:11.415085Z"
    },
    "papermill": {
     "duration": 0.408628,
     "end_time": "2022-03-29T23:43:29.184657",
     "exception": false,
     "start_time": "2022-03-29T23:43:28.776029",
     "status": "completed"
    },
    "tags": []
   },
   "outputs": [
    {
     "name": "stdout",
     "output_type": "stream",
     "text": [
      "With a p-value of 0.2164406943045198 from the chi-squared test, we see that cabin letter and survival are not related.\n"
     ]
    },
    {
     "data": {
      "image/png": "[encoded data removed]",
      "text/plain": [
       "<Figure size 720x432 with 1 Axes>"
      ]
     },
     "metadata": {
      "needs_background": "light"
     },
     "output_type": "display_data"
    }
   ],
   "source": [
    "cabin_letter = train.Cabin.str.replace('[0-9]','',regex=True)\n",
    "cabin_letter_survive = pd.crosstab(cabin_letter, train['Survived']).sort_index(axis=1, ascending=False)\n",
    "cabin_letter_survive.plot.bar(stacked=True, \n",
    "                              title='Survival Based on Cabin Letter', \n",
    "                              ylabel='Count',\n",
    "                              colormap='winter', \n",
    "                              figsize=(10,6))\n",
    "chi2, p, dof, exp = stats.chi2_contingency(cabin_letter_survive)\n",
    "print('With a p-value of '+str(p)+' from the chi-squared test, we see that cabin letter and survival are not related.')"
   ]
  },
  {
   "cell_type": "code",
   "execution_count": 24,
   "id": "0df54276",
   "metadata": {
    "execution": {
     "iopub.execute_input": "2022-03-29T23:43:29.326389Z",
     "iopub.status.busy": "2022-03-29T23:43:29.325404Z",
     "iopub.status.idle": "2022-03-29T23:43:30.865053Z",
     "shell.execute_reply": "2022-03-29T23:43:30.864075Z",
     "shell.execute_reply.started": "2022-03-29T23:42:11.703788Z"
    },
    "papermill": {
     "duration": 1.612136,
     "end_time": "2022-03-29T23:43:30.865349",
     "exception": false,
     "start_time": "2022-03-29T23:43:29.253213",
     "status": "completed"
    },
    "tags": []
   },
   "outputs": [
    {
     "name": "stdout",
     "output_type": "stream",
     "text": [
      "With a p-value of 0.09997787488172845 from the chi-squared test, we see that cabin number and survival are not related.\n"
     ]
    },
    {
     "data": {
      "image/png": "[encoded data removed]",
      "text/plain": [
       "<Figure size 720x432 with 1 Axes>"
      ]
     },
     "metadata": {
      "needs_background": "light"
     },
     "output_type": "display_data"
    }
   ],
   "source": [
    "cabin_num = train.Cabin.str.replace('[A-Z]','',regex=True)\n",
    "cabin_num_survive = pd.crosstab(cabin_num, train['Survived']).sort_index(axis=1, ascending=False)\n",
    "cabin_num_survive.plot.bar(stacked=True, \n",
    "                           title='Survival Based on Cabin Number', \n",
    "                           ylabel='Count',\n",
    "                           colormap='winter', \n",
    "                           figsize=(10,6))\n",
    "chi2, p, dof, exp = stats.chi2_contingency(cabin_num_survive)\n",
    "print('With a p-value of '+str(p)+' from the chi-squared test, we see that cabin number and survival are not related.')"
   ]
  },
  {
   "cell_type": "markdown",
   "id": "d2034213",
   "metadata": {
    "papermill": {
     "duration": 0.069941,
     "end_time": "2022-03-29T23:43:31.009677",
     "exception": false,
     "start_time": "2022-03-29T23:43:30.939736",
     "status": "completed"
    },
    "tags": []
   },
   "source": [
    "### Embarked"
   ]
  },
  {
   "cell_type": "code",
   "execution_count": 25,
   "id": "331b064a",
   "metadata": {
    "execution": {
     "iopub.execute_input": "2022-03-29T23:43:31.157579Z",
     "iopub.status.busy": "2022-03-29T23:43:31.156756Z",
     "iopub.status.idle": "2022-03-29T23:43:31.160514Z",
     "shell.execute_reply": "2022-03-29T23:43:31.159888Z",
     "shell.execute_reply.started": "2022-03-29T23:42:13.262557Z"
    },
    "papermill": {
     "duration": 0.079754,
     "end_time": "2022-03-29T23:43:31.160651",
     "exception": false,
     "start_time": "2022-03-29T23:43:31.080897",
     "status": "completed"
    },
    "tags": []
   },
   "outputs": [
    {
     "data": {
      "text/plain": [
       "array(['S', 'C', 'Q', nan], dtype=object)"
      ]
     },
     "execution_count": 25,
     "metadata": {},
     "output_type": "execute_result"
    }
   ],
   "source": [
    "train.Embarked.unique()"
   ]
  },
  {
   "cell_type": "code",
   "execution_count": 26,
   "id": "50c9062b",
   "metadata": {
    "execution": {
     "iopub.execute_input": "2022-03-29T23:43:31.310205Z",
     "iopub.status.busy": "2022-03-29T23:43:31.309187Z",
     "iopub.status.idle": "2022-03-29T23:43:31.549439Z",
     "shell.execute_reply": "2022-03-29T23:43:31.548888Z",
     "shell.execute_reply.started": "2022-03-29T23:42:13.273257Z"
    },
    "papermill": {
     "duration": 0.317969,
     "end_time": "2022-03-29T23:43:31.549605",
     "exception": false,
     "start_time": "2022-03-29T23:43:31.231636",
     "status": "completed"
    },
    "tags": []
   },
   "outputs": [
    {
     "name": "stdout",
     "output_type": "stream",
     "text": [
      "With a p-value of 1.769922284120912e-06 from the chi-squared test, we see that embark point and survival are related.\n"
     ]
    },
    {
     "data": {
      "image/png": "[encoded data removed]",
      "text/plain": [
       "<Figure size 720x432 with 1 Axes>"
      ]
     },
     "metadata": {
      "needs_background": "light"
     },
     "output_type": "display_data"
    }
   ],
   "source": [
    "embarked_survive = pd.crosstab(train['Embarked'], train['Survived']).sort_index(axis=1, ascending=False)\n",
    "embarked_survive.plot.bar(stacked=True, \n",
    "                          title='Survival Based on Embark Point', \n",
    "                          ylabel='Count',\n",
    "                          colormap='winter', \n",
    "                          figsize=(10,6))\n",
    "chi2, p, dof, exp = stats.chi2_contingency(embarked_survive)\n",
    "print('With a p-value of '+str(p)+' from the chi-squared test, we see that embark point and survival are related.')"
   ]
  },
  {
   "cell_type": "markdown",
   "id": "71485f1e",
   "metadata": {
    "papermill": {
     "duration": 0.072329,
     "end_time": "2022-03-29T23:43:31.695730",
     "exception": false,
     "start_time": "2022-03-29T23:43:31.623401",
     "status": "completed"
    },
    "tags": []
   },
   "source": [
    "# <mark> TODO <mark>\n",
    "    \n",
    "   Create table identifying viable categories"
   ]
  },
  {
   "cell_type": "markdown",
   "id": "d82f411f",
   "metadata": {
    "papermill": {
     "duration": 0.072754,
     "end_time": "2022-03-29T23:43:31.842076",
     "exception": false,
     "start_time": "2022-03-29T23:43:31.769322",
     "status": "completed"
    },
    "tags": []
   },
   "source": [
    "### Missing Values"
   ]
  },
  {
   "cell_type": "code",
   "execution_count": 27,
   "id": "12f1d4d9",
   "metadata": {
    "execution": {
     "iopub.execute_input": "2022-03-29T23:43:31.988510Z",
     "iopub.status.busy": "2022-03-29T23:43:31.987785Z",
     "iopub.status.idle": "2022-03-29T23:43:32.002931Z",
     "shell.execute_reply": "2022-03-29T23:43:32.003519Z",
     "shell.execute_reply.started": "2022-03-29T23:42:13.514306Z"
    },
    "papermill": {
     "duration": 0.090435,
     "end_time": "2022-03-29T23:43:32.003712",
     "exception": false,
     "start_time": "2022-03-29T23:43:31.913277",
     "status": "completed"
    },
    "tags": []
   },
   "outputs": [
    {
     "name": "stdout",
     "output_type": "stream",
     "text": [
      "Training Data\n",
      "(668, 8)\n",
      "Age         132\n",
      "Cabin       519\n",
      "Embarked      2\n",
      "dtype: int64\n",
      "\n",
      "Validation Data\n",
      "(223, 8)\n",
      "Age       45\n",
      "Cabin    168\n",
      "dtype: int64\n",
      "\n",
      "Testing Data\n",
      "(418, 8)\n",
      "Age       86\n",
      "Fare       1\n",
      "Cabin    327\n",
      "dtype: int64\n"
     ]
    }
   ],
   "source": [
    "# Checking for columns with missing values\n",
    "print('Training Data')\n",
    "print(X_train.shape)\n",
    "miss_val_col = X_train.isnull().sum()\n",
    "print(miss_val_col[miss_val_col>0])\n",
    "\n",
    "print('\\nValidation Data')\n",
    "print(X_val.shape)\n",
    "miss_val_col = X_val.isnull().sum()\n",
    "print(miss_val_col[miss_val_col>0])\n",
    "\n",
    "print('\\nTesting Data')\n",
    "print(X_test.shape)\n",
    "miss_val_col = X_test.isnull().sum()\n",
    "print(miss_val_col[miss_val_col>0])"
   ]
  },
  {
   "cell_type": "code",
   "execution_count": 28,
   "id": "6919a166",
   "metadata": {
    "execution": {
     "iopub.execute_input": "2022-03-29T23:43:32.158653Z",
     "iopub.status.busy": "2022-03-29T23:43:32.157952Z",
     "iopub.status.idle": "2022-03-29T23:43:32.160268Z",
     "shell.execute_reply": "2022-03-29T23:43:32.160767Z",
     "shell.execute_reply.started": "2022-03-29T23:42:13.531783Z"
    },
    "papermill": {
     "duration": 0.083878,
     "end_time": "2022-03-29T23:43:32.160951",
     "exception": false,
     "start_time": "2022-03-29T23:43:32.077073",
     "status": "completed"
    },
    "tags": []
   },
   "outputs": [],
   "source": [
    "X = X.drop('Cabin', axis=1)\n",
    "X_train = X_train.drop('Cabin', axis=1)\n",
    "X_val = X_val.drop('Cabin', axis=1)\n",
    "X_test = X_test.drop('Cabin', axis=1)"
   ]
  },
  {
   "cell_type": "code",
   "execution_count": 29,
   "id": "dbbbc006",
   "metadata": {
    "execution": {
     "iopub.execute_input": "2022-03-29T23:43:32.315075Z",
     "iopub.status.busy": "2022-03-29T23:43:32.314428Z",
     "iopub.status.idle": "2022-03-29T23:43:32.323551Z",
     "shell.execute_reply": "2022-03-29T23:43:32.324036Z",
     "shell.execute_reply.started": "2022-03-29T23:42:13.550337Z"
    },
    "papermill": {
     "duration": 0.090343,
     "end_time": "2022-03-29T23:43:32.324229",
     "exception": false,
     "start_time": "2022-03-29T23:43:32.233886",
     "status": "completed"
    },
    "tags": []
   },
   "outputs": [
    {
     "name": "stdout",
     "output_type": "stream",
     "text": [
      "Pclass        int64\n",
      "Sex          object\n",
      "Age         float64\n",
      "SibSp         int64\n",
      "Parch         int64\n",
      "Fare        float64\n",
      "Embarked     object\n",
      "dtype: object\n",
      "\n",
      "Unique values of categorical columns:\n",
      " Sex         2\n",
      "Embarked    3\n",
      "dtype: int64\n",
      "\n",
      "Numerical columns:\n",
      " Index(['Pclass', 'Age', 'SibSp', 'Parch', 'Fare'], dtype='object')\n"
     ]
    }
   ],
   "source": [
    "# Identifying categorical and numerical columns\n",
    "print(X_train.dtypes)\n",
    "cat_cols = X_train.columns[X_train.dtypes == 'object']\n",
    "print('\\nUnique values of categorical columns:\\n',X_train[cat_cols].nunique())\n",
    "\n",
    "num_cols = X_train.columns.drop(cat_cols)\n",
    "print('\\nNumerical columns:\\n',num_cols)"
   ]
  },
  {
   "cell_type": "markdown",
   "id": "ffd83722",
   "metadata": {
    "papermill": {
     "duration": 0.072089,
     "end_time": "2022-03-29T23:43:32.469802",
     "exception": false,
     "start_time": "2022-03-29T23:43:32.397713",
     "status": "completed"
    },
    "tags": []
   },
   "source": [
    "## Preprocessing"
   ]
  },
  {
   "cell_type": "code",
   "execution_count": 30,
   "id": "2943daa7",
   "metadata": {
    "execution": {
     "iopub.execute_input": "2022-03-29T23:43:32.621179Z",
     "iopub.status.busy": "2022-03-29T23:43:32.620481Z",
     "iopub.status.idle": "2022-03-29T23:43:32.755335Z",
     "shell.execute_reply": "2022-03-29T23:43:32.754750Z",
     "shell.execute_reply.started": "2022-03-29T23:42:13.571380Z"
    },
    "papermill": {
     "duration": 0.214315,
     "end_time": "2022-03-29T23:43:32.755536",
     "exception": false,
     "start_time": "2022-03-29T23:43:32.541221",
     "status": "completed"
    },
    "tags": []
   },
   "outputs": [],
   "source": [
    "from sklearn.compose import ColumnTransformer\n",
    "from sklearn.pipeline import Pipeline\n",
    "from sklearn.impute import SimpleImputer\n",
    "from sklearn.preprocessing import OrdinalEncoder\n",
    "from sklearn.preprocessing import OneHotEncoder\n",
    "\n",
    "# Numerical data preprocessing\n",
    "num_preproc = SimpleImputer(strategy='mean')\n",
    "\n",
    "# Categorical data preprocesseing\n",
    "cat_preproc = Pipeline(steps=[\n",
    "    ('imputer',SimpleImputer(strategy='most_frequent')),\n",
    "    ('onehot',OrdinalEncoder(handle_unknown='error'))\n",
    "])\n",
    "\n",
    "# Combining numerical and categorical preprocessors\n",
    "preproc = ColumnTransformer(transformers=[\n",
    "    ('num',num_preproc,num_cols),\n",
    "    ('cat',cat_preproc,cat_cols)\n",
    "])"
   ]
  },
  {
   "cell_type": "markdown",
   "id": "eab5932c",
   "metadata": {
    "papermill": {
     "duration": 0.073489,
     "end_time": "2022-03-29T23:43:32.907558",
     "exception": false,
     "start_time": "2022-03-29T23:43:32.834069",
     "status": "completed"
    },
    "tags": []
   },
   "source": [
    "#### Selecting Best Features"
   ]
  },
  {
   "cell_type": "code",
   "execution_count": 31,
   "id": "74c11a6e",
   "metadata": {
    "execution": {
     "iopub.execute_input": "2022-03-29T23:43:33.061363Z",
     "iopub.status.busy": "2022-03-29T23:43:33.060568Z",
     "iopub.status.idle": "2022-03-29T23:43:33.091151Z",
     "shell.execute_reply": "2022-03-29T23:43:33.091728Z",
     "shell.execute_reply.started": "2022-03-29T23:42:13.796176Z"
    },
    "papermill": {
     "duration": 0.110469,
     "end_time": "2022-03-29T23:43:33.091921",
     "exception": false,
     "start_time": "2022-03-29T23:43:32.981452",
     "status": "completed"
    },
    "tags": []
   },
   "outputs": [],
   "source": [
    "from sklearn.feature_selection import GenericUnivariateSelect, chi2\n",
    "\n",
    "X_proc = pd.DataFrame(preproc.fit_transform(X))\n",
    "X_proc.columns = X.columns\n",
    "X_proc.head()\n",
    "\n",
    "feat_selector = GenericUnivariateSelect(chi2, mode='fpr')\n",
    "\n",
    "X_best = feat_selector.fit_transform(X_proc, y)"
   ]
  },
  {
   "cell_type": "code",
   "execution_count": 32,
   "id": "5aeb0e16",
   "metadata": {
    "execution": {
     "iopub.execute_input": "2022-03-29T23:43:33.238446Z",
     "iopub.status.busy": "2022-03-29T23:43:33.237778Z",
     "iopub.status.idle": "2022-03-29T23:43:33.242681Z",
     "shell.execute_reply": "2022-03-29T23:43:33.243235Z",
     "shell.execute_reply.started": "2022-03-29T23:42:13.838814Z"
    },
    "papermill": {
     "duration": 0.079522,
     "end_time": "2022-03-29T23:43:33.243402",
     "exception": false,
     "start_time": "2022-03-29T23:43:33.163880",
     "status": "completed"
    },
    "tags": []
   },
   "outputs": [
    {
     "data": {
      "text/plain": [
       "array(['Pclass', 'Sex', 'Parch', 'Fare'], dtype=object)"
      ]
     },
     "execution_count": 32,
     "metadata": {},
     "output_type": "execute_result"
    }
   ],
   "source": [
    "best_feats = feat_selector.get_feature_names_out()\n",
    "best_feats"
   ]
  },
  {
   "cell_type": "markdown",
   "id": "d5bdb50e",
   "metadata": {
    "papermill": {
     "duration": 0.072336,
     "end_time": "2022-03-29T23:43:33.387544",
     "exception": false,
     "start_time": "2022-03-29T23:43:33.315208",
     "status": "completed"
    },
    "tags": []
   },
   "source": [
    "## Building model and pipeline"
   ]
  },
  {
   "cell_type": "code",
   "execution_count": 33,
   "id": "209925a0",
   "metadata": {
    "execution": {
     "iopub.execute_input": "2022-03-29T23:43:33.536963Z",
     "iopub.status.busy": "2022-03-29T23:43:33.536360Z",
     "iopub.status.idle": "2022-03-29T23:43:33.632307Z",
     "shell.execute_reply": "2022-03-29T23:43:33.631753Z",
     "shell.execute_reply.started": "2022-03-29T23:42:13.929126Z"
    },
    "papermill": {
     "duration": 0.171045,
     "end_time": "2022-03-29T23:43:33.632455",
     "exception": false,
     "start_time": "2022-03-29T23:43:33.461410",
     "status": "completed"
    },
    "tags": []
   },
   "outputs": [],
   "source": [
    "from sklearn.ensemble import RandomForestClassifier\n",
    "\n",
    "first_model = RandomForestClassifier(n_estimators=100, random_state=42)\n"
   ]
  },
  {
   "cell_type": "code",
   "execution_count": 34,
   "id": "e49626f8",
   "metadata": {
    "execution": {
     "iopub.execute_input": "2022-03-29T23:43:33.780752Z",
     "iopub.status.busy": "2022-03-29T23:43:33.780106Z",
     "iopub.status.idle": "2022-03-29T23:43:33.980435Z",
     "shell.execute_reply": "2022-03-29T23:43:33.979758Z",
     "shell.execute_reply.started": "2022-03-29T23:42:14.343432Z"
    },
    "papermill": {
     "duration": 0.276504,
     "end_time": "2022-03-29T23:43:33.980580",
     "exception": false,
     "start_time": "2022-03-29T23:43:33.704076",
     "status": "completed"
    },
    "tags": []
   },
   "outputs": [],
   "source": [
    "first_pipeline = Pipeline(steps=[\n",
    "    ('preprocessor',preproc),\n",
    "    ('model',first_model)\n",
    "])\n",
    "\n",
    "first_pipeline.fit(X_train,y_train)\n",
    "y_pred = first_pipeline.predict(X_val)"
   ]
  },
  {
   "cell_type": "code",
   "execution_count": 35,
   "id": "8c9b9ced",
   "metadata": {
    "execution": {
     "iopub.execute_input": "2022-03-29T23:43:34.130612Z",
     "iopub.status.busy": "2022-03-29T23:43:34.129947Z",
     "iopub.status.idle": "2022-03-29T23:43:34.133686Z",
     "shell.execute_reply": "2022-03-29T23:43:34.134168Z",
     "shell.execute_reply.started": "2022-03-29T23:42:14.826407Z"
    },
    "papermill": {
     "duration": 0.081149,
     "end_time": "2022-03-29T23:43:34.134342",
     "exception": false,
     "start_time": "2022-03-29T23:43:34.053193",
     "status": "completed"
    },
    "tags": []
   },
   "outputs": [
    {
     "data": {
      "text/plain": [
       "0.7982062780269058"
      ]
     },
     "execution_count": 35,
     "metadata": {},
     "output_type": "execute_result"
    }
   ],
   "source": [
    "# Computing accuracy\n",
    "from sklearn.metrics import accuracy_score\n",
    "accuracy_score(y_val, y_pred)"
   ]
  },
  {
   "cell_type": "markdown",
   "id": "c4b0242c",
   "metadata": {
    "papermill": {
     "duration": 0.071298,
     "end_time": "2022-03-29T23:43:34.276890",
     "exception": false,
     "start_time": "2022-03-29T23:43:34.205592",
     "status": "completed"
    },
    "tags": []
   },
   "source": [
    "## Analyzing for parameter improvements"
   ]
  },
  {
   "cell_type": "code",
   "execution_count": 36,
   "id": "0e3ac30f",
   "metadata": {
    "execution": {
     "iopub.execute_input": "2022-03-29T23:43:34.426429Z",
     "iopub.status.busy": "2022-03-29T23:43:34.425344Z",
     "iopub.status.idle": "2022-03-29T23:43:34.430053Z",
     "shell.execute_reply": "2022-03-29T23:43:34.430603Z",
     "shell.execute_reply.started": "2022-03-29T23:42:15.253771Z"
    },
    "papermill": {
     "duration": 0.081999,
     "end_time": "2022-03-29T23:43:34.430781",
     "exception": false,
     "start_time": "2022-03-29T23:43:34.348782",
     "status": "completed"
    },
    "tags": []
   },
   "outputs": [],
   "source": [
    "# Method to build pipeline and compute accuracy based on preprocessing and model parameters\n",
    "def pipe_acc(num_preprocessor,cat_preprocessor,model):\n",
    "    \n",
    "    preproc = ColumnTransformer(transformers=[\n",
    "        ('num',num_preprocessor,num_cols),\n",
    "        ('cat',cat_preprocessor,cat_cols)\n",
    "    ])\n",
    "    my_pipeline = Pipeline(steps=[\n",
    "        ('preprocessor',preproc),\n",
    "        ('model',model)\n",
    "    ])\n",
    "    \n",
    "    my_pipeline.fit(X_train,y_train)\n",
    "    return accuracy_score(y_val,my_pipeline.predict(X_val))"
   ]
  },
  {
   "cell_type": "markdown",
   "id": "d4210ed7",
   "metadata": {
    "papermill": {
     "duration": 0.075083,
     "end_time": "2022-03-29T23:43:34.580447",
     "exception": false,
     "start_time": "2022-03-29T23:43:34.505364",
     "status": "completed"
    },
    "tags": []
   },
   "source": [
    "### Numerical Preprocessors"
   ]
  },
  {
   "cell_type": "code",
   "execution_count": 37,
   "id": "374e9aec",
   "metadata": {
    "execution": {
     "iopub.execute_input": "2022-03-29T23:43:34.730346Z",
     "iopub.status.busy": "2022-03-29T23:43:34.729658Z",
     "iopub.status.idle": "2022-03-29T23:43:35.487684Z",
     "shell.execute_reply": "2022-03-29T23:43:35.488583Z",
     "shell.execute_reply.started": "2022-03-29T23:42:15.638405Z"
    },
    "papermill": {
     "duration": 0.83504,
     "end_time": "2022-03-29T23:43:35.488836",
     "exception": false,
     "start_time": "2022-03-29T23:43:34.653796",
     "status": "completed"
    },
    "tags": []
   },
   "outputs": [
    {
     "name": "stdout",
     "output_type": "stream",
     "text": [
      "Simple Imputer\n",
      "mean: 0.798\n",
      "median: 0.785\n",
      "most_frequent: 0.789\n",
      "constant: 0.789\n"
     ]
    }
   ],
   "source": [
    "# Analyzing numerical category preprocessors\n",
    "\n",
    "# Simple imputer parameters\n",
    "print('Simple Imputer')\n",
    "strategy = ['mean','median','most_frequent','constant']\n",
    "for s in strategy:\n",
    "    print(s+': %.3f' % (pipe_acc(SimpleImputer(strategy=s), cat_preproc, first_model)))"
   ]
  },
  {
   "cell_type": "code",
   "execution_count": 38,
   "id": "13ebc20f",
   "metadata": {
    "execution": {
     "iopub.execute_input": "2022-03-29T23:43:35.640065Z",
     "iopub.status.busy": "2022-03-29T23:43:35.639451Z",
     "iopub.status.idle": "2022-03-29T23:43:40.347771Z",
     "shell.execute_reply": "2022-03-29T23:43:40.347008Z",
     "shell.execute_reply.started": "2022-03-29T23:42:16.618881Z"
    },
    "papermill": {
     "duration": 4.784442,
     "end_time": "2022-03-29T23:43:40.347960",
     "exception": false,
     "start_time": "2022-03-29T23:43:35.563518",
     "status": "completed"
    },
    "tags": []
   },
   "outputs": [
    {
     "name": "stdout",
     "output_type": "stream",
     "text": [
      "KNN Imputer\n",
      "uniform 1 NN: 0.776\n",
      "distance 1 NN: 0.776\n",
      "uniform 5 NN: 0.789\n",
      "distance 5 NN: 0.780\n",
      "uniform 10 NN: 0.803\n",
      "distance 10 NN: 0.785\n",
      "uniform 15 NN: 0.816\n",
      "distance 15 NN: 0.789\n",
      "uniform 20 NN: 0.789\n",
      "distance 20 NN: 0.794\n",
      "uniform 25 NN: 0.789\n",
      "distance 25 NN: 0.780\n",
      "uniform 30 NN: 0.789\n",
      "distance 30 NN: 0.789\n",
      "uniform 35 NN: 0.776\n",
      "distance 35 NN: 0.798\n",
      "uniform 40 NN: 0.789\n",
      "distance 40 NN: 0.798\n"
     ]
    }
   ],
   "source": [
    "from sklearn.impute import KNNImputer\n",
    "\n",
    "#KNN Imputer parameters\n",
    "print('KNN Imputer')\n",
    "n_neighbors = [1, 5, 10, 15, 20, 25, 30, 35, 40]\n",
    "weights = ['uniform', 'distance']\n",
    "for n in n_neighbors:\n",
    "    for w in weights:\n",
    "        print(w+' '+str(n)+' NN: %.3f' % (pipe_acc(KNNImputer(n_neighbors=n,weights=w),cat_preproc,first_model)))"
   ]
  },
  {
   "cell_type": "markdown",
   "id": "7515335d",
   "metadata": {
    "papermill": {
     "duration": 0.077664,
     "end_time": "2022-03-29T23:43:40.503970",
     "exception": false,
     "start_time": "2022-03-29T23:43:40.426306",
     "status": "completed"
    },
    "tags": []
   },
   "source": [
    "#### Final numerical preprocessor"
   ]
  },
  {
   "cell_type": "code",
   "execution_count": 39,
   "id": "45e00541",
   "metadata": {
    "execution": {
     "iopub.execute_input": "2022-03-29T23:43:40.665353Z",
     "iopub.status.busy": "2022-03-29T23:43:40.664706Z",
     "iopub.status.idle": "2022-03-29T23:43:40.668359Z",
     "shell.execute_reply": "2022-03-29T23:43:40.668870Z",
     "shell.execute_reply.started": "2022-03-29T23:42:21.837101Z"
    },
    "papermill": {
     "duration": 0.085982,
     "end_time": "2022-03-29T23:43:40.669040",
     "exception": false,
     "start_time": "2022-03-29T23:43:40.583058",
     "status": "completed"
    },
    "tags": []
   },
   "outputs": [],
   "source": [
    "fin_num_preproc = KNNImputer(n_neighbors = 20, weights='uniform')"
   ]
  },
  {
   "cell_type": "markdown",
   "id": "0b989921",
   "metadata": {
    "papermill": {
     "duration": 0.078022,
     "end_time": "2022-03-29T23:43:40.826963",
     "exception": false,
     "start_time": "2022-03-29T23:43:40.748941",
     "status": "completed"
    },
    "tags": []
   },
   "source": [
    "### Categorical Preprocessors"
   ]
  },
  {
   "cell_type": "code",
   "execution_count": 40,
   "id": "68508bbe",
   "metadata": {
    "execution": {
     "iopub.execute_input": "2022-03-29T23:43:40.988186Z",
     "iopub.status.busy": "2022-03-29T23:43:40.987471Z",
     "iopub.status.idle": "2022-03-29T23:43:42.044802Z",
     "shell.execute_reply": "2022-03-29T23:43:42.045272Z",
     "shell.execute_reply.started": "2022-03-29T23:42:21.845721Z"
    },
    "papermill": {
     "duration": 1.139428,
     "end_time": "2022-03-29T23:43:42.045472",
     "exception": false,
     "start_time": "2022-03-29T23:43:40.906044",
     "status": "completed"
    },
    "tags": []
   },
   "outputs": [
    {
     "name": "stdout",
     "output_type": "stream",
     "text": [
      "Simple Imputer Tests\n",
      "most frequent: 0.803\n",
      "constant: 0.798\n",
      "\n",
      "Encoder Tests\n",
      "one hot: 0.803\n",
      "ordinal: 0.789\n"
     ]
    }
   ],
   "source": [
    "from sklearn.preprocessing import OrdinalEncoder\n",
    "\n",
    "# Simple imputer\n",
    "print('Simple Imputer Tests')\n",
    "cat_preproc_tester = Pipeline(steps=[\n",
    "    ('imputer',SimpleImputer(strategy='most_frequent')),\n",
    "    ('onehot',OneHotEncoder(handle_unknown='ignore'))\n",
    "])\n",
    "print('most frequent: %0.3f' % (pipe_acc(fin_num_preproc,cat_preproc_tester,first_model)))\n",
    "\n",
    "cat_preproc_tester = Pipeline(steps=[\n",
    "    ('imputer',SimpleImputer(strategy='constant')),\n",
    "    ('onehot',OneHotEncoder(handle_unknown='ignore'))\n",
    "])\n",
    "print('constant: %0.3f' % (pipe_acc(fin_num_preproc,cat_preproc_tester,first_model)))\n",
    "\n",
    "# Encoder\n",
    "print('\\nEncoder Tests')\n",
    "cat_preproc_tester = Pipeline(steps=[\n",
    "    ('imputer',SimpleImputer(strategy='most_frequent')),\n",
    "    ('onehot',OneHotEncoder(handle_unknown='ignore'))\n",
    "])\n",
    "print('one hot: %0.3f' % (pipe_acc(fin_num_preproc,cat_preproc_tester,first_model)))\n",
    "\n",
    "cat_preproc_tester = Pipeline(steps=[\n",
    "    ('imputer',SimpleImputer(strategy='most_frequent')),\n",
    "    ('ordinal',OrdinalEncoder(handle_unknown='use_encoded_value', unknown_value=np.nan))\n",
    "])\n",
    "print('ordinal: %0.3f' % (pipe_acc(fin_num_preproc,cat_preproc_tester,first_model)))"
   ]
  },
  {
   "cell_type": "markdown",
   "id": "1419367e",
   "metadata": {
    "papermill": {
     "duration": 0.079562,
     "end_time": "2022-03-29T23:43:42.207192",
     "exception": false,
     "start_time": "2022-03-29T23:43:42.127630",
     "status": "completed"
    },
    "tags": []
   },
   "source": [
    "#### Final categorical preprocessor"
   ]
  },
  {
   "cell_type": "code",
   "execution_count": 41,
   "id": "1c29114f",
   "metadata": {
    "execution": {
     "iopub.execute_input": "2022-03-29T23:43:42.368335Z",
     "iopub.status.busy": "2022-03-29T23:43:42.367705Z",
     "iopub.status.idle": "2022-03-29T23:43:42.371507Z",
     "shell.execute_reply": "2022-03-29T23:43:42.371992Z",
     "shell.execute_reply.started": "2022-03-29T23:42:23.085542Z"
    },
    "papermill": {
     "duration": 0.085782,
     "end_time": "2022-03-29T23:43:42.372188",
     "exception": false,
     "start_time": "2022-03-29T23:43:42.286406",
     "status": "completed"
    },
    "tags": []
   },
   "outputs": [],
   "source": [
    "fin_cat_preproc = Pipeline(steps=[\n",
    "    ('imputer',SimpleImputer(strategy='most_frequent')),\n",
    "    ('onehot',OneHotEncoder(handle_unknown='ignore'))\n",
    "])\n"
   ]
  },
  {
   "cell_type": "markdown",
   "id": "b3ed0603",
   "metadata": {
    "papermill": {
     "duration": 0.082743,
     "end_time": "2022-03-29T23:43:42.533890",
     "exception": false,
     "start_time": "2022-03-29T23:43:42.451147",
     "status": "completed"
    },
    "tags": []
   },
   "source": [
    "### Models"
   ]
  },
  {
   "cell_type": "code",
   "execution_count": 42,
   "id": "f63f76a1",
   "metadata": {
    "execution": {
     "iopub.execute_input": "2022-03-29T23:43:42.700852Z",
     "iopub.status.busy": "2022-03-29T23:43:42.700174Z",
     "iopub.status.idle": "2022-03-29T23:43:55.793173Z",
     "shell.execute_reply": "2022-03-29T23:43:55.793650Z",
     "shell.execute_reply.started": "2022-03-29T23:42:23.093841Z"
    },
    "papermill": {
     "duration": 13.17642,
     "end_time": "2022-03-29T23:43:55.793816",
     "exception": false,
     "start_time": "2022-03-29T23:43:42.617396",
     "status": "completed"
    },
    "tags": []
   },
   "outputs": [
    {
     "name": "stdout",
     "output_type": "stream",
     "text": [
      "Random Forest\n",
      "Number of Trees\n",
      "10 trees: 0.762\n",
      "50 trees: 0.785\n",
      "100 trees: 0.803\n",
      "150 trees: 0.794\n",
      "200 trees: 0.785\n",
      "250 trees: 0.794\n",
      "300 trees: 0.798\n",
      "350 trees: 0.794\n",
      "400 trees: 0.789\n",
      "\n",
      "Criterion\n",
      "gini: 0.803\n",
      "entropy: 0.794\n",
      "\n",
      "Max Depth\n",
      "None max depth: 0.803\n",
      "2 max depth: 0.785\n",
      "4 max depth: 0.812\n",
      "6 max depth: 0.816\n",
      "8 max depth: 0.821\n",
      "10 max depth: 0.816\n",
      "12 max depth: 0.798\n",
      "14 max depth: 0.798\n",
      "16 max depth: 0.798\n",
      "18 max depth: 0.789\n",
      "20 max depth: 0.803\n",
      "\n",
      "Min Samples Split\n",
      "0.01 min samples split: 0.816\n",
      "0.1 min samples split: 0.812\n",
      "0.5 min samples split: 0.785\n",
      "2 min samples split: 0.821\n",
      "4 min samples split: 0.816\n",
      "6 min samples split: 0.816\n",
      "8 min samples split: 0.812\n",
      "10 min samples split: 0.821\n",
      "12 min samples split: 0.816\n",
      "14 min samples split: 0.812\n",
      "16 min samples split: 0.816\n",
      "18 min samples split: 0.821\n",
      "20 min samples split: 0.812\n",
      "\n",
      "Min Samples Leaf\n",
      "1 min samples leaf: 0.821\n",
      "2 min samples leaf: 0.807\n",
      "4 min samples leaf: 0.825\n",
      "6 min samples leaf: 0.812\n",
      "8 min samples leaf: 0.821\n",
      "10 min samples leaf: 0.807\n",
      "12 min samples leaf: 0.807\n",
      "14 min samples leaf: 0.807\n",
      "16 min samples leaf: 0.807\n",
      "18 min samples leaf: 0.807\n",
      "20 min samples leaf: 0.812\n"
     ]
    }
   ],
   "source": [
    "# Random Forest\n",
    "print(\"Random Forest\\nNumber of Trees\")\n",
    "n_estimators = [10,50,100,150,200,250,300,350,400]\n",
    "for n in n_estimators:\n",
    "    print(str(n)+' trees: %0.3f' % (pipe_acc(fin_num_preproc,fin_cat_preproc,\n",
    "                                            RandomForestClassifier(n_estimators=n,random_state=42))))\n",
    "\n",
    "print(\"\\nCriterion\")\n",
    "print('gini: %0.3f' % (pipe_acc(fin_num_preproc,fin_cat_preproc,\n",
    "                                            RandomForestClassifier(n_estimators=100,criterion='gini',random_state=42))))\n",
    "print('entropy: %0.3f' % (pipe_acc(fin_num_preproc,fin_cat_preproc,\n",
    "                                            RandomForestClassifier(n_estimators=100,criterion='entropy',random_state=42))))\n",
    "\n",
    "print(\"\\nMax Depth\")\n",
    "max_depth = [None,2,4,6,8,10,12,14,16,18,20]\n",
    "for m in max_depth:\n",
    "    print(str(m)+' max depth: %0.3f' % (pipe_acc(fin_num_preproc,fin_cat_preproc,\n",
    "                                            RandomForestClassifier(n_estimators=100,max_depth=m,random_state=42))))\n",
    "\n",
    "print(\"\\nMin Samples Split\")\n",
    "min_samples_split = [0.01,0.1,0.5,2,4,6,8,10,12,14,16,18,20]\n",
    "for m in min_samples_split:\n",
    "    print(str(m)+' min samples split: %0.3f' % (pipe_acc(fin_num_preproc,fin_cat_preproc,\n",
    "                                                         RandomForestClassifier(n_estimators=100,min_samples_split=m,max_depth=8,random_state=42))))\n",
    "\n",
    "print(\"\\nMin Samples Leaf\")\n",
    "min_samples_leaf = [1,2,4,6,8,10,12,14,16,18,20]\n",
    "for m in min_samples_leaf:\n",
    "    print(str(m)+' min samples leaf: %0.3f' % (pipe_acc(fin_num_preproc,fin_cat_preproc,\n",
    "                                                         RandomForestClassifier(n_estimators=100,min_samples_leaf=m,max_depth=8,random_state=42))))"
   ]
  },
  {
   "cell_type": "code",
   "execution_count": 43,
   "id": "77e3999b",
   "metadata": {
    "execution": {
     "iopub.execute_input": "2022-03-29T23:43:55.983932Z",
     "iopub.status.busy": "2022-03-29T23:43:55.983007Z",
     "iopub.status.idle": "2022-03-29T23:43:55.985173Z",
     "shell.execute_reply": "2022-03-29T23:43:55.985703Z",
     "shell.execute_reply.started": "2022-03-29T23:42:38.735600Z"
    },
    "papermill": {
     "duration": 0.1001,
     "end_time": "2022-03-29T23:43:55.985866",
     "exception": false,
     "start_time": "2022-03-29T23:43:55.885766",
     "status": "completed"
    },
    "tags": []
   },
   "outputs": [],
   "source": [
    "fin_forest_model = RandomForestClassifier(n_estimators=100, max_depth=8, random_state=42)\n",
    "\n",
    "fin_preproc = ColumnTransformer(transformers=[\n",
    "    ('num',fin_num_preproc,num_cols),\n",
    "    ('cat',fin_cat_preproc,cat_cols)\n",
    "])\n",
    "\n",
    "fin_forest_pipeline = Pipeline(steps=[\n",
    "    ('preprocessor',fin_preproc),\n",
    "    ('model',fin_forest_model)\n",
    "])"
   ]
  },
  {
   "cell_type": "markdown",
   "id": "e4ec56e8",
   "metadata": {
    "papermill": {
     "duration": 0.092428,
     "end_time": "2022-03-29T23:43:56.169540",
     "exception": false,
     "start_time": "2022-03-29T23:43:56.077112",
     "status": "completed"
    },
    "tags": []
   },
   "source": [
    "## Cross-Validation"
   ]
  },
  {
   "cell_type": "code",
   "execution_count": 44,
   "id": "8272984c",
   "metadata": {
    "execution": {
     "iopub.execute_input": "2022-03-29T23:43:56.356199Z",
     "iopub.status.busy": "2022-03-29T23:43:56.355282Z",
     "iopub.status.idle": "2022-03-29T23:43:57.603166Z",
     "shell.execute_reply": "2022-03-29T23:43:57.603599Z",
     "shell.execute_reply.started": "2022-03-29T23:42:38.746359Z"
    },
    "papermill": {
     "duration": 1.342417,
     "end_time": "2022-03-29T23:43:57.603782",
     "exception": false,
     "start_time": "2022-03-29T23:43:56.261365",
     "status": "completed"
    },
    "tags": []
   },
   "outputs": [
    {
     "name": "stdout",
     "output_type": "stream",
     "text": [
      "Average accuracy:\n",
      " 0.831680371602536\n"
     ]
    }
   ],
   "source": [
    "# Evaluating model with cross-validation\n",
    "from sklearn.model_selection import cross_val_score\n",
    "\n",
    "scores = cross_val_score(fin_forest_pipeline, X, y,\n",
    "                         cv=5,\n",
    "                         scoring='accuracy')\n",
    "\n",
    "print(\"Average accuracy:\\n\", scores.mean())"
   ]
  },
  {
   "cell_type": "markdown",
   "id": "f02d4687",
   "metadata": {
    "papermill": {
     "duration": 0.101379,
     "end_time": "2022-03-29T23:43:57.799190",
     "exception": false,
     "start_time": "2022-03-29T23:43:57.697811",
     "status": "completed"
    },
    "tags": []
   },
   "source": [
    "## XGBoost"
   ]
  },
  {
   "cell_type": "code",
   "execution_count": 45,
   "id": "193bb86b",
   "metadata": {
    "execution": {
     "iopub.execute_input": "2022-03-29T23:43:58.001370Z",
     "iopub.status.busy": "2022-03-29T23:43:58.000231Z",
     "iopub.status.idle": "2022-03-29T23:43:58.048396Z",
     "shell.execute_reply": "2022-03-29T23:43:58.049259Z",
     "shell.execute_reply.started": "2022-03-29T23:42:40.193164Z"
    },
    "papermill": {
     "duration": 0.152824,
     "end_time": "2022-03-29T23:43:58.049544",
     "exception": false,
     "start_time": "2022-03-29T23:43:57.896720",
     "status": "completed"
    },
    "tags": []
   },
   "outputs": [],
   "source": [
    "X_train_proc = pd.DataFrame(fin_preproc.fit_transform(X_train))\n",
    "X_val_proc = pd.DataFrame(fin_preproc.fit_transform(X_val))"
   ]
  },
  {
   "cell_type": "code",
   "execution_count": 46,
   "id": "47b9b83c",
   "metadata": {
    "execution": {
     "iopub.execute_input": "2022-03-29T23:43:58.281724Z",
     "iopub.status.busy": "2022-03-29T23:43:58.281119Z",
     "iopub.status.idle": "2022-03-29T23:43:58.379173Z",
     "shell.execute_reply": "2022-03-29T23:43:58.378606Z",
     "shell.execute_reply.started": "2022-03-29T23:42:40.238158Z"
    },
    "papermill": {
     "duration": 0.194711,
     "end_time": "2022-03-29T23:43:58.379314",
     "exception": false,
     "start_time": "2022-03-29T23:43:58.184603",
     "status": "completed"
    },
    "tags": []
   },
   "outputs": [],
   "source": [
    "from xgboost import XGBClassifier\n",
    "\n",
    "def xgb_acc(xgb_model):\n",
    "    xgb_model.fit(X_train_proc, y_train)\n",
    "\n",
    "    y_xgbpred = xgb_model.predict(X_val_proc)\n",
    "    \n",
    "    return accuracy_score(y_val,y_xgbpred)"
   ]
  },
  {
   "cell_type": "code",
   "execution_count": 47,
   "id": "20bd8a5f",
   "metadata": {
    "execution": {
     "iopub.execute_input": "2022-03-29T23:43:58.565258Z",
     "iopub.status.busy": "2022-03-29T23:43:58.564641Z",
     "iopub.status.idle": "2022-03-29T23:44:00.233691Z",
     "shell.execute_reply": "2022-03-29T23:44:00.232763Z",
     "shell.execute_reply.started": "2022-03-29T23:42:40.388871Z"
    },
    "papermill": {
     "duration": 1.763079,
     "end_time": "2022-03-29T23:44:00.233887",
     "exception": false,
     "start_time": "2022-03-29T23:43:58.470808",
     "status": "completed"
    },
    "tags": []
   },
   "outputs": [
    {
     "name": "stdout",
     "output_type": "stream",
     "text": [
      "Default Parameters Accuracy\n",
      "Default: 0.767\n",
      "\n",
      "Number of Estimators\n",
      "5.0 trees: 0.825\n",
      "10.0 trees: 0.812\n",
      "15.0 trees: 0.821\n",
      "20.0 trees: 0.798\n",
      "25.0 trees: 0.785\n",
      "30.0 trees: 0.780\n",
      "35.0 trees: 0.771\n",
      "40.0 trees: 0.771\n",
      "\n",
      "Max Depth\n",
      "2.0 max depth: 0.776\n",
      "4.0 max depth: 0.821\n",
      "6.0 max depth: 0.825\n",
      "8.0 max depth: 0.812\n",
      "10.0 max depth: 0.807\n",
      "12.0 max depth: 0.798\n",
      "14.0 max depth: 0.798\n",
      "16.0 max depth: 0.798\n",
      "18.0 max depth: 0.798\n",
      "20.0 max depth: 0.798\n",
      "\n",
      "Learning Rate\n",
      "0.1 max depth: 0.830\n",
      "0.2 max depth: 0.830\n",
      "0.3 max depth: 0.825\n",
      "0.4 max depth: 0.816\n",
      "0.5 max depth: 0.803\n",
      "0.6 max depth: 0.807\n",
      "0.7 max depth: 0.830\n",
      "0.8 max depth: 0.803\n",
      "0.9 max depth: 0.821\n"
     ]
    }
   ],
   "source": [
    "# XGBost Parameter Analyzation\n",
    "print('Default Parameters Accuracy')\n",
    "print('Default: %0.3f' %(xgb_acc(XGBClassifier(verbosity=0,\n",
    "                                               use_label_encoder=False))))    \n",
    "\n",
    "print('\\nNumber of Estimators')\n",
    "for n in range(5,45,5):\n",
    "    print('%0.1f trees: %0.3f' % (n,xgb_acc(XGBClassifier(n_estimators=n,\n",
    "                                                               verbosity=0,\n",
    "                                                               use_label_encoder=False))))\n",
    "#n_estimators = 20\n",
    "\n",
    "\n",
    "print('\\nMax Depth')\n",
    "for n in range(2,21,2):\n",
    "    print('%0.1f max depth: %0.3f' % (n,xgb_acc(XGBClassifier(max_depth=n,\n",
    "                                                              n_estimators=5,\n",
    "                                                              verbosity=0,\n",
    "                                                              use_label_encoder=False))))\n",
    "#max_depth = 6\n",
    "\n",
    "print('\\nLearning Rate')\n",
    "for l in np.arange(0.1,1,0.1):\n",
    "    print('%0.1f max depth: %0.3f' % (l,xgb_acc(XGBClassifier(learning_rate=l,\n",
    "                                                              n_estimators=5,\n",
    "                                                              verbosity=0,\n",
    "                                                              use_label_encoder=False))))\n"
   ]
  },
  {
   "cell_type": "code",
   "execution_count": null,
   "id": "0a910c35",
   "metadata": {
    "papermill": {
     "duration": 0.093625,
     "end_time": "2022-03-29T23:44:00.422298",
     "exception": false,
     "start_time": "2022-03-29T23:44:00.328673",
     "status": "completed"
    },
    "tags": []
   },
   "outputs": [],
   "source": []
  },
  {
   "cell_type": "markdown",
   "id": "0a8972d0",
   "metadata": {
    "papermill": {
     "duration": 0.092838,
     "end_time": "2022-03-29T23:44:00.608508",
     "exception": false,
     "start_time": "2022-03-29T23:44:00.515670",
     "status": "completed"
    },
    "tags": []
   },
   "source": [
    "## BREAK"
   ]
  },
  {
   "cell_type": "markdown",
   "id": "c8545fd0",
   "metadata": {
    "papermill": {
     "duration": 0.092912,
     "end_time": "2022-03-29T23:44:00.794440",
     "exception": false,
     "start_time": "2022-03-29T23:44:00.701528",
     "status": "completed"
    },
    "tags": []
   },
   "source": [
    "## Final Model"
   ]
  },
  {
   "cell_type": "code",
   "execution_count": 48,
   "id": "05ad6ca9",
   "metadata": {
    "execution": {
     "iopub.execute_input": "2022-03-29T23:44:00.998041Z",
     "iopub.status.busy": "2022-03-29T23:44:00.996793Z",
     "iopub.status.idle": "2022-03-29T23:44:01.274006Z",
     "shell.execute_reply": "2022-03-29T23:44:01.274872Z",
     "shell.execute_reply.started": "2022-03-29T23:42:42.827764Z"
    },
    "papermill": {
     "duration": 0.387377,
     "end_time": "2022-03-29T23:44:01.275182",
     "exception": false,
     "start_time": "2022-03-29T23:44:00.887805",
     "status": "completed"
    },
    "tags": []
   },
   "outputs": [],
   "source": [
    "\n",
    "fin_model = fin_forest_model\n",
    "\n",
    "fin_preproc = ColumnTransformer(transformers=[\n",
    "    ('num',fin_num_preproc,num_cols),\n",
    "    ('cat',fin_cat_preproc,cat_cols)\n",
    "])\n",
    "\n",
    "fin_pipeline = Pipeline(steps=[\n",
    "    ('preprocessor',fin_preproc),\n",
    "    ('model',fin_model)\n",
    "])\n",
    "\n",
    "fin_pipeline.fit(X_train,y_train)\n",
    "pred_test = fin_pipeline.predict(X_test)"
   ]
  },
  {
   "cell_type": "markdown",
   "id": "59406c9c",
   "metadata": {
    "papermill": {
     "duration": 0.093691,
     "end_time": "2022-03-29T23:44:01.506698",
     "exception": false,
     "start_time": "2022-03-29T23:44:01.413007",
     "status": "completed"
    },
    "tags": []
   },
   "source": [
    "## Saving output for submission"
   ]
  },
  {
   "cell_type": "code",
   "execution_count": 49,
   "id": "4877c2bd",
   "metadata": {
    "execution": {
     "iopub.execute_input": "2022-03-29T23:44:01.699296Z",
     "iopub.status.busy": "2022-03-29T23:44:01.698669Z",
     "iopub.status.idle": "2022-03-29T23:44:01.704838Z",
     "shell.execute_reply": "2022-03-29T23:44:01.704346Z",
     "shell.execute_reply.started": "2022-03-29T23:42:43.125019Z"
    },
    "papermill": {
     "duration": 0.105265,
     "end_time": "2022-03-29T23:44:01.704980",
     "exception": false,
     "start_time": "2022-03-29T23:44:01.599715",
     "status": "completed"
    },
    "tags": []
   },
   "outputs": [],
   "source": [
    "output = pd.DataFrame({'PassengerId': test.index,\n",
    "                       'Survived': pred_test})\n",
    "output.to_csv('submission.csv', index=False)"
   ]
  },
  {
   "cell_type": "code",
   "execution_count": 50,
   "id": "f9274acb",
   "metadata": {
    "execution": {
     "iopub.execute_input": "2022-03-29T23:44:01.896239Z",
     "iopub.status.busy": "2022-03-29T23:44:01.895643Z",
     "iopub.status.idle": "2022-03-29T23:44:01.902591Z",
     "shell.execute_reply": "2022-03-29T23:44:01.902057Z",
     "shell.execute_reply.started": "2022-03-29T23:42:43.138559Z"
    },
    "papermill": {
     "duration": 0.103943,
     "end_time": "2022-03-29T23:44:01.902734",
     "exception": false,
     "start_time": "2022-03-29T23:44:01.798791",
     "status": "completed"
    },
    "tags": []
   },
   "outputs": [
    {
     "data": {
      "text/plain": [
       "(418, 2)"
      ]
     },
     "execution_count": 50,
     "metadata": {},
     "output_type": "execute_result"
    }
   ],
   "source": [
    "s = pd.read_csv('./submission.csv')\n",
    "s.shape"
   ]
  }
 ],
 "metadata": {
  "kernelspec": {
   "display_name": "Python 3",
   "language": "python",
   "name": "python3"
  },
  "language_info": {
   "codemirror_mode": {
    "name": "ipython",
    "version": 3
   },
   "file_extension": ".py",
   "mimetype": "text/x-python",
   "name": "python",
   "nbconvert_exporter": "python",
   "pygments_lexer": "ipython3",
   "version": "3.7.12"
  },
  "papermill": {
   "default_parameters": {},
   "duration": 52.184247,
   "end_time": "2022-03-29T23:44:02.707410",
   "environment_variables": {},
   "exception": null,
   "input_path": "__notebook__.ipynb",
   "output_path": "__notebook__.ipynb",
   "parameters": {},
   "start_time": "2022-03-29T23:43:10.523163",
   "version": "2.3.3"
  }
 },
 "nbformat": 4,
 "nbformat_minor": 5
}
