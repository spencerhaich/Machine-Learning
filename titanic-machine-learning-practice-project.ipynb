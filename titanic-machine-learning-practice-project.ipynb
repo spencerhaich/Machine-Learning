{
 "cells": [
  {
   "cell_type": "markdown",
   "id": "686d0645",
   "metadata": {
    "papermill": {
     "duration": 0.042436,
     "end_time": "2022-03-29T01:34:49.682084",
     "exception": false,
     "start_time": "2022-03-29T01:34:49.639648",
     "status": "completed"
    },
    "tags": []
   },
   "source": [
    "# Titanic Machine Learning Practice Project\n",
    "In this practice project, we use machine learning to predict if a given passenger will survive the Titanic crash. This is an ongoing competition on kaggle.com. I did this project to gain knowledge and experience in machine learning and data science. "
   ]
  },
  {
   "cell_type": "code",
   "execution_count": 1,
   "id": "29e665ee",
   "metadata": {
    "_cell_guid": "b1076dfc-b9ad-4769-8c92-a6c4dae69d19",
    "_uuid": "8f2839f25d086af736a60e9eeb907d3b93b6e0e5",
    "execution": {
     "iopub.execute_input": "2022-03-29T01:34:49.772340Z",
     "iopub.status.busy": "2022-03-29T01:34:49.771391Z",
     "iopub.status.idle": "2022-03-29T01:34:51.049517Z",
     "shell.execute_reply": "2022-03-29T01:34:51.048583Z",
     "shell.execute_reply.started": "2022-03-29T01:33:51.036902Z"
    },
    "papermill": {
     "duration": 1.327234,
     "end_time": "2022-03-29T01:34:51.049699",
     "exception": false,
     "start_time": "2022-03-29T01:34:49.722465",
     "status": "completed"
    },
    "tags": []
   },
   "outputs": [],
   "source": [
    "import numpy as np \n",
    "import pandas as pd \n",
    "import matplotlib.pyplot as plt\n",
    "import seaborn as sns\n",
    "from scipy import stats\n",
    "from sklearn.model_selection import train_test_split"
   ]
  },
  {
   "cell_type": "markdown",
   "id": "85dcafad",
   "metadata": {
    "papermill": {
     "duration": 0.040082,
     "end_time": "2022-03-29T01:34:51.130606",
     "exception": false,
     "start_time": "2022-03-29T01:34:51.090524",
     "status": "completed"
    },
    "tags": []
   },
   "source": [
    "## Loading Data\n",
    "\n",
    "In the code below I load the data and partition the data into variables. Our prediction clastrain_test_splitput into the y variable. Our predictor classes are put into X for training data and X_test for the testing data that we will eventually make our final predictions with. PassengerId, Ticket,\n",
    "and Name are excluded from the training and testing data because these categories are not expected contribute helpful information for survival prediction. \n",
    "\n",
    "I then split the training data into train and validation sets. "
   ]
  },
  {
   "cell_type": "code",
   "execution_count": 2,
   "id": "a547cd3a",
   "metadata": {
    "execution": {
     "iopub.execute_input": "2022-03-29T01:34:51.218443Z",
     "iopub.status.busy": "2022-03-29T01:34:51.217773Z",
     "iopub.status.idle": "2022-03-29T01:34:51.261681Z",
     "shell.execute_reply": "2022-03-29T01:34:51.262236Z",
     "shell.execute_reply.started": "2022-03-29T01:33:51.090345Z"
    },
    "papermill": {
     "duration": 0.091365,
     "end_time": "2022-03-29T01:34:51.262412",
     "exception": false,
     "start_time": "2022-03-29T01:34:51.171047",
     "status": "completed"
    },
    "tags": []
   },
   "outputs": [
    {
     "name": "stdout",
     "output_type": "stream",
     "text": [
      "Training Data:\n",
      " (891, 11)\n",
      "\n",
      "\n",
      "Testing Data:\n",
      " (418, 10)\n"
     ]
    }
   ],
   "source": [
    "# Importing Data\n",
    "train = pd.read_csv('../input/titanic/train.csv', index_col='PassengerId')\n",
    "test = pd.read_csv('../input/titanic/test.csv', index_col='PassengerId')\n",
    "\n",
    "# View aspects of each dataframe\n",
    "print('Training Data:\\n', train.shape)\n",
    "print('\\n\\nTesting Data:\\n', test.shape)\n",
    "\n",
    "y = train.Survived\n",
    "\n",
    "# Selecting all features, excluding PassengerId, Survived, and Name\n",
    "features = ['Pclass','Sex','Age','SibSp','Parch','Fare','Cabin','Embarked']\n",
    "X = train[features]\n",
    "X_test = test[features]\n",
    "\n",
    "# Splitting training data into train and validation sets\n",
    "X_train, X_val, y_train, y_val = train_test_split(X, y, random_state=42)"
   ]
  },
  {
   "cell_type": "markdown",
   "id": "69dbf281",
   "metadata": {
    "papermill": {
     "duration": 0.042416,
     "end_time": "2022-03-29T01:34:51.348430",
     "exception": false,
     "start_time": "2022-03-29T01:34:51.306014",
     "status": "completed"
    },
    "tags": []
   },
   "source": [
    "## Data Exploration\n"
   ]
  },
  {
   "cell_type": "markdown",
   "id": "3175d840",
   "metadata": {
    "papermill": {
     "duration": 0.040189,
     "end_time": "2022-03-29T01:34:51.430377",
     "exception": false,
     "start_time": "2022-03-29T01:34:51.390188",
     "status": "completed"
    },
    "tags": []
   },
   "source": [
    "### Plotting"
   ]
  },
  {
   "cell_type": "code",
   "execution_count": 3,
   "id": "44a45bd7",
   "metadata": {
    "execution": {
     "iopub.execute_input": "2022-03-29T01:34:51.515330Z",
     "iopub.status.busy": "2022-03-29T01:34:51.514299Z",
     "iopub.status.idle": "2022-03-29T01:34:51.750484Z",
     "shell.execute_reply": "2022-03-29T01:34:51.750971Z",
     "shell.execute_reply.started": "2022-03-29T01:33:51.120156Z"
    },
    "papermill": {
     "duration": 0.28042,
     "end_time": "2022-03-29T01:34:51.751153",
     "exception": false,
     "start_time": "2022-03-29T01:34:51.470733",
     "status": "completed"
    },
    "tags": []
   },
   "outputs": [
    {
     "data": {
      "image/png": "[encoded data removed]",
      "text/plain": [
       "<Figure size 432x288 with 1 Axes>"
      ]
     },
     "metadata": {
      "needs_background": "light"
     },
     "output_type": "display_data"
    }
   ],
   "source": [
    "# Method to generate a stacked bar plot of those of each sex that survived and did not\n",
    "# Grouping data by sex into those that survived vs not, the sex survival count\n",
    "sc = train.groupby('Sex').Survived.value_counts()\n",
    "# Labels for sexes\n",
    "s = sc.index.get_level_values('Sex').unique()\n",
    "\n",
    "# Bar plot of survived and perished in men and women\n",
    "fig, ax = plt.subplots()\n",
    "surv = [sc.loc[('female',1)],sc.loc[('male',1)]]\n",
    "ax.bar(s, surv, label='Survived', color=(0,0,0.8,0.8))\n",
    "ax.bar(s, [sc.loc[('female',0)],sc.loc[('male',0)]], bottom=surv, label='Perished', color=(0,0,0.8,0.4))\n",
    "ax.set_ylabel('Number of People')\n",
    "ax.set_xlabel('Sex')\n",
    "ax.set_title('Survival of the Sexes')\n",
    "ax.legend()\n",
    "plt.show()"
   ]
  },
  {
   "cell_type": "code",
   "execution_count": 4,
   "id": "52fa31e8",
   "metadata": {
    "execution": {
     "iopub.execute_input": "2022-03-29T01:34:51.841398Z",
     "iopub.status.busy": "2022-03-29T01:34:51.840455Z",
     "iopub.status.idle": "2022-03-29T01:34:52.090904Z",
     "shell.execute_reply": "2022-03-29T01:34:52.091454Z",
     "shell.execute_reply.started": "2022-03-29T01:33:51.323175Z"
    },
    "papermill": {
     "duration": 0.295527,
     "end_time": "2022-03-29T01:34:52.091625",
     "exception": false,
     "start_time": "2022-03-29T01:34:51.796098",
     "status": "completed"
    },
    "tags": []
   },
   "outputs": [
    {
     "name": "stdout",
     "output_type": "stream",
     "text": [
      "With a p-value of 1.1973570627755645e-58 from the chi-squared test, we see that sex and survival are related.\n"
     ]
    },
    {
     "data": {
      "image/png": "[encoded data removed]",
      "text/plain": [
       "<Figure size 432x288 with 1 Axes>"
      ]
     },
     "metadata": {
      "needs_background": "light"
     },
     "output_type": "display_data"
    }
   ],
   "source": [
    "# Simpler method to generate bar plot of those of each sex that survived along with chi-squared value\n",
    "sex_survive = pd.crosstab(train['Sex'],train['Survived'])\n",
    "sex_survive.plot.bar(stacked=True, title='Survival of the Sexes')\n",
    "chi2, p, dof, exp = stats.chi2_contingency(sex_survive)\n",
    "print('With a p-value of '+str(p)+' from the chi-squared test, we see that sex and survival are related.')"
   ]
  },
  {
   "cell_type": "markdown",
   "id": "d34257bc",
   "metadata": {
    "papermill": {
     "duration": 0.042033,
     "end_time": "2022-03-29T01:34:52.176519",
     "exception": false,
     "start_time": "2022-03-29T01:34:52.134486",
     "status": "completed"
    },
    "tags": []
   },
   "source": [
    "### Missing Values"
   ]
  },
  {
   "cell_type": "code",
   "execution_count": 5,
   "id": "d39dce98",
   "metadata": {
    "execution": {
     "iopub.execute_input": "2022-03-29T01:34:52.275992Z",
     "iopub.status.busy": "2022-03-29T01:34:52.275240Z",
     "iopub.status.idle": "2022-03-29T01:34:52.284302Z",
     "shell.execute_reply": "2022-03-29T01:34:52.284867Z",
     "shell.execute_reply.started": "2022-03-29T01:33:51.550488Z"
    },
    "papermill": {
     "duration": 0.065295,
     "end_time": "2022-03-29T01:34:52.285051",
     "exception": false,
     "start_time": "2022-03-29T01:34:52.219756",
     "status": "completed"
    },
    "tags": []
   },
   "outputs": [
    {
     "name": "stdout",
     "output_type": "stream",
     "text": [
      "Training Data\n",
      "(668, 8)\n",
      "Age         132\n",
      "Cabin       519\n",
      "Embarked      2\n",
      "dtype: int64\n",
      "\n",
      "Validation Data\n",
      "(223, 8)\n",
      "Age       45\n",
      "Cabin    168\n",
      "dtype: int64\n",
      "\n",
      "Testing Data\n",
      "(418, 8)\n",
      "Age       86\n",
      "Fare       1\n",
      "Cabin    327\n",
      "dtype: int64\n"
     ]
    }
   ],
   "source": [
    "# Checking for columns with missing values\n",
    "print('Training Data')\n",
    "print(X_train.shape)\n",
    "miss_val_col = X_train.isnull().sum()\n",
    "print(miss_val_col[miss_val_col>0])\n",
    "\n",
    "print('\\nValidation Data')\n",
    "print(X_val.shape)\n",
    "miss_val_col = X_val.isnull().sum()\n",
    "print(miss_val_col[miss_val_col>0])\n",
    "\n",
    "print('\\nTesting Data')\n",
    "print(X_test.shape)\n",
    "miss_val_col = X_test.isnull().sum()\n",
    "print(miss_val_col[miss_val_col>0])"
   ]
  },
  {
   "cell_type": "code",
   "execution_count": 6,
   "id": "daa97ea5",
   "metadata": {
    "execution": {
     "iopub.execute_input": "2022-03-29T01:34:52.375912Z",
     "iopub.status.busy": "2022-03-29T01:34:52.375254Z",
     "iopub.status.idle": "2022-03-29T01:34:52.382901Z",
     "shell.execute_reply": "2022-03-29T01:34:52.383450Z",
     "shell.execute_reply.started": "2022-03-29T01:33:51.569331Z"
    },
    "papermill": {
     "duration": 0.054289,
     "end_time": "2022-03-29T01:34:52.383622",
     "exception": false,
     "start_time": "2022-03-29T01:34:52.329333",
     "status": "completed"
    },
    "tags": []
   },
   "outputs": [],
   "source": [
    "X = X.drop('Cabin', axis=1)\n",
    "X_train = X_train.drop('Cabin', axis=1)\n",
    "X_val = X_val.drop('Cabin', axis=1)\n",
    "X_test = X_test.drop('Cabin', axis=1)"
   ]
  },
  {
   "cell_type": "code",
   "execution_count": 7,
   "id": "bd7ec584",
   "metadata": {
    "execution": {
     "iopub.execute_input": "2022-03-29T01:34:52.478342Z",
     "iopub.status.busy": "2022-03-29T01:34:52.477294Z",
     "iopub.status.idle": "2022-03-29T01:34:52.485360Z",
     "shell.execute_reply": "2022-03-29T01:34:52.484700Z",
     "shell.execute_reply.started": "2022-03-29T01:33:51.582587Z"
    },
    "papermill": {
     "duration": 0.058815,
     "end_time": "2022-03-29T01:34:52.485518",
     "exception": false,
     "start_time": "2022-03-29T01:34:52.426703",
     "status": "completed"
    },
    "tags": []
   },
   "outputs": [
    {
     "name": "stdout",
     "output_type": "stream",
     "text": [
      "Pclass        int64\n",
      "Sex          object\n",
      "Age         float64\n",
      "SibSp         int64\n",
      "Parch         int64\n",
      "Fare        float64\n",
      "Embarked     object\n",
      "dtype: object\n",
      "\n",
      "Unique values of categorical columns:\n",
      " Sex         2\n",
      "Embarked    3\n",
      "dtype: int64\n",
      "\n",
      "Numerical columns:\n",
      " Index(['Pclass', 'Age', 'SibSp', 'Parch', 'Fare'], dtype='object')\n"
     ]
    }
   ],
   "source": [
    "# Identifying categorical and numerical columns\n",
    "print(X_train.dtypes)\n",
    "cat_cols = X_train.columns[X_train.dtypes == 'object']\n",
    "print('\\nUnique values of categorical columns:\\n',X_train[cat_cols].nunique())\n",
    "\n",
    "num_cols = X_train.columns.drop(cat_cols)\n",
    "print('\\nNumerical columns:\\n',num_cols)"
   ]
  },
  {
   "cell_type": "markdown",
   "id": "2b7ef332",
   "metadata": {
    "papermill": {
     "duration": 0.043358,
     "end_time": "2022-03-29T01:34:52.575575",
     "exception": false,
     "start_time": "2022-03-29T01:34:52.532217",
     "status": "completed"
    },
    "tags": []
   },
   "source": [
    "## Preprocessing"
   ]
  },
  {
   "cell_type": "code",
   "execution_count": 8,
   "id": "82e93f58",
   "metadata": {
    "execution": {
     "iopub.execute_input": "2022-03-29T01:34:52.669416Z",
     "iopub.status.busy": "2022-03-29T01:34:52.668660Z",
     "iopub.status.idle": "2022-03-29T01:34:52.837154Z",
     "shell.execute_reply": "2022-03-29T01:34:52.837746Z",
     "shell.execute_reply.started": "2022-03-29T01:33:51.602051Z"
    },
    "papermill": {
     "duration": 0.216053,
     "end_time": "2022-03-29T01:34:52.837923",
     "exception": false,
     "start_time": "2022-03-29T01:34:52.621870",
     "status": "completed"
    },
    "tags": []
   },
   "outputs": [],
   "source": [
    "from sklearn.compose import ColumnTransformer\n",
    "from sklearn.pipeline import Pipeline\n",
    "from sklearn.impute import SimpleImputer\n",
    "from sklearn.preprocessing import OrdinalEncoder\n",
    "from sklearn.preprocessing import OneHotEncoder\n",
    "\n",
    "# Numerical data preprocessing\n",
    "num_preproc = SimpleImputer(strategy='mean')\n",
    "\n",
    "# Categorical data preprocesseing\n",
    "cat_preproc = Pipeline(steps=[\n",
    "    ('imputer',SimpleImputer(strategy='most_frequent')),\n",
    "    ('onehot',OrdinalEncoder(handle_unknown='error'))\n",
    "])\n",
    "\n",
    "# Combining numerical and categorical preprocessors\n",
    "preproc = ColumnTransformer(transformers=[\n",
    "    ('num',num_preproc,num_cols),\n",
    "    ('cat',cat_preproc,cat_cols)\n",
    "])"
   ]
  },
  {
   "cell_type": "markdown",
   "id": "46f93314",
   "metadata": {
    "papermill": {
     "duration": 0.044028,
     "end_time": "2022-03-29T01:34:52.930812",
     "exception": false,
     "start_time": "2022-03-29T01:34:52.886784",
     "status": "completed"
    },
    "tags": []
   },
   "source": [
    "#### Selecting Best Features"
   ]
  },
  {
   "cell_type": "code",
   "execution_count": 9,
   "id": "b47c1cea",
   "metadata": {
    "execution": {
     "iopub.execute_input": "2022-03-29T01:34:53.023677Z",
     "iopub.status.busy": "2022-03-29T01:34:53.023039Z",
     "iopub.status.idle": "2022-03-29T01:34:53.058889Z",
     "shell.execute_reply": "2022-03-29T01:34:53.059458Z",
     "shell.execute_reply.started": "2022-03-29T01:33:51.614811Z"
    },
    "papermill": {
     "duration": 0.084403,
     "end_time": "2022-03-29T01:34:53.059643",
     "exception": false,
     "start_time": "2022-03-29T01:34:52.975240",
     "status": "completed"
    },
    "tags": []
   },
   "outputs": [],
   "source": [
    "from sklearn.feature_selection import GenericUnivariateSelect, chi2\n",
    "\n",
    "X_proc = pd.DataFrame(preproc.fit_transform(X))\n",
    "X_proc.columns = X.columns\n",
    "X_proc.head()\n",
    "\n",
    "feat_selector = GenericUnivariateSelect(chi2, mode='fpr')\n",
    "\n",
    "X_best = feat_selector.fit_transform(X_proc, y)"
   ]
  },
  {
   "cell_type": "code",
   "execution_count": 10,
   "id": "dcb19cf6",
   "metadata": {
    "execution": {
     "iopub.execute_input": "2022-03-29T01:34:53.151820Z",
     "iopub.status.busy": "2022-03-29T01:34:53.151199Z",
     "iopub.status.idle": "2022-03-29T01:34:53.155216Z",
     "shell.execute_reply": "2022-03-29T01:34:53.155735Z",
     "shell.execute_reply.started": "2022-03-29T01:33:51.642413Z"
    },
    "papermill": {
     "duration": 0.051423,
     "end_time": "2022-03-29T01:34:53.155900",
     "exception": false,
     "start_time": "2022-03-29T01:34:53.104477",
     "status": "completed"
    },
    "tags": []
   },
   "outputs": [],
   "source": [
    "best_feats = feat_selector.get_feature_names_out()"
   ]
  },
  {
   "cell_type": "markdown",
   "id": "510eed7d",
   "metadata": {
    "papermill": {
     "duration": 0.04284,
     "end_time": "2022-03-29T01:34:53.243434",
     "exception": false,
     "start_time": "2022-03-29T01:34:53.200594",
     "status": "completed"
    },
    "tags": []
   },
   "source": [
    "## Building model and pipeline"
   ]
  },
  {
   "cell_type": "code",
   "execution_count": 11,
   "id": "96e217bf",
   "metadata": {
    "execution": {
     "iopub.execute_input": "2022-03-29T01:34:53.335989Z",
     "iopub.status.busy": "2022-03-29T01:34:53.335321Z",
     "iopub.status.idle": "2022-03-29T01:34:53.437881Z",
     "shell.execute_reply": "2022-03-29T01:34:53.436854Z",
     "shell.execute_reply.started": "2022-03-29T01:33:51.647619Z"
    },
    "papermill": {
     "duration": 0.15146,
     "end_time": "2022-03-29T01:34:53.438156",
     "exception": false,
     "start_time": "2022-03-29T01:34:53.286696",
     "status": "completed"
    },
    "tags": []
   },
   "outputs": [],
   "source": [
    "from sklearn.ensemble import RandomForestClassifier\n",
    "\n",
    "first_model = RandomForestClassifier(n_estimators=100, random_state=42)\n"
   ]
  },
  {
   "cell_type": "code",
   "execution_count": 12,
   "id": "a44c2522",
   "metadata": {
    "execution": {
     "iopub.execute_input": "2022-03-29T01:34:53.542932Z",
     "iopub.status.busy": "2022-03-29T01:34:53.541837Z",
     "iopub.status.idle": "2022-03-29T01:34:53.773036Z",
     "shell.execute_reply": "2022-03-29T01:34:53.773590Z",
     "shell.execute_reply.started": "2022-03-29T01:33:51.660996Z"
    },
    "papermill": {
     "duration": 0.285411,
     "end_time": "2022-03-29T01:34:53.773765",
     "exception": false,
     "start_time": "2022-03-29T01:34:53.488354",
     "status": "completed"
    },
    "tags": []
   },
   "outputs": [],
   "source": [
    "first_pipeline = Pipeline(steps=[\n",
    "    ('preprocessor',preproc),\n",
    "    ('model',first_model)\n",
    "])\n",
    "\n",
    "first_pipeline.fit(X_train,y_train)\n",
    "y_pred = first_pipeline.predict(X_val)"
   ]
  },
  {
   "cell_type": "code",
   "execution_count": 13,
   "id": "5819a004",
   "metadata": {
    "execution": {
     "iopub.execute_input": "2022-03-29T01:34:53.869267Z",
     "iopub.status.busy": "2022-03-29T01:34:53.867302Z",
     "iopub.status.idle": "2022-03-29T01:34:53.872891Z",
     "shell.execute_reply": "2022-03-29T01:34:53.872373Z",
     "shell.execute_reply.started": "2022-03-29T01:33:51.906884Z"
    },
    "papermill": {
     "duration": 0.055591,
     "end_time": "2022-03-29T01:34:53.873027",
     "exception": false,
     "start_time": "2022-03-29T01:34:53.817436",
     "status": "completed"
    },
    "tags": []
   },
   "outputs": [
    {
     "data": {
      "text/plain": [
       "0.7982062780269058"
      ]
     },
     "execution_count": 13,
     "metadata": {},
     "output_type": "execute_result"
    }
   ],
   "source": [
    "# Computing accuracy\n",
    "from sklearn.metrics import accuracy_score\n",
    "accuracy_score(y_val, y_pred)"
   ]
  },
  {
   "cell_type": "markdown",
   "id": "1561e959",
   "metadata": {
    "papermill": {
     "duration": 0.045908,
     "end_time": "2022-03-29T01:34:53.969554",
     "exception": false,
     "start_time": "2022-03-29T01:34:53.923646",
     "status": "completed"
    },
    "tags": []
   },
   "source": [
    "## Analyzing for parameter improvements"
   ]
  },
  {
   "cell_type": "code",
   "execution_count": 14,
   "id": "f4619de4",
   "metadata": {
    "execution": {
     "iopub.execute_input": "2022-03-29T01:34:54.069163Z",
     "iopub.status.busy": "2022-03-29T01:34:54.068017Z",
     "iopub.status.idle": "2022-03-29T01:34:54.070048Z",
     "shell.execute_reply": "2022-03-29T01:34:54.070549Z",
     "shell.execute_reply.started": "2022-03-29T01:33:51.916010Z"
    },
    "papermill": {
     "duration": 0.05467,
     "end_time": "2022-03-29T01:34:54.070715",
     "exception": false,
     "start_time": "2022-03-29T01:34:54.016045",
     "status": "completed"
    },
    "tags": []
   },
   "outputs": [],
   "source": [
    "# Method to build pipeline and compute accuracy based on preprocessing and model parameters\n",
    "def pipe_acc(num_preprocessor,cat_preprocessor,model):\n",
    "    \n",
    "    preproc = ColumnTransformer(transformers=[\n",
    "        ('num',num_preprocessor,num_cols),\n",
    "        ('cat',cat_preprocessor,cat_cols)\n",
    "    ])\n",
    "    my_pipeline = Pipeline(steps=[\n",
    "        ('preprocessor',preproc),\n",
    "        ('model',model)\n",
    "    ])\n",
    "    \n",
    "    my_pipeline.fit(X_train,y_train)\n",
    "    return accuracy_score(y_val,my_pipeline.predict(X_val))"
   ]
  },
  {
   "cell_type": "markdown",
   "id": "6b1c57d9",
   "metadata": {
    "papermill": {
     "duration": 0.043808,
     "end_time": "2022-03-29T01:34:54.158647",
     "exception": false,
     "start_time": "2022-03-29T01:34:54.114839",
     "status": "completed"
    },
    "tags": []
   },
   "source": [
    "### Numerical Preprocessors"
   ]
  },
  {
   "cell_type": "code",
   "execution_count": 15,
   "id": "ac000a42",
   "metadata": {
    "execution": {
     "iopub.execute_input": "2022-03-29T01:34:54.250061Z",
     "iopub.status.busy": "2022-03-29T01:34:54.249432Z",
     "iopub.status.idle": "2022-03-29T01:34:55.196825Z",
     "shell.execute_reply": "2022-03-29T01:34:55.197827Z",
     "shell.execute_reply.started": "2022-03-29T01:33:51.927980Z"
    },
    "papermill": {
     "duration": 0.995462,
     "end_time": "2022-03-29T01:34:55.198150",
     "exception": false,
     "start_time": "2022-03-29T01:34:54.202688",
     "status": "completed"
    },
    "tags": []
   },
   "outputs": [
    {
     "name": "stdout",
     "output_type": "stream",
     "text": [
      "Simple Imputer\n",
      "mean: 0.798\n",
      "median: 0.785\n",
      "most_frequent: 0.789\n",
      "constant: 0.789\n"
     ]
    }
   ],
   "source": [
    "# Analyzing numerical category preprocessors\n",
    "\n",
    "# Simple imputer parameters\n",
    "print('Simple Imputer')\n",
    "strategy = ['mean','median','most_frequent','constant']\n",
    "for s in strategy:\n",
    "    print(s+': %.3f' % (pipe_acc(SimpleImputer(strategy=s), cat_preproc, first_model)))"
   ]
  },
  {
   "cell_type": "code",
   "execution_count": 16,
   "id": "acc42920",
   "metadata": {
    "execution": {
     "iopub.execute_input": "2022-03-29T01:34:55.296273Z",
     "iopub.status.busy": "2022-03-29T01:34:55.295306Z",
     "iopub.status.idle": "2022-03-29T01:35:00.668085Z",
     "shell.execute_reply": "2022-03-29T01:35:00.667544Z",
     "shell.execute_reply.started": "2022-03-29T01:33:52.885973Z"
    },
    "papermill": {
     "duration": 5.422853,
     "end_time": "2022-03-29T01:35:00.668304",
     "exception": false,
     "start_time": "2022-03-29T01:34:55.245451",
     "status": "completed"
    },
    "tags": []
   },
   "outputs": [
    {
     "name": "stdout",
     "output_type": "stream",
     "text": [
      "KNN Imputer\n",
      "uniform 1 NN: 0.776\n",
      "distance 1 NN: 0.776\n",
      "uniform 5 NN: 0.789\n",
      "distance 5 NN: 0.780\n",
      "uniform 10 NN: 0.803\n",
      "distance 10 NN: 0.785\n",
      "uniform 15 NN: 0.816\n",
      "distance 15 NN: 0.789\n",
      "uniform 20 NN: 0.789\n",
      "distance 20 NN: 0.794\n",
      "uniform 25 NN: 0.789\n",
      "distance 25 NN: 0.780\n",
      "uniform 30 NN: 0.789\n",
      "distance 30 NN: 0.789\n",
      "uniform 35 NN: 0.776\n",
      "distance 35 NN: 0.798\n",
      "uniform 40 NN: 0.789\n",
      "distance 40 NN: 0.798\n"
     ]
    }
   ],
   "source": [
    "from sklearn.impute import KNNImputer\n",
    "\n",
    "#KNN Imputer parameters\n",
    "print('KNN Imputer')\n",
    "n_neighbors = [1, 5, 10, 15, 20, 25, 30, 35, 40]\n",
    "weights = ['uniform', 'distance']\n",
    "for n in n_neighbors:\n",
    "    for w in weights:\n",
    "        print(w+' '+str(n)+' NN: %.3f' % (pipe_acc(KNNImputer(n_neighbors=n,weights=w),cat_preproc,first_model)))"
   ]
  },
  {
   "cell_type": "markdown",
   "id": "416c4164",
   "metadata": {
    "papermill": {
     "duration": 0.052732,
     "end_time": "2022-03-29T01:35:00.775080",
     "exception": false,
     "start_time": "2022-03-29T01:35:00.722348",
     "status": "completed"
    },
    "tags": []
   },
   "source": [
    "#### Final numerical preprocessor"
   ]
  },
  {
   "cell_type": "code",
   "execution_count": 17,
   "id": "13f8b8b0",
   "metadata": {
    "execution": {
     "iopub.execute_input": "2022-03-29T01:35:00.888048Z",
     "iopub.status.busy": "2022-03-29T01:35:00.887350Z",
     "iopub.status.idle": "2022-03-29T01:35:00.890263Z",
     "shell.execute_reply": "2022-03-29T01:35:00.889746Z",
     "shell.execute_reply.started": "2022-03-29T01:33:58.315603Z"
    },
    "papermill": {
     "duration": 0.060648,
     "end_time": "2022-03-29T01:35:00.890407",
     "exception": false,
     "start_time": "2022-03-29T01:35:00.829759",
     "status": "completed"
    },
    "tags": []
   },
   "outputs": [],
   "source": [
    "fin_num_preproc = KNNImputer(n_neighbors = 20, weights='uniform')"
   ]
  },
  {
   "cell_type": "markdown",
   "id": "36d80c84",
   "metadata": {
    "papermill": {
     "duration": 0.052289,
     "end_time": "2022-03-29T01:35:00.995902",
     "exception": false,
     "start_time": "2022-03-29T01:35:00.943613",
     "status": "completed"
    },
    "tags": []
   },
   "source": [
    "### Categorical Preprocessors"
   ]
  },
  {
   "cell_type": "code",
   "execution_count": 18,
   "id": "94710a82",
   "metadata": {
    "execution": {
     "iopub.execute_input": "2022-03-29T01:35:01.128338Z",
     "iopub.status.busy": "2022-03-29T01:35:01.127581Z",
     "iopub.status.idle": "2022-03-29T01:35:02.350463Z",
     "shell.execute_reply": "2022-03-29T01:35:02.350970Z",
     "shell.execute_reply.started": "2022-03-29T01:33:58.321801Z"
    },
    "papermill": {
     "duration": 1.300944,
     "end_time": "2022-03-29T01:35:02.351184",
     "exception": false,
     "start_time": "2022-03-29T01:35:01.050240",
     "status": "completed"
    },
    "tags": []
   },
   "outputs": [
    {
     "name": "stdout",
     "output_type": "stream",
     "text": [
      "Simple Imputer Tests\n",
      "most frequent: 0.803\n",
      "constant: 0.798\n",
      "\n",
      "Encoder Tests\n",
      "one hot: 0.803\n",
      "ordinal: 0.789\n"
     ]
    }
   ],
   "source": [
    "from sklearn.preprocessing import OrdinalEncoder\n",
    "\n",
    "# Simple imputer\n",
    "print('Simple Imputer Tests')\n",
    "cat_preproc_tester = Pipeline(steps=[\n",
    "    ('imputer',SimpleImputer(strategy='most_frequent')),\n",
    "    ('onehot',OneHotEncoder(handle_unknown='ignore'))\n",
    "])\n",
    "print('most frequent: %0.3f' % (pipe_acc(fin_num_preproc,cat_preproc_tester,first_model)))\n",
    "\n",
    "cat_preproc_tester = Pipeline(steps=[\n",
    "    ('imputer',SimpleImputer(strategy='constant')),\n",
    "    ('onehot',OneHotEncoder(handle_unknown='ignore'))\n",
    "])\n",
    "print('constant: %0.3f' % (pipe_acc(fin_num_preproc,cat_preproc_tester,first_model)))\n",
    "\n",
    "# Encoder\n",
    "print('\\nEncoder Tests')\n",
    "cat_preproc_tester = Pipeline(steps=[\n",
    "    ('imputer',SimpleImputer(strategy='most_frequent')),\n",
    "    ('onehot',OneHotEncoder(handle_unknown='ignore'))\n",
    "])\n",
    "print('one hot: %0.3f' % (pipe_acc(fin_num_preproc,cat_preproc_tester,first_model)))\n",
    "\n",
    "cat_preproc_tester = Pipeline(steps=[\n",
    "    ('imputer',SimpleImputer(strategy='most_frequent')),\n",
    "    ('ordinal',OrdinalEncoder(handle_unknown='use_encoded_value', unknown_value=np.nan))\n",
    "])\n",
    "print('ordinal: %0.3f' % (pipe_acc(fin_num_preproc,cat_preproc_tester,first_model)))"
   ]
  },
  {
   "cell_type": "markdown",
   "id": "4b76081e",
   "metadata": {
    "papermill": {
     "duration": 0.054587,
     "end_time": "2022-03-29T01:35:02.460144",
     "exception": false,
     "start_time": "2022-03-29T01:35:02.405557",
     "status": "completed"
    },
    "tags": []
   },
   "source": [
    "#### Final categorical preprocessor"
   ]
  },
  {
   "cell_type": "code",
   "execution_count": 19,
   "id": "d6317c47",
   "metadata": {
    "execution": {
     "iopub.execute_input": "2022-03-29T01:35:02.575076Z",
     "iopub.status.busy": "2022-03-29T01:35:02.574077Z",
     "iopub.status.idle": "2022-03-29T01:35:02.577096Z",
     "shell.execute_reply": "2022-03-29T01:35:02.576484Z",
     "shell.execute_reply.started": "2022-03-29T01:33:59.568342Z"
    },
    "papermill": {
     "duration": 0.062431,
     "end_time": "2022-03-29T01:35:02.577265",
     "exception": false,
     "start_time": "2022-03-29T01:35:02.514834",
     "status": "completed"
    },
    "tags": []
   },
   "outputs": [],
   "source": [
    "fin_cat_preproc = Pipeline(steps=[\n",
    "    ('imputer',SimpleImputer(strategy='most_frequent')),\n",
    "    ('onehot',OneHotEncoder(handle_unknown='ignore'))\n",
    "])\n"
   ]
  },
  {
   "cell_type": "markdown",
   "id": "f7a5c7e6",
   "metadata": {
    "papermill": {
     "duration": 0.054009,
     "end_time": "2022-03-29T01:35:02.686535",
     "exception": false,
     "start_time": "2022-03-29T01:35:02.632526",
     "status": "completed"
    },
    "tags": []
   },
   "source": [
    "### Models"
   ]
  },
  {
   "cell_type": "code",
   "execution_count": 20,
   "id": "b0312ee1",
   "metadata": {
    "execution": {
     "iopub.execute_input": "2022-03-29T01:35:02.805001Z",
     "iopub.status.busy": "2022-03-29T01:35:02.804295Z",
     "iopub.status.idle": "2022-03-29T01:35:18.210202Z",
     "shell.execute_reply": "2022-03-29T01:35:18.210716Z",
     "shell.execute_reply.started": "2022-03-29T01:33:59.576294Z"
    },
    "papermill": {
     "duration": 15.469537,
     "end_time": "2022-03-29T01:35:18.210896",
     "exception": false,
     "start_time": "2022-03-29T01:35:02.741359",
     "status": "completed"
    },
    "tags": []
   },
   "outputs": [
    {
     "name": "stdout",
     "output_type": "stream",
     "text": [
      "Random Forest\n",
      "Number of Trees\n",
      "10 trees: 0.762\n",
      "50 trees: 0.785\n",
      "100 trees: 0.803\n",
      "150 trees: 0.794\n",
      "200 trees: 0.785\n",
      "250 trees: 0.794\n",
      "300 trees: 0.798\n",
      "350 trees: 0.794\n",
      "400 trees: 0.789\n",
      "\n",
      "Criterion\n",
      "gini: 0.803\n",
      "entropy: 0.794\n",
      "\n",
      "Max Depth\n",
      "None max depth: 0.803\n",
      "2 max depth: 0.785\n",
      "4 max depth: 0.812\n",
      "6 max depth: 0.816\n",
      "8 max depth: 0.821\n",
      "10 max depth: 0.816\n",
      "12 max depth: 0.798\n",
      "14 max depth: 0.798\n",
      "16 max depth: 0.798\n",
      "18 max depth: 0.789\n",
      "20 max depth: 0.803\n",
      "\n",
      "Min Samples Split\n",
      "0.01 min samples split: 0.816\n",
      "0.1 min samples split: 0.812\n",
      "0.5 min samples split: 0.785\n",
      "2 min samples split: 0.821\n",
      "4 min samples split: 0.816\n",
      "6 min samples split: 0.816\n",
      "8 min samples split: 0.812\n",
      "10 min samples split: 0.821\n",
      "12 min samples split: 0.816\n",
      "14 min samples split: 0.812\n",
      "16 min samples split: 0.816\n",
      "18 min samples split: 0.821\n",
      "20 min samples split: 0.812\n",
      "\n",
      "Min Samples Leaf\n",
      "1 min samples leaf: 0.821\n",
      "2 min samples leaf: 0.807\n",
      "4 min samples leaf: 0.825\n",
      "6 min samples leaf: 0.812\n",
      "8 min samples leaf: 0.821\n",
      "10 min samples leaf: 0.807\n",
      "12 min samples leaf: 0.807\n",
      "14 min samples leaf: 0.807\n",
      "16 min samples leaf: 0.807\n",
      "18 min samples leaf: 0.807\n",
      "20 min samples leaf: 0.812\n"
     ]
    }
   ],
   "source": [
    "# Random Forest\n",
    "print(\"Random Forest\\nNumber of Trees\")\n",
    "n_estimators = [10,50,100,150,200,250,300,350,400]\n",
    "for n in n_estimators:\n",
    "    print(str(n)+' trees: %0.3f' % (pipe_acc(fin_num_preproc,fin_cat_preproc,\n",
    "                                            RandomForestClassifier(n_estimators=n,random_state=42))))\n",
    "\n",
    "print(\"\\nCriterion\")\n",
    "print('gini: %0.3f' % (pipe_acc(fin_num_preproc,fin_cat_preproc,\n",
    "                                            RandomForestClassifier(n_estimators=100,criterion='gini',random_state=42))))\n",
    "print('entropy: %0.3f' % (pipe_acc(fin_num_preproc,fin_cat_preproc,\n",
    "                                            RandomForestClassifier(n_estimators=100,criterion='entropy',random_state=42))))\n",
    "\n",
    "print(\"\\nMax Depth\")\n",
    "max_depth = [None,2,4,6,8,10,12,14,16,18,20]\n",
    "for m in max_depth:\n",
    "    print(str(m)+' max depth: %0.3f' % (pipe_acc(fin_num_preproc,fin_cat_preproc,\n",
    "                                            RandomForestClassifier(n_estimators=100,max_depth=m,random_state=42))))\n",
    "\n",
    "print(\"\\nMin Samples Split\")\n",
    "min_samples_split = [0.01,0.1,0.5,2,4,6,8,10,12,14,16,18,20]\n",
    "for m in min_samples_split:\n",
    "    print(str(m)+' min samples split: %0.3f' % (pipe_acc(fin_num_preproc,fin_cat_preproc,\n",
    "                                                         RandomForestClassifier(n_estimators=100,min_samples_split=m,max_depth=8,random_state=42))))\n",
    "\n",
    "print(\"\\nMin Samples Leaf\")\n",
    "min_samples_leaf = [1,2,4,6,8,10,12,14,16,18,20]\n",
    "for m in min_samples_leaf:\n",
    "    print(str(m)+' min samples leaf: %0.3f' % (pipe_acc(fin_num_preproc,fin_cat_preproc,\n",
    "                                                         RandomForestClassifier(n_estimators=100,min_samples_leaf=m,max_depth=8,random_state=42))))"
   ]
  },
  {
   "cell_type": "code",
   "execution_count": 21,
   "id": "dc7d80c2",
   "metadata": {
    "execution": {
     "iopub.execute_input": "2022-03-29T01:35:18.362381Z",
     "iopub.status.busy": "2022-03-29T01:35:18.361279Z",
     "iopub.status.idle": "2022-03-29T01:35:18.363956Z",
     "shell.execute_reply": "2022-03-29T01:35:18.363458Z",
     "shell.execute_reply.started": "2022-03-29T01:34:15.147781Z"
    },
    "papermill": {
     "duration": 0.080461,
     "end_time": "2022-03-29T01:35:18.364137",
     "exception": false,
     "start_time": "2022-03-29T01:35:18.283676",
     "status": "completed"
    },
    "tags": []
   },
   "outputs": [],
   "source": [
    "fin_forest_model = RandomForestClassifier(n_estimators=100, max_depth=8, random_state=42)\n",
    "\n",
    "fin_preproc = ColumnTransformer(transformers=[\n",
    "    ('num',fin_num_preproc,num_cols),\n",
    "    ('cat',fin_cat_preproc,cat_cols)\n",
    "])\n",
    "\n",
    "fin_forest_pipeline = Pipeline(steps=[\n",
    "    ('preprocessor',fin_preproc),\n",
    "    ('model',fin_forest_model)\n",
    "])"
   ]
  },
  {
   "cell_type": "markdown",
   "id": "b67dc0bf",
   "metadata": {
    "papermill": {
     "duration": 0.07171,
     "end_time": "2022-03-29T01:35:18.508494",
     "exception": false,
     "start_time": "2022-03-29T01:35:18.436784",
     "status": "completed"
    },
    "tags": []
   },
   "source": [
    "## Cross-Validation"
   ]
  },
  {
   "cell_type": "code",
   "execution_count": 22,
   "id": "4183b128",
   "metadata": {
    "execution": {
     "iopub.execute_input": "2022-03-29T01:35:18.655531Z",
     "iopub.status.busy": "2022-03-29T01:35:18.654803Z",
     "iopub.status.idle": "2022-03-29T01:35:20.109477Z",
     "shell.execute_reply": "2022-03-29T01:35:20.108792Z",
     "shell.execute_reply.started": "2022-03-29T01:34:15.157099Z"
    },
    "papermill": {
     "duration": 1.529236,
     "end_time": "2022-03-29T01:35:20.109620",
     "exception": false,
     "start_time": "2022-03-29T01:35:18.580384",
     "status": "completed"
    },
    "tags": []
   },
   "outputs": [
    {
     "name": "stdout",
     "output_type": "stream",
     "text": [
      "Average accuracy:\n",
      " 0.831680371602536\n"
     ]
    }
   ],
   "source": [
    "# Evaluating model with cross-validation\n",
    "from sklearn.model_selection import cross_val_score\n",
    "\n",
    "scores = cross_val_score(fin_forest_pipeline, X, y,\n",
    "                         cv=5,\n",
    "                         scoring='accuracy')\n",
    "\n",
    "print(\"Average accuracy:\\n\", scores.mean())"
   ]
  },
  {
   "cell_type": "markdown",
   "id": "cb5cf02d",
   "metadata": {
    "papermill": {
     "duration": 0.071445,
     "end_time": "2022-03-29T01:35:20.252790",
     "exception": false,
     "start_time": "2022-03-29T01:35:20.181345",
     "status": "completed"
    },
    "tags": []
   },
   "source": [
    "## XGBoost"
   ]
  },
  {
   "cell_type": "code",
   "execution_count": 23,
   "id": "50f3c71c",
   "metadata": {
    "execution": {
     "iopub.execute_input": "2022-03-29T01:35:20.406497Z",
     "iopub.status.busy": "2022-03-29T01:35:20.405817Z",
     "iopub.status.idle": "2022-03-29T01:35:20.447266Z",
     "shell.execute_reply": "2022-03-29T01:35:20.448200Z",
     "shell.execute_reply.started": "2022-03-29T01:34:16.631392Z"
    },
    "papermill": {
     "duration": 0.124069,
     "end_time": "2022-03-29T01:35:20.448497",
     "exception": false,
     "start_time": "2022-03-29T01:35:20.324428",
     "status": "completed"
    },
    "tags": []
   },
   "outputs": [],
   "source": [
    "X_train_proc = pd.DataFrame(fin_preproc.fit_transform(X_train))\n",
    "X_val_proc = pd.DataFrame(fin_preproc.fit_transform(X_val))"
   ]
  },
  {
   "cell_type": "code",
   "execution_count": 24,
   "id": "05400d52",
   "metadata": {
    "execution": {
     "iopub.execute_input": "2022-03-29T01:35:20.635060Z",
     "iopub.status.busy": "2022-03-29T01:35:20.634207Z",
     "iopub.status.idle": "2022-03-29T01:35:20.735776Z",
     "shell.execute_reply": "2022-03-29T01:35:20.736310Z",
     "shell.execute_reply.started": "2022-03-29T01:34:16.695610Z"
    },
    "papermill": {
     "duration": 0.178632,
     "end_time": "2022-03-29T01:35:20.736488",
     "exception": false,
     "start_time": "2022-03-29T01:35:20.557856",
     "status": "completed"
    },
    "tags": []
   },
   "outputs": [],
   "source": [
    "from xgboost import XGBClassifier\n",
    "\n",
    "def xgb_acc(xgb_model):\n",
    "    xgb_model.fit(X_train_proc, y_train)\n",
    "\n",
    "    y_xgbpred = xgb_model.predict(X_val_proc)\n",
    "    \n",
    "    return accuracy_score(y_val,y_xgbpred)"
   ]
  },
  {
   "cell_type": "code",
   "execution_count": 25,
   "id": "6409baa9",
   "metadata": {
    "execution": {
     "iopub.execute_input": "2022-03-29T01:35:20.882204Z",
     "iopub.status.busy": "2022-03-29T01:35:20.881525Z",
     "iopub.status.idle": "2022-03-29T01:35:22.536708Z",
     "shell.execute_reply": "2022-03-29T01:35:22.537584Z",
     "shell.execute_reply.started": "2022-03-29T01:34:16.705497Z"
    },
    "papermill": {
     "duration": 1.729869,
     "end_time": "2022-03-29T01:35:22.537838",
     "exception": false,
     "start_time": "2022-03-29T01:35:20.807969",
     "status": "completed"
    },
    "tags": []
   },
   "outputs": [
    {
     "name": "stdout",
     "output_type": "stream",
     "text": [
      "Default Parameters Accuracy\n",
      "Default: 0.767\n",
      "\n",
      "Number of Estimators\n",
      "5.0 trees: 0.825\n",
      "10.0 trees: 0.812\n",
      "15.0 trees: 0.821\n",
      "20.0 trees: 0.798\n",
      "25.0 trees: 0.785\n",
      "30.0 trees: 0.780\n",
      "35.0 trees: 0.771\n",
      "40.0 trees: 0.771\n",
      "\n",
      "Max Depth\n",
      "2.0 max depth: 0.776\n",
      "4.0 max depth: 0.821\n",
      "6.0 max depth: 0.825\n",
      "8.0 max depth: 0.812\n",
      "10.0 max depth: 0.807\n",
      "12.0 max depth: 0.798\n",
      "14.0 max depth: 0.798\n",
      "16.0 max depth: 0.798\n",
      "18.0 max depth: 0.798\n",
      "20.0 max depth: 0.798\n",
      "\n",
      "Learning Rate\n",
      "0.1 max depth: 0.830\n",
      "0.2 max depth: 0.830\n",
      "0.3 max depth: 0.825\n",
      "0.4 max depth: 0.816\n",
      "0.5 max depth: 0.803\n",
      "0.6 max depth: 0.807\n",
      "0.7 max depth: 0.830\n",
      "0.8 max depth: 0.803\n",
      "0.9 max depth: 0.821\n"
     ]
    }
   ],
   "source": [
    "# XGBost Parameter Analyzation\n",
    "print('Default Parameters Accuracy')\n",
    "print('Default: %0.3f' %(xgb_acc(XGBClassifier(verbosity=0,\n",
    "                                               use_label_encoder=False))))    \n",
    "\n",
    "print('\\nNumber of Estimators')\n",
    "for n in range(5,45,5):\n",
    "    print('%0.1f trees: %0.3f' % (n,xgb_acc(XGBClassifier(n_estimators=n,\n",
    "                                                               verbosity=0,\n",
    "                                                               use_label_encoder=False))))\n",
    "#n_estimators = 20\n",
    "\n",
    "\n",
    "print('\\nMax Depth')\n",
    "for n in range(2,21,2):\n",
    "    print('%0.1f max depth: %0.3f' % (n,xgb_acc(XGBClassifier(max_depth=n,\n",
    "                                                              n_estimators=5,\n",
    "                                                              verbosity=0,\n",
    "                                                              use_label_encoder=False))))\n",
    "#max_depth = 6\n",
    "\n",
    "print('\\nLearning Rate')\n",
    "for l in np.arange(0.1,1,0.1):\n",
    "    print('%0.1f max depth: %0.3f' % (l,xgb_acc(XGBClassifier(learning_rate=l,\n",
    "                                                              n_estimators=5,\n",
    "                                                              verbosity=0,\n",
    "                                                              use_label_encoder=False))))\n"
   ]
  },
  {
   "cell_type": "code",
   "execution_count": null,
   "id": "9ca5f995",
   "metadata": {
    "papermill": {
     "duration": 0.074016,
     "end_time": "2022-03-29T01:35:22.689970",
     "exception": false,
     "start_time": "2022-03-29T01:35:22.615954",
     "status": "completed"
    },
    "tags": []
   },
   "outputs": [],
   "source": []
  },
  {
   "cell_type": "markdown",
   "id": "e2cc93f2",
   "metadata": {
    "papermill": {
     "duration": 0.074594,
     "end_time": "2022-03-29T01:35:22.839773",
     "exception": false,
     "start_time": "2022-03-29T01:35:22.765179",
     "status": "completed"
    },
    "tags": []
   },
   "source": [
    "## BREAK"
   ]
  },
  {
   "cell_type": "markdown",
   "id": "dfa7396b",
   "metadata": {
    "papermill": {
     "duration": 0.075091,
     "end_time": "2022-03-29T01:35:22.989222",
     "exception": false,
     "start_time": "2022-03-29T01:35:22.914131",
     "status": "completed"
    },
    "tags": []
   },
   "source": [
    "## Final Model"
   ]
  },
  {
   "cell_type": "code",
   "execution_count": 26,
   "id": "332262e0",
   "metadata": {
    "execution": {
     "iopub.execute_input": "2022-03-29T01:35:23.178194Z",
     "iopub.status.busy": "2022-03-29T01:35:23.174090Z",
     "iopub.status.idle": "2022-03-29T01:35:23.497900Z",
     "shell.execute_reply": "2022-03-29T01:35:23.498855Z",
     "shell.execute_reply.started": "2022-03-29T01:34:18.422032Z"
    },
    "papermill": {
     "duration": 0.425538,
     "end_time": "2022-03-29T01:35:23.499164",
     "exception": false,
     "start_time": "2022-03-29T01:35:23.073626",
     "status": "completed"
    },
    "tags": []
   },
   "outputs": [],
   "source": [
    "\n",
    "fin_model = fin_forest_model\n",
    "\n",
    "fin_preproc = ColumnTransformer(transformers=[\n",
    "    ('num',fin_num_preproc,num_cols),\n",
    "    ('cat',fin_cat_preproc,cat_cols)\n",
    "])\n",
    "\n",
    "fin_pipeline = Pipeline(steps=[\n",
    "    ('preprocessor',fin_preproc),\n",
    "    ('model',fin_model)\n",
    "])\n",
    "\n",
    "fin_pipeline.fit(X_train,y_train)\n",
    "pred_test = fin_pipeline.predict(X_test)"
   ]
  },
  {
   "cell_type": "markdown",
   "id": "9b3e9b65",
   "metadata": {
    "papermill": {
     "duration": 0.074213,
     "end_time": "2022-03-29T01:35:23.684996",
     "exception": false,
     "start_time": "2022-03-29T01:35:23.610783",
     "status": "completed"
    },
    "tags": []
   },
   "source": [
    "## Saving output for submission"
   ]
  },
  {
   "cell_type": "code",
   "execution_count": 27,
   "id": "83575926",
   "metadata": {
    "execution": {
     "iopub.execute_input": "2022-03-29T01:35:23.842335Z",
     "iopub.status.busy": "2022-03-29T01:35:23.841609Z",
     "iopub.status.idle": "2022-03-29T01:35:23.847240Z",
     "shell.execute_reply": "2022-03-29T01:35:23.847754Z",
     "shell.execute_reply.started": "2022-03-29T01:34:18.767588Z"
    },
    "papermill": {
     "duration": 0.088382,
     "end_time": "2022-03-29T01:35:23.847922",
     "exception": false,
     "start_time": "2022-03-29T01:35:23.759540",
     "status": "completed"
    },
    "tags": []
   },
   "outputs": [],
   "source": [
    "output = pd.DataFrame({'PassengerId': test.index,\n",
    "                       'Survived': pred_test})\n",
    "output.to_csv('submission.csv', index=False)"
   ]
  },
  {
   "cell_type": "code",
   "execution_count": 28,
   "id": "149685a2",
   "metadata": {
    "execution": {
     "iopub.execute_input": "2022-03-29T01:35:24.001240Z",
     "iopub.status.busy": "2022-03-29T01:35:24.000549Z",
     "iopub.status.idle": "2022-03-29T01:35:24.007888Z",
     "shell.execute_reply": "2022-03-29T01:35:24.008416Z",
     "shell.execute_reply.started": "2022-03-29T01:34:18.779993Z"
    },
    "papermill": {
     "duration": 0.08618,
     "end_time": "2022-03-29T01:35:24.008592",
     "exception": false,
     "start_time": "2022-03-29T01:35:23.922412",
     "status": "completed"
    },
    "tags": []
   },
   "outputs": [
    {
     "data": {
      "text/plain": [
       "(418, 2)"
      ]
     },
     "execution_count": 28,
     "metadata": {},
     "output_type": "execute_result"
    }
   ],
   "source": [
    "s = pd.read_csv('./submission.csv')\n",
    "s.shape"
   ]
  }
 ],
 "metadata": {
  "kernelspec": {
   "display_name": "Python 3",
   "language": "python",
   "name": "python3"
  },
  "language_info": {
   "codemirror_mode": {
    "name": "ipython",
    "version": 3
   },
   "file_extension": ".py",
   "mimetype": "text/x-python",
   "name": "python",
   "nbconvert_exporter": "python",
   "pygments_lexer": "ipython3",
   "version": "3.7.12"
  },
  "papermill": {
   "default_parameters": {},
   "duration": 45.175711,
   "end_time": "2022-03-29T01:35:24.793710",
   "environment_variables": {},
   "exception": null,
   "input_path": "__notebook__.ipynb",
   "output_path": "__notebook__.ipynb",
   "parameters": {},
   "start_time": "2022-03-29T01:34:39.617999",
   "version": "2.3.3"
  }
 },
 "nbformat": 4,
 "nbformat_minor": 5
}
