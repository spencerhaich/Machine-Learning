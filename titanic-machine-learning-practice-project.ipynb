{
 "cells": [
  {
   "cell_type": "markdown",
   "id": "3f292aa1",
   "metadata": {
    "papermill": {
     "duration": 0.035,
     "end_time": "2022-03-25T19:46:22.075422",
     "exception": false,
     "start_time": "2022-03-25T19:46:22.040422",
     "status": "completed"
    },
    "tags": []
   },
   "source": [
    "# Titanic Machine Learning Practice Project\n",
    "In this practice project, we use machine learning to predict if a given passenger will survive the Titanic crash. This is an ongoing competition on kaggle.com. I did this project to gain knowledge and experience in machine learning and data science. "
   ]
  },
  {
   "cell_type": "code",
   "execution_count": 1,
   "id": "9520cf91",
   "metadata": {
    "_cell_guid": "b1076dfc-b9ad-4769-8c92-a6c4dae69d19",
    "_uuid": "8f2839f25d086af736a60e9eeb907d3b93b6e0e5",
    "execution": {
     "iopub.execute_input": "2022-03-25T19:46:22.151462Z",
     "iopub.status.busy": "2022-03-25T19:46:22.145394Z",
     "iopub.status.idle": "2022-03-25T19:46:23.314125Z",
     "shell.execute_reply": "2022-03-25T19:46:23.313432Z",
     "shell.execute_reply.started": "2022-03-25T19:44:52.968829Z"
    },
    "papermill": {
     "duration": 1.205444,
     "end_time": "2022-03-25T19:46:23.314292",
     "exception": false,
     "start_time": "2022-03-25T19:46:22.108848",
     "status": "completed"
    },
    "tags": []
   },
   "outputs": [],
   "source": [
    "import numpy as np \n",
    "import pandas as pd \n",
    "import matplotlib.pyplot as plt\n",
    "from sklearn.model_selection import train_test_split"
   ]
  },
  {
   "cell_type": "markdown",
   "id": "cf4407d3",
   "metadata": {
    "papermill": {
     "duration": 0.030357,
     "end_time": "2022-03-25T19:46:23.374848",
     "exception": false,
     "start_time": "2022-03-25T19:46:23.344491",
     "status": "completed"
    },
    "tags": []
   },
   "source": [
    "## Loading Data\n",
    "\n",
    "In the code below I load the data and partition the data into variables. Our prediction clastrain_test_splitput into the y variable. Our predictor classes are put into X for training data and X_test for the testing data that we will eventually make our final predictions with. PassengerId, Ticket,\n",
    "and Name are excluded from the training and testing data because these categories are not expected contribute helpful information for survival prediction. \n",
    "\n",
    "I then split the training data into train and validation sets. "
   ]
  },
  {
   "cell_type": "code",
   "execution_count": 2,
   "id": "e96648f9",
   "metadata": {
    "execution": {
     "iopub.execute_input": "2022-03-25T19:46:23.442808Z",
     "iopub.status.busy": "2022-03-25T19:46:23.441874Z",
     "iopub.status.idle": "2022-03-25T19:46:23.483165Z",
     "shell.execute_reply": "2022-03-25T19:46:23.483712Z",
     "shell.execute_reply.started": "2022-03-25T19:44:52.978785Z"
    },
    "papermill": {
     "duration": 0.07873,
     "end_time": "2022-03-25T19:46:23.483880",
     "exception": false,
     "start_time": "2022-03-25T19:46:23.405150",
     "status": "completed"
    },
    "tags": []
   },
   "outputs": [
    {
     "name": "stdout",
     "output_type": "stream",
     "text": [
      "Training Data:\n",
      " (891, 12)\n",
      "\n",
      "\n",
      "Testing Data:\n",
      " (418, 11)\n"
     ]
    }
   ],
   "source": [
    "# Importing Data\n",
    "train = pd.read_csv('../input/titanic/train.csv')\n",
    "test = pd.read_csv('../input/titanic/test.csv')\n",
    "\n",
    "# View aspects of each dataframe\n",
    "print('Training Data:\\n', train.shape)\n",
    "print('\\n\\nTesting Data:\\n', test.shape)\n",
    "\n",
    "y = train.Survived\n",
    "\n",
    "# Selecting all features, excluding PassengerId, Survived, and Name\n",
    "features = ['Pclass','Sex','Age','SibSp','Parch','Fare','Cabin','Embarked']\n",
    "X = train[features]\n",
    "X_test = test[features]\n",
    "\n",
    "# Splitting training data into train and validation sets\n",
    "X_train, X_val, y_train, y_val = train_test_split(X, y, random_state=42)"
   ]
  },
  {
   "cell_type": "code",
   "execution_count": 3,
   "id": "7a8560a7",
   "metadata": {
    "execution": {
     "iopub.execute_input": "2022-03-25T19:46:23.550537Z",
     "iopub.status.busy": "2022-03-25T19:46:23.549523Z",
     "iopub.status.idle": "2022-03-25T19:46:23.559756Z",
     "shell.execute_reply": "2022-03-25T19:46:23.560327Z",
     "shell.execute_reply.started": "2022-03-25T19:44:53.010381Z"
    },
    "papermill": {
     "duration": 0.045103,
     "end_time": "2022-03-25T19:46:23.560517",
     "exception": false,
     "start_time": "2022-03-25T19:46:23.515414",
     "status": "completed"
    },
    "tags": []
   },
   "outputs": [],
   "source": [
    "gs = pd.read_csv('../input/titanic/gender_submission.csv')"
   ]
  },
  {
   "cell_type": "markdown",
   "id": "f29247a1",
   "metadata": {
    "papermill": {
     "duration": 0.030933,
     "end_time": "2022-03-25T19:46:23.623326",
     "exception": false,
     "start_time": "2022-03-25T19:46:23.592393",
     "status": "completed"
    },
    "tags": []
   },
   "source": [
    "## Data Exploration\n"
   ]
  },
  {
   "cell_type": "code",
   "execution_count": 4,
   "id": "ee674b22",
   "metadata": {
    "execution": {
     "iopub.execute_input": "2022-03-25T19:46:23.693391Z",
     "iopub.status.busy": "2022-03-25T19:46:23.688348Z",
     "iopub.status.idle": "2022-03-25T19:46:23.706387Z",
     "shell.execute_reply": "2022-03-25T19:46:23.705672Z",
     "shell.execute_reply.started": "2022-03-25T19:44:53.018975Z"
    },
    "papermill": {
     "duration": 0.052112,
     "end_time": "2022-03-25T19:46:23.706534",
     "exception": false,
     "start_time": "2022-03-25T19:46:23.654422",
     "status": "completed"
    },
    "tags": []
   },
   "outputs": [
    {
     "name": "stdout",
     "output_type": "stream",
     "text": [
      "Training Data\n",
      "(668, 8)\n",
      "Age         132\n",
      "Cabin       519\n",
      "Embarked      2\n",
      "dtype: int64\n",
      "\n",
      "Validation Data\n",
      "(223, 8)\n",
      "Age       45\n",
      "Cabin    168\n",
      "dtype: int64\n",
      "\n",
      "Testing Data\n",
      "(418, 8)\n",
      "Age       86\n",
      "Fare       1\n",
      "Cabin    327\n",
      "dtype: int64\n"
     ]
    }
   ],
   "source": [
    "# Checking for columns with missing values\n",
    "print('Training Data')\n",
    "print(X_train.shape)\n",
    "miss_val_col = X_train.isnull().sum()\n",
    "print(miss_val_col[miss_val_col>0])\n",
    "\n",
    "print('\\nValidation Data')\n",
    "print(X_val.shape)\n",
    "miss_val_col = X_val.isnull().sum()\n",
    "print(miss_val_col[miss_val_col>0])\n",
    "\n",
    "print('\\nTesting Data')\n",
    "print(X_test.shape)\n",
    "miss_val_col = X_test.isnull().sum()\n",
    "print(miss_val_col[miss_val_col>0])"
   ]
  },
  {
   "cell_type": "code",
   "execution_count": 5,
   "id": "1aa8d2ac",
   "metadata": {
    "execution": {
     "iopub.execute_input": "2022-03-25T19:46:23.779568Z",
     "iopub.status.busy": "2022-03-25T19:46:23.778498Z",
     "iopub.status.idle": "2022-03-25T19:46:23.787369Z",
     "shell.execute_reply": "2022-03-25T19:46:23.787879Z",
     "shell.execute_reply.started": "2022-03-25T19:44:53.042216Z"
    },
    "papermill": {
     "duration": 0.046725,
     "end_time": "2022-03-25T19:46:23.788089",
     "exception": false,
     "start_time": "2022-03-25T19:46:23.741364",
     "status": "completed"
    },
    "tags": []
   },
   "outputs": [],
   "source": [
    "X_train = X_train.drop('Cabin',axis=1)\n",
    "X_val = X_val.drop('Cabin',axis=1)\n",
    "X_test = X_test.drop('Cabin',axis=1)"
   ]
  },
  {
   "cell_type": "code",
   "execution_count": 6,
   "id": "12e09690",
   "metadata": {
    "execution": {
     "iopub.execute_input": "2022-03-25T19:46:23.855349Z",
     "iopub.status.busy": "2022-03-25T19:46:23.854359Z",
     "iopub.status.idle": "2022-03-25T19:46:23.865305Z",
     "shell.execute_reply": "2022-03-25T19:46:23.865825Z",
     "shell.execute_reply.started": "2022-03-25T19:44:53.098593Z"
    },
    "papermill": {
     "duration": 0.046107,
     "end_time": "2022-03-25T19:46:23.866000",
     "exception": false,
     "start_time": "2022-03-25T19:46:23.819893",
     "status": "completed"
    },
    "tags": []
   },
   "outputs": [
    {
     "name": "stdout",
     "output_type": "stream",
     "text": [
      "Pclass        int64\n",
      "Sex          object\n",
      "Age         float64\n",
      "SibSp         int64\n",
      "Parch         int64\n",
      "Fare        float64\n",
      "Embarked     object\n",
      "dtype: object\n",
      "\n",
      "Unique values of categorical columns:\n",
      " Sex         2\n",
      "Embarked    3\n",
      "dtype: int64\n",
      "\n",
      "Numerical columns:\n",
      " Index(['Pclass', 'Age', 'SibSp', 'Parch', 'Fare'], dtype='object')\n"
     ]
    }
   ],
   "source": [
    "# Identifying categorical and numerical columns\n",
    "print(X_train.dtypes)\n",
    "cat_cols = X_train.columns[X_train.dtypes == 'object']\n",
    "print('\\nUnique values of categorical columns:\\n',X_train[cat_cols].nunique())\n",
    "\n",
    "num_cols = X_train.columns.drop(cat_cols)\n",
    "print('\\nNumerical columns:\\n',num_cols)"
   ]
  },
  {
   "cell_type": "markdown",
   "id": "3eed36ab",
   "metadata": {
    "papermill": {
     "duration": 0.031464,
     "end_time": "2022-03-25T19:46:23.929946",
     "exception": false,
     "start_time": "2022-03-25T19:46:23.898482",
     "status": "completed"
    },
    "tags": []
   },
   "source": [
    "## Preprocessing"
   ]
  },
  {
   "cell_type": "code",
   "execution_count": 7,
   "id": "7a9811c4",
   "metadata": {
    "execution": {
     "iopub.execute_input": "2022-03-25T19:46:23.997449Z",
     "iopub.status.busy": "2022-03-25T19:46:23.996448Z",
     "iopub.status.idle": "2022-03-25T19:46:24.145442Z",
     "shell.execute_reply": "2022-03-25T19:46:24.145958Z",
     "shell.execute_reply.started": "2022-03-25T19:44:53.144778Z"
    },
    "papermill": {
     "duration": 0.184195,
     "end_time": "2022-03-25T19:46:24.146160",
     "exception": false,
     "start_time": "2022-03-25T19:46:23.961965",
     "status": "completed"
    },
    "tags": []
   },
   "outputs": [],
   "source": [
    "from sklearn.compose import ColumnTransformer\n",
    "from sklearn.pipeline import Pipeline\n",
    "from sklearn.impute import SimpleImputer\n",
    "from sklearn.preprocessing import OneHotEncoder\n",
    "\n",
    "# Numerical data preprocessing\n",
    "num_preproc = SimpleImputer(strategy='mean')\n",
    "\n",
    "# Categorical data preprocesseing\n",
    "cat_preproc = Pipeline(steps=[\n",
    "    ('imputer',SimpleImputer(strategy='most_frequent')),\n",
    "    ('onehot',OneHotEncoder(handle_unknown='ignore'))\n",
    "])\n",
    "\n",
    "# Combining numerical and categorical preprocessors\n",
    "preproc = ColumnTransformer(transformers=[\n",
    "    ('num',num_preproc,num_cols),\n",
    "    ('cat',cat_preproc,cat_cols)\n",
    "])"
   ]
  },
  {
   "cell_type": "markdown",
   "id": "59210ddb",
   "metadata": {
    "papermill": {
     "duration": 0.032568,
     "end_time": "2022-03-25T19:46:24.211675",
     "exception": false,
     "start_time": "2022-03-25T19:46:24.179107",
     "status": "completed"
    },
    "tags": []
   },
   "source": [
    "## Building model and pipeline"
   ]
  },
  {
   "cell_type": "code",
   "execution_count": 8,
   "id": "e054cae7",
   "metadata": {
    "execution": {
     "iopub.execute_input": "2022-03-25T19:46:24.281781Z",
     "iopub.status.busy": "2022-03-25T19:46:24.281121Z",
     "iopub.status.idle": "2022-03-25T19:46:24.366286Z",
     "shell.execute_reply": "2022-03-25T19:46:24.366806Z",
     "shell.execute_reply.started": "2022-03-25T19:44:53.213895Z"
    },
    "papermill": {
     "duration": 0.122631,
     "end_time": "2022-03-25T19:46:24.367020",
     "exception": false,
     "start_time": "2022-03-25T19:46:24.244389",
     "status": "completed"
    },
    "tags": []
   },
   "outputs": [],
   "source": [
    "from sklearn.ensemble import RandomForestClassifier\n",
    "\n",
    "first_model = RandomForestClassifier(n_estimators=100, random_state=42)\n"
   ]
  },
  {
   "cell_type": "code",
   "execution_count": 9,
   "id": "657ce062",
   "metadata": {
    "execution": {
     "iopub.execute_input": "2022-03-25T19:46:24.449890Z",
     "iopub.status.busy": "2022-03-25T19:46:24.445028Z",
     "iopub.status.idle": "2022-03-25T19:46:24.677253Z",
     "shell.execute_reply": "2022-03-25T19:46:24.676453Z",
     "shell.execute_reply.started": "2022-03-25T19:44:53.402372Z"
    },
    "papermill": {
     "duration": 0.276569,
     "end_time": "2022-03-25T19:46:24.677401",
     "exception": false,
     "start_time": "2022-03-25T19:46:24.400832",
     "status": "completed"
    },
    "tags": []
   },
   "outputs": [],
   "source": [
    "first_pipeline = Pipeline(steps=[\n",
    "    ('preprocessor',preproc),\n",
    "    ('model',first_model)\n",
    "])\n",
    "\n",
    "first_pipeline.fit(X_train,y_train)\n",
    "y_pred = first_pipeline.predict(X_val)"
   ]
  },
  {
   "cell_type": "code",
   "execution_count": 10,
   "id": "e20e4d7a",
   "metadata": {
    "execution": {
     "iopub.execute_input": "2022-03-25T19:46:24.753662Z",
     "iopub.status.busy": "2022-03-25T19:46:24.752545Z",
     "iopub.status.idle": "2022-03-25T19:46:24.756918Z",
     "shell.execute_reply": "2022-03-25T19:46:24.756306Z",
     "shell.execute_reply.started": "2022-03-25T19:44:53.599748Z"
    },
    "papermill": {
     "duration": 0.045627,
     "end_time": "2022-03-25T19:46:24.757089",
     "exception": false,
     "start_time": "2022-03-25T19:46:24.711462",
     "status": "completed"
    },
    "tags": []
   },
   "outputs": [
    {
     "data": {
      "text/plain": [
       "0.7802690582959642"
      ]
     },
     "execution_count": 10,
     "metadata": {},
     "output_type": "execute_result"
    }
   ],
   "source": [
    "# Computing accuracy\n",
    "from sklearn.metrics import accuracy_score\n",
    "accuracy_score(y_val, y_pred)"
   ]
  },
  {
   "cell_type": "markdown",
   "id": "162e2476",
   "metadata": {
    "papermill": {
     "duration": 0.032488,
     "end_time": "2022-03-25T19:46:24.823091",
     "exception": false,
     "start_time": "2022-03-25T19:46:24.790603",
     "status": "completed"
    },
    "tags": []
   },
   "source": [
    "## Analyzing for parameter improvements"
   ]
  },
  {
   "cell_type": "code",
   "execution_count": 11,
   "id": "3449bf25",
   "metadata": {
    "execution": {
     "iopub.execute_input": "2022-03-25T19:46:24.895211Z",
     "iopub.status.busy": "2022-03-25T19:46:24.894472Z",
     "iopub.status.idle": "2022-03-25T19:46:24.896633Z",
     "shell.execute_reply": "2022-03-25T19:46:24.896010Z",
     "shell.execute_reply.started": "2022-03-25T19:44:53.609691Z"
    },
    "papermill": {
     "duration": 0.041538,
     "end_time": "2022-03-25T19:46:24.896767",
     "exception": false,
     "start_time": "2022-03-25T19:46:24.855229",
     "status": "completed"
    },
    "tags": []
   },
   "outputs": [],
   "source": [
    "# Method to build pipeline and compute accuracy based on preprocessing and model parameters\n",
    "def pipe_acc(num_preprocessor,cat_preprocessor,model):\n",
    "    \n",
    "    preproc = ColumnTransformer(transformers=[\n",
    "        ('num',num_preprocessor,num_cols),\n",
    "        ('cat',cat_preprocessor,cat_cols)\n",
    "    ])\n",
    "    my_pipeline = Pipeline(steps=[\n",
    "        ('preprocessor',preproc),\n",
    "        ('model',model)\n",
    "    ])\n",
    "    \n",
    "    my_pipeline.fit(X_train,y_train)\n",
    "    return accuracy_score(y_val,my_pipeline.predict(X_val))"
   ]
  },
  {
   "cell_type": "markdown",
   "id": "7b1c8d7e",
   "metadata": {
    "papermill": {
     "duration": 0.033256,
     "end_time": "2022-03-25T19:46:24.964072",
     "exception": false,
     "start_time": "2022-03-25T19:46:24.930816",
     "status": "completed"
    },
    "tags": []
   },
   "source": [
    "### Numerical Preprocessors"
   ]
  },
  {
   "cell_type": "code",
   "execution_count": 12,
   "id": "a62a6fbd",
   "metadata": {
    "execution": {
     "iopub.execute_input": "2022-03-25T19:46:25.033338Z",
     "iopub.status.busy": "2022-03-25T19:46:25.032655Z",
     "iopub.status.idle": "2022-03-25T19:46:25.972201Z",
     "shell.execute_reply": "2022-03-25T19:46:25.971527Z",
     "shell.execute_reply.started": "2022-03-25T19:44:53.620954Z"
    },
    "papermill": {
     "duration": 0.97486,
     "end_time": "2022-03-25T19:46:25.972351",
     "exception": false,
     "start_time": "2022-03-25T19:46:24.997491",
     "status": "completed"
    },
    "tags": []
   },
   "outputs": [
    {
     "name": "stdout",
     "output_type": "stream",
     "text": [
      "Simple Imputer\n",
      "mean: 0.780\n",
      "median: 0.771\n",
      "most_frequent: 0.776\n",
      "constant: 0.785\n"
     ]
    }
   ],
   "source": [
    "# Analyzing numerical category preprocessors\n",
    "\n",
    "# Simple imputer parameters\n",
    "print('Simple Imputer')\n",
    "strategy = ['mean','median','most_frequent','constant']\n",
    "for s in strategy:\n",
    "    print(s+': %.3f' % (pipe_acc(SimpleImputer(strategy=s), cat_preproc, first_model)))"
   ]
  },
  {
   "cell_type": "code",
   "execution_count": 13,
   "id": "839dd899",
   "metadata": {
    "execution": {
     "iopub.execute_input": "2022-03-25T19:46:26.054521Z",
     "iopub.status.busy": "2022-03-25T19:46:26.053730Z",
     "iopub.status.idle": "2022-03-25T19:46:31.418474Z",
     "shell.execute_reply": "2022-03-25T19:46:31.417863Z",
     "shell.execute_reply.started": "2022-03-25T19:44:54.395490Z"
    },
    "papermill": {
     "duration": 5.410843,
     "end_time": "2022-03-25T19:46:31.418626",
     "exception": false,
     "start_time": "2022-03-25T19:46:26.007783",
     "status": "completed"
    },
    "tags": []
   },
   "outputs": [
    {
     "name": "stdout",
     "output_type": "stream",
     "text": [
      "KNN Imputer\n",
      "uniform 1 NN: 0.771\n",
      "distance 1 NN: 0.771\n",
      "uniform 5 NN: 0.771\n",
      "distance 5 NN: 0.767\n",
      "uniform 10 NN: 0.794\n",
      "distance 10 NN: 0.780\n",
      "uniform 15 NN: 0.794\n",
      "distance 15 NN: 0.776\n",
      "uniform 20 NN: 0.803\n",
      "distance 20 NN: 0.780\n",
      "uniform 25 NN: 0.771\n",
      "distance 25 NN: 0.785\n",
      "uniform 30 NN: 0.780\n",
      "distance 30 NN: 0.789\n",
      "uniform 35 NN: 0.776\n",
      "distance 35 NN: 0.776\n",
      "uniform 40 NN: 0.794\n",
      "distance 40 NN: 0.776\n"
     ]
    }
   ],
   "source": [
    "from sklearn.impute import KNNImputer\n",
    "\n",
    "#KNN Imputer parameters\n",
    "print('KNN Imputer')\n",
    "n_neighbors = [1, 5, 10, 15, 20, 25, 30, 35, 40]\n",
    "weights = ['uniform', 'distance']\n",
    "for n in n_neighbors:\n",
    "    for w in weights:\n",
    "        print(w+' '+str(n)+' NN: %.3f' % (pipe_acc(KNNImputer(n_neighbors=n,weights=w),cat_preproc,first_model)))"
   ]
  },
  {
   "cell_type": "markdown",
   "id": "697ca215",
   "metadata": {
    "papermill": {
     "duration": 0.040637,
     "end_time": "2022-03-25T19:46:31.500092",
     "exception": false,
     "start_time": "2022-03-25T19:46:31.459455",
     "status": "completed"
    },
    "tags": []
   },
   "source": [
    "#### Final numerical preprocessor"
   ]
  },
  {
   "cell_type": "code",
   "execution_count": 14,
   "id": "ada8b7dc",
   "metadata": {
    "execution": {
     "iopub.execute_input": "2022-03-25T19:46:31.584743Z",
     "iopub.status.busy": "2022-03-25T19:46:31.584117Z",
     "iopub.status.idle": "2022-03-25T19:46:31.587559Z",
     "shell.execute_reply": "2022-03-25T19:46:31.588097Z",
     "shell.execute_reply.started": "2022-03-25T19:44:59.098171Z"
    },
    "papermill": {
     "duration": 0.047419,
     "end_time": "2022-03-25T19:46:31.588265",
     "exception": false,
     "start_time": "2022-03-25T19:46:31.540846",
     "status": "completed"
    },
    "tags": []
   },
   "outputs": [],
   "source": [
    "fin_num_preproc = KNNImputer(n_neighbors = 20, weights='uniform')"
   ]
  },
  {
   "cell_type": "markdown",
   "id": "f0a8bb33",
   "metadata": {
    "papermill": {
     "duration": 0.040358,
     "end_time": "2022-03-25T19:46:31.669268",
     "exception": false,
     "start_time": "2022-03-25T19:46:31.628910",
     "status": "completed"
    },
    "tags": []
   },
   "source": [
    "### Categorical Preprocessors"
   ]
  },
  {
   "cell_type": "code",
   "execution_count": 15,
   "id": "68982490",
   "metadata": {
    "execution": {
     "iopub.execute_input": "2022-03-25T19:46:31.754345Z",
     "iopub.status.busy": "2022-03-25T19:46:31.753660Z",
     "iopub.status.idle": "2022-03-25T19:46:32.979158Z",
     "shell.execute_reply": "2022-03-25T19:46:32.979945Z",
     "shell.execute_reply.started": "2022-03-25T19:44:59.104502Z"
    },
    "papermill": {
     "duration": 1.269977,
     "end_time": "2022-03-25T19:46:32.980199",
     "exception": false,
     "start_time": "2022-03-25T19:46:31.710222",
     "status": "completed"
    },
    "tags": []
   },
   "outputs": [
    {
     "name": "stdout",
     "output_type": "stream",
     "text": [
      "Simple Imputer Tests\n",
      "most frequent: 0.803\n",
      "constant: 0.798\n",
      "\n",
      "Encoder Tests\n",
      "one hot: 0.803\n",
      "ordinal: 0.789\n"
     ]
    }
   ],
   "source": [
    "from sklearn.preprocessing import OrdinalEncoder\n",
    "\n",
    "# Simple imputer\n",
    "print('Simple Imputer Tests')\n",
    "cat_preproc_tester = Pipeline(steps=[\n",
    "    ('imputer',SimpleImputer(strategy='most_frequent')),\n",
    "    ('onehot',OneHotEncoder(handle_unknown='ignore'))\n",
    "])\n",
    "print('most frequent: %0.3f' % (pipe_acc(fin_num_preproc,cat_preproc_tester,first_model)))\n",
    "\n",
    "cat_preproc_tester = Pipeline(steps=[\n",
    "    ('imputer',SimpleImputer(strategy='constant')),\n",
    "    ('onehot',OneHotEncoder(handle_unknown='ignore'))\n",
    "])\n",
    "print('constant: %0.3f' % (pipe_acc(fin_num_preproc,cat_preproc_tester,first_model)))\n",
    "\n",
    "# Encoder\n",
    "print('\\nEncoder Tests')\n",
    "cat_preproc_tester = Pipeline(steps=[\n",
    "    ('imputer',SimpleImputer(strategy='most_frequent')),\n",
    "    ('onehot',OneHotEncoder(handle_unknown='ignore'))\n",
    "])\n",
    "print('one hot: %0.3f' % (pipe_acc(fin_num_preproc,cat_preproc_tester,first_model)))\n",
    "\n",
    "cat_preproc_tester = Pipeline(steps=[\n",
    "    ('imputer',SimpleImputer(strategy='most_frequent')),\n",
    "    ('ordinal',OrdinalEncoder(handle_unknown='use_encoded_value', unknown_value=np.nan))\n",
    "])\n",
    "print('ordinal: %0.3f' % (pipe_acc(fin_num_preproc,cat_preproc_tester,first_model)))"
   ]
  },
  {
   "cell_type": "markdown",
   "id": "2688a62c",
   "metadata": {
    "papermill": {
     "duration": 0.042955,
     "end_time": "2022-03-25T19:46:33.066625",
     "exception": false,
     "start_time": "2022-03-25T19:46:33.023670",
     "status": "completed"
    },
    "tags": []
   },
   "source": [
    "#### Final categorical preprocessor"
   ]
  },
  {
   "cell_type": "code",
   "execution_count": 16,
   "id": "3139cc7a",
   "metadata": {
    "execution": {
     "iopub.execute_input": "2022-03-25T19:46:33.157762Z",
     "iopub.status.busy": "2022-03-25T19:46:33.156937Z",
     "iopub.status.idle": "2022-03-25T19:46:33.159792Z",
     "shell.execute_reply": "2022-03-25T19:46:33.159286Z",
     "shell.execute_reply.started": "2022-03-25T19:45:00.168732Z"
    },
    "papermill": {
     "duration": 0.050543,
     "end_time": "2022-03-25T19:46:33.159934",
     "exception": false,
     "start_time": "2022-03-25T19:46:33.109391",
     "status": "completed"
    },
    "tags": []
   },
   "outputs": [],
   "source": [
    "fin_cat_preproc = Pipeline(steps=[\n",
    "    ('imputer',SimpleImputer(strategy='most_frequent')),\n",
    "    ('onehot',OneHotEncoder(handle_unknown='ignore'))\n",
    "])\n"
   ]
  },
  {
   "cell_type": "markdown",
   "id": "518e7def",
   "metadata": {
    "papermill": {
     "duration": 0.042578,
     "end_time": "2022-03-25T19:46:33.245235",
     "exception": false,
     "start_time": "2022-03-25T19:46:33.202657",
     "status": "completed"
    },
    "tags": []
   },
   "source": [
    "### Models"
   ]
  },
  {
   "cell_type": "code",
   "execution_count": 17,
   "id": "c9383aa7",
   "metadata": {
    "execution": {
     "iopub.execute_input": "2022-03-25T19:46:33.332865Z",
     "iopub.status.busy": "2022-03-25T19:46:33.332191Z",
     "iopub.status.idle": "2022-03-25T19:46:48.537382Z",
     "shell.execute_reply": "2022-03-25T19:46:48.537877Z",
     "shell.execute_reply.started": "2022-03-25T19:45:00.176047Z"
    },
    "papermill": {
     "duration": 15.250487,
     "end_time": "2022-03-25T19:46:48.538065",
     "exception": false,
     "start_time": "2022-03-25T19:46:33.287578",
     "status": "completed"
    },
    "tags": []
   },
   "outputs": [
    {
     "name": "stdout",
     "output_type": "stream",
     "text": [
      "Random Forest\n",
      "Number of Trees\n",
      "10 trees: 0.762\n",
      "50 trees: 0.785\n",
      "100 trees: 0.803\n",
      "150 trees: 0.794\n",
      "200 trees: 0.785\n",
      "250 trees: 0.794\n",
      "300 trees: 0.798\n",
      "350 trees: 0.794\n",
      "400 trees: 0.789\n",
      "\n",
      "Criterion\n",
      "gini: 0.803\n",
      "entropy: 0.794\n",
      "\n",
      "Max Depth\n",
      "None max depth: 0.803\n",
      "2 max depth: 0.785\n",
      "4 max depth: 0.812\n",
      "6 max depth: 0.816\n",
      "8 max depth: 0.821\n",
      "10 max depth: 0.816\n",
      "12 max depth: 0.798\n",
      "14 max depth: 0.798\n",
      "16 max depth: 0.798\n",
      "18 max depth: 0.789\n",
      "20 max depth: 0.803\n",
      "\n",
      "Min Samples Split\n",
      "0.01 min samples split: 0.816\n",
      "0.1 min samples split: 0.812\n",
      "0.5 min samples split: 0.785\n",
      "2 min samples split: 0.821\n",
      "4 min samples split: 0.816\n",
      "6 min samples split: 0.816\n",
      "8 min samples split: 0.812\n",
      "10 min samples split: 0.821\n",
      "12 min samples split: 0.816\n",
      "14 min samples split: 0.812\n",
      "16 min samples split: 0.816\n",
      "18 min samples split: 0.821\n",
      "20 min samples split: 0.812\n",
      "\n",
      "Min Samples Leaf\n",
      "1 min samples leaf: 0.821\n",
      "2 min samples leaf: 0.807\n",
      "4 min samples leaf: 0.825\n",
      "6 min samples leaf: 0.812\n",
      "8 min samples leaf: 0.821\n",
      "10 min samples leaf: 0.807\n",
      "12 min samples leaf: 0.807\n",
      "14 min samples leaf: 0.807\n",
      "16 min samples leaf: 0.807\n",
      "18 min samples leaf: 0.807\n",
      "20 min samples leaf: 0.812\n"
     ]
    }
   ],
   "source": [
    "# Random Forest\n",
    "print(\"Random Forest\\nNumber of Trees\")\n",
    "n_estimators = [10,50,100,150,200,250,300,350,400]\n",
    "for n in n_estimators:\n",
    "    print(str(n)+' trees: %0.3f' % (pipe_acc(fin_num_preproc,fin_cat_preproc,\n",
    "                                            RandomForestClassifier(n_estimators=n,random_state=42))))\n",
    "\n",
    "print(\"\\nCriterion\")\n",
    "print('gini: %0.3f' % (pipe_acc(fin_num_preproc,fin_cat_preproc,\n",
    "                                            RandomForestClassifier(n_estimators=100,criterion='gini',random_state=42))))\n",
    "print('entropy: %0.3f' % (pipe_acc(fin_num_preproc,fin_cat_preproc,\n",
    "                                            RandomForestClassifier(n_estimators=100,criterion='entropy',random_state=42))))\n",
    "\n",
    "print(\"\\nMax Depth\")\n",
    "max_depth = [None,2,4,6,8,10,12,14,16,18,20]\n",
    "for m in max_depth:\n",
    "    print(str(m)+' max depth: %0.3f' % (pipe_acc(fin_num_preproc,fin_cat_preproc,\n",
    "                                            RandomForestClassifier(n_estimators=100,max_depth=m,random_state=42))))\n",
    "\n",
    "print(\"\\nMin Samples Split\")\n",
    "min_samples_split = [0.01,0.1,0.5,2,4,6,8,10,12,14,16,18,20]\n",
    "for m in min_samples_split:\n",
    "    print(str(m)+' min samples split: %0.3f' % (pipe_acc(fin_num_preproc,fin_cat_preproc,\n",
    "                                                         RandomForestClassifier(n_estimators=100,min_samples_split=m,max_depth=8,random_state=42))))\n",
    "\n",
    "print(\"\\nMin Samples Leaf\")\n",
    "min_samples_leaf = [1,2,4,6,8,10,12,14,16,18,20]\n",
    "for m in min_samples_leaf:\n",
    "    print(str(m)+' min samples leaf: %0.3f' % (pipe_acc(fin_num_preproc,fin_cat_preproc,\n",
    "                                                         RandomForestClassifier(n_estimators=100,min_samples_leaf=m,max_depth=8,random_state=42))))"
   ]
  },
  {
   "cell_type": "code",
   "execution_count": null,
   "id": "847b33bc",
   "metadata": {
    "papermill": {
     "duration": 0.05823,
     "end_time": "2022-03-25T19:46:48.656375",
     "exception": false,
     "start_time": "2022-03-25T19:46:48.598145",
     "status": "completed"
    },
    "tags": []
   },
   "outputs": [],
   "source": []
  },
  {
   "cell_type": "markdown",
   "id": "2627904e",
   "metadata": {
    "papermill": {
     "duration": 0.058823,
     "end_time": "2022-03-25T19:46:48.773791",
     "exception": false,
     "start_time": "2022-03-25T19:46:48.714968",
     "status": "completed"
    },
    "tags": []
   },
   "source": [
    "## BREAK"
   ]
  },
  {
   "cell_type": "markdown",
   "id": "a3e19a05",
   "metadata": {
    "papermill": {
     "duration": 0.058352,
     "end_time": "2022-03-25T19:46:48.892341",
     "exception": false,
     "start_time": "2022-03-25T19:46:48.833989",
     "status": "completed"
    },
    "tags": []
   },
   "source": [
    "## Final Model"
   ]
  },
  {
   "cell_type": "code",
   "execution_count": 18,
   "id": "3c1051a4",
   "metadata": {
    "execution": {
     "iopub.execute_input": "2022-03-25T19:46:49.014477Z",
     "iopub.status.busy": "2022-03-25T19:46:49.013779Z",
     "iopub.status.idle": "2022-03-25T19:46:49.328180Z",
     "shell.execute_reply": "2022-03-25T19:46:49.327140Z",
     "shell.execute_reply.started": "2022-03-25T19:45:13.233384Z"
    },
    "papermill": {
     "duration": 0.37605,
     "end_time": "2022-03-25T19:46:49.328421",
     "exception": false,
     "start_time": "2022-03-25T19:46:48.952371",
     "status": "completed"
    },
    "tags": []
   },
   "outputs": [],
   "source": [
    "\n",
    "fin_model = RandomForestClassifier(n_estimators=100, max_depth=8, random_state=42)\n",
    "\n",
    "fin_preproc = ColumnTransformer(transformers=[\n",
    "    ('num',fin_num_preproc,num_cols),\n",
    "    ('cat',fin_cat_preproc,cat_cols)\n",
    "])\n",
    "\n",
    "fin_pipeline = Pipeline(steps=[\n",
    "    ('preprocessor',fin_preproc),\n",
    "    ('model',fin_model)\n",
    "])\n",
    "\n",
    "\n",
    "fin_pipeline.fit(X_train,y_train)\n",
    "pred_test = fin_pipeline.predict(X_test)"
   ]
  },
  {
   "cell_type": "code",
   "execution_count": 19,
   "id": "8ebd6751",
   "metadata": {
    "execution": {
     "iopub.execute_input": "2022-03-25T19:46:49.490657Z",
     "iopub.status.busy": "2022-03-25T19:46:49.489860Z",
     "iopub.status.idle": "2022-03-25T19:46:49.493662Z",
     "shell.execute_reply": "2022-03-25T19:46:49.493060Z",
     "shell.execute_reply.started": "2022-03-25T19:45:13.516717Z"
    },
    "papermill": {
     "duration": 0.067075,
     "end_time": "2022-03-25T19:46:49.493794",
     "exception": false,
     "start_time": "2022-03-25T19:46:49.426719",
     "status": "completed"
    },
    "tags": []
   },
   "outputs": [
    {
     "data": {
      "text/plain": [
       "(418,)"
      ]
     },
     "execution_count": 19,
     "metadata": {},
     "output_type": "execute_result"
    }
   ],
   "source": [
    "pred_test.shape"
   ]
  },
  {
   "cell_type": "markdown",
   "id": "cc90ff10",
   "metadata": {
    "papermill": {
     "duration": 0.058836,
     "end_time": "2022-03-25T19:46:49.611682",
     "exception": false,
     "start_time": "2022-03-25T19:46:49.552846",
     "status": "completed"
    },
    "tags": []
   },
   "source": [
    "## Saving output for submission"
   ]
  },
  {
   "cell_type": "code",
   "execution_count": 20,
   "id": "0a932372",
   "metadata": {
    "execution": {
     "iopub.execute_input": "2022-03-25T19:46:49.733305Z",
     "iopub.status.busy": "2022-03-25T19:46:49.732629Z",
     "iopub.status.idle": "2022-03-25T19:46:49.741891Z",
     "shell.execute_reply": "2022-03-25T19:46:49.741286Z",
     "shell.execute_reply.started": "2022-03-25T19:45:13.527282Z"
    },
    "papermill": {
     "duration": 0.071204,
     "end_time": "2022-03-25T19:46:49.742037",
     "exception": false,
     "start_time": "2022-03-25T19:46:49.670833",
     "status": "completed"
    },
    "tags": []
   },
   "outputs": [],
   "source": [
    "output = pd.DataFrame({'PassengerId': test.PassengerId,\n",
    "                       'Survived': pred_test})\n",
    "output.to_csv('submission.csv', index=False)"
   ]
  },
  {
   "cell_type": "code",
   "execution_count": 21,
   "id": "2989f86a",
   "metadata": {
    "execution": {
     "iopub.execute_input": "2022-03-25T19:46:49.866186Z",
     "iopub.status.busy": "2022-03-25T19:46:49.865511Z",
     "iopub.status.idle": "2022-03-25T19:46:49.870949Z",
     "shell.execute_reply": "2022-03-25T19:46:49.871450Z",
     "shell.execute_reply.started": "2022-03-25T19:45:13.543615Z"
    },
    "papermill": {
     "duration": 0.070123,
     "end_time": "2022-03-25T19:46:49.871614",
     "exception": false,
     "start_time": "2022-03-25T19:46:49.801491",
     "status": "completed"
    },
    "tags": []
   },
   "outputs": [
    {
     "data": {
      "text/plain": [
       "(418, 2)"
      ]
     },
     "execution_count": 21,
     "metadata": {},
     "output_type": "execute_result"
    }
   ],
   "source": [
    "s = pd.read_csv('./submission.csv')\n",
    "s.shape"
   ]
  }
 ],
 "metadata": {
  "kernelspec": {
   "display_name": "Python 3",
   "language": "python",
   "name": "python3"
  },
  "language_info": {
   "codemirror_mode": {
    "name": "ipython",
    "version": 3
   },
   "file_extension": ".py",
   "mimetype": "text/x-python",
   "name": "python",
   "nbconvert_exporter": "python",
   "pygments_lexer": "ipython3",
   "version": "3.7.12"
  },
  "papermill": {
   "default_parameters": {},
   "duration": 38.514006,
   "end_time": "2022-03-25T19:46:50.640744",
   "environment_variables": {},
   "exception": null,
   "input_path": "__notebook__.ipynb",
   "output_path": "__notebook__.ipynb",
   "parameters": {},
   "start_time": "2022-03-25T19:46:12.126738",
   "version": "2.3.3"
  }
 },
 "nbformat": 4,
 "nbformat_minor": 5
}
