{
 "cells": [
  {
   "cell_type": "markdown",
   "id": "813ed758",
   "metadata": {
    "papermill": {
     "duration": 0.028223,
     "end_time": "2022-03-24T23:16:48.531910",
     "exception": false,
     "start_time": "2022-03-24T23:16:48.503687",
     "status": "completed"
    },
    "tags": []
   },
   "source": [
    "# Titanic Machine Learning Practice Project\n",
    "In this practice project, we use machine learning to predict if a given passenger will survive the Titanic crash. This is an ongoing competition on kaggle.com. I did this project to gain knowledge and experience in machine learning and data science. "
   ]
  },
  {
   "cell_type": "code",
   "execution_count": 1,
   "id": "2e1ae160",
   "metadata": {
    "_cell_guid": "b1076dfc-b9ad-4769-8c92-a6c4dae69d19",
    "_uuid": "8f2839f25d086af736a60e9eeb907d3b93b6e0e5",
    "execution": {
     "iopub.execute_input": "2022-03-24T23:16:48.592049Z",
     "iopub.status.busy": "2022-03-24T23:16:48.590274Z",
     "iopub.status.idle": "2022-03-24T23:16:49.792432Z",
     "shell.execute_reply": "2022-03-24T23:16:49.791457Z",
     "shell.execute_reply.started": "2022-03-24T23:15:47.067403Z"
    },
    "papermill": {
     "duration": 1.233378,
     "end_time": "2022-03-24T23:16:49.792658",
     "exception": false,
     "start_time": "2022-03-24T23:16:48.559280",
     "status": "completed"
    },
    "tags": []
   },
   "outputs": [],
   "source": [
    "import numpy as np \n",
    "import pandas as pd \n",
    "import matplotlib.pyplot as plt\n",
    "from sklearn.model_selection import train_test_split"
   ]
  },
  {
   "cell_type": "markdown",
   "id": "24f75f63",
   "metadata": {
    "papermill": {
     "duration": 0.026137,
     "end_time": "2022-03-24T23:16:49.845748",
     "exception": false,
     "start_time": "2022-03-24T23:16:49.819611",
     "status": "completed"
    },
    "tags": []
   },
   "source": [
    "## Loading Data\n",
    "\n",
    "In the code below I load the data and partition the data into variables. Our prediction clastrain_test_splitput into the y variable. Our predictor classes are put into X for training data and X_test for the testing data that we will eventually make our final predictions with. PassengerId, Ticket,\n",
    "and Name are excluded from the training and testing data because these categories are not expected contribute helpful information for survival prediction. \n",
    "\n",
    "I then split the training data into train and validation sets. "
   ]
  },
  {
   "cell_type": "code",
   "execution_count": 2,
   "id": "20e6a89b",
   "metadata": {
    "execution": {
     "iopub.execute_input": "2022-03-24T23:16:49.906707Z",
     "iopub.status.busy": "2022-03-24T23:16:49.905946Z",
     "iopub.status.idle": "2022-03-24T23:16:49.947479Z",
     "shell.execute_reply": "2022-03-24T23:16:49.948012Z",
     "shell.execute_reply.started": "2022-03-24T23:15:47.278508Z"
    },
    "papermill": {
     "duration": 0.076086,
     "end_time": "2022-03-24T23:16:49.948208",
     "exception": false,
     "start_time": "2022-03-24T23:16:49.872122",
     "status": "completed"
    },
    "tags": []
   },
   "outputs": [
    {
     "name": "stdout",
     "output_type": "stream",
     "text": [
      "Training Data:\n",
      " (891, 12)\n",
      "\n",
      "\n",
      "Testing Data:\n",
      " (418, 11)\n"
     ]
    }
   ],
   "source": [
    "# Importing Data\n",
    "train = pd.read_csv('../input/titanic/train.csv')\n",
    "test = pd.read_csv('../input/titanic/test.csv')\n",
    "\n",
    "# View aspects of each dataframe\n",
    "print('Training Data:\\n', train.shape)\n",
    "print('\\n\\nTesting Data:\\n', test.shape)\n",
    "\n",
    "y = train.Survived\n",
    "\n",
    "# Selecting all features, excluding PassengerId, Survived, and Name\n",
    "features = ['Pclass','Sex','Age','SibSp','Parch','Fare','Cabin','Embarked']\n",
    "X = train[features]\n",
    "X_test = test[features]\n",
    "\n",
    "# Splitting training data into train and validation sets\n",
    "X_train, X_val, y_train, y_val = train_test_split(X, y, random_state=42)"
   ]
  },
  {
   "cell_type": "code",
   "execution_count": 3,
   "id": "6bace8be",
   "metadata": {
    "execution": {
     "iopub.execute_input": "2022-03-24T23:16:50.008772Z",
     "iopub.status.busy": "2022-03-24T23:16:50.008112Z",
     "iopub.status.idle": "2022-03-24T23:16:50.018854Z",
     "shell.execute_reply": "2022-03-24T23:16:50.019467Z",
     "shell.execute_reply.started": "2022-03-24T23:15:47.416920Z"
    },
    "papermill": {
     "duration": 0.043587,
     "end_time": "2022-03-24T23:16:50.019700",
     "exception": false,
     "start_time": "2022-03-24T23:16:49.976113",
     "status": "completed"
    },
    "tags": []
   },
   "outputs": [],
   "source": [
    "gs = pd.read_csv('../input/titanic/gender_submission.csv')"
   ]
  },
  {
   "cell_type": "code",
   "execution_count": 4,
   "id": "5b3124b8",
   "metadata": {
    "execution": {
     "iopub.execute_input": "2022-03-24T23:16:50.083080Z",
     "iopub.status.busy": "2022-03-24T23:16:50.082217Z",
     "iopub.status.idle": "2022-03-24T23:16:50.089387Z",
     "shell.execute_reply": "2022-03-24T23:16:50.090001Z",
     "shell.execute_reply.started": "2022-03-24T23:15:47.429306Z"
    },
    "papermill": {
     "duration": 0.041012,
     "end_time": "2022-03-24T23:16:50.090182",
     "exception": false,
     "start_time": "2022-03-24T23:16:50.049170",
     "status": "completed"
    },
    "tags": []
   },
   "outputs": [
    {
     "data": {
      "text/plain": [
       "(418, 2)"
      ]
     },
     "execution_count": 4,
     "metadata": {},
     "output_type": "execute_result"
    }
   ],
   "source": [
    "gs.shape"
   ]
  },
  {
   "cell_type": "markdown",
   "id": "0611f88e",
   "metadata": {
    "papermill": {
     "duration": 0.029665,
     "end_time": "2022-03-24T23:16:50.150868",
     "exception": false,
     "start_time": "2022-03-24T23:16:50.121203",
     "status": "completed"
    },
    "tags": []
   },
   "source": [
    "## Data Exploration\n"
   ]
  },
  {
   "cell_type": "code",
   "execution_count": 5,
   "id": "53d7b4c8",
   "metadata": {
    "execution": {
     "iopub.execute_input": "2022-03-24T23:16:50.212818Z",
     "iopub.status.busy": "2022-03-24T23:16:50.212094Z",
     "iopub.status.idle": "2022-03-24T23:16:50.228683Z",
     "shell.execute_reply": "2022-03-24T23:16:50.229284Z",
     "shell.execute_reply.started": "2022-03-24T23:15:47.499785Z"
    },
    "papermill": {
     "duration": 0.04962,
     "end_time": "2022-03-24T23:16:50.229620",
     "exception": false,
     "start_time": "2022-03-24T23:16:50.180000",
     "status": "completed"
    },
    "tags": []
   },
   "outputs": [
    {
     "name": "stdout",
     "output_type": "stream",
     "text": [
      "Training Data\n",
      "(668, 8)\n",
      "Age         132\n",
      "Cabin       519\n",
      "Embarked      2\n",
      "dtype: int64\n",
      "\n",
      "Validation Data\n",
      "(223, 8)\n",
      "Age       45\n",
      "Cabin    168\n",
      "dtype: int64\n",
      "\n",
      "Testing Data\n",
      "(418, 8)\n",
      "Age       86\n",
      "Fare       1\n",
      "Cabin    327\n",
      "dtype: int64\n"
     ]
    }
   ],
   "source": [
    "# Checking for columns with missing values\n",
    "print('Training Data')\n",
    "print(X_train.shape)\n",
    "miss_val_col = X_train.isnull().sum()\n",
    "print(miss_val_col[miss_val_col>0])\n",
    "\n",
    "print('\\nValidation Data')\n",
    "print(X_val.shape)\n",
    "miss_val_col = X_val.isnull().sum()\n",
    "print(miss_val_col[miss_val_col>0])\n",
    "\n",
    "print('\\nTesting Data')\n",
    "print(X_test.shape)\n",
    "miss_val_col = X_test.isnull().sum()\n",
    "print(miss_val_col[miss_val_col>0])"
   ]
  },
  {
   "cell_type": "code",
   "execution_count": 6,
   "id": "8b77758f",
   "metadata": {
    "execution": {
     "iopub.execute_input": "2022-03-24T23:16:50.295733Z",
     "iopub.status.busy": "2022-03-24T23:16:50.294706Z",
     "iopub.status.idle": "2022-03-24T23:16:50.304979Z",
     "shell.execute_reply": "2022-03-24T23:16:50.305494Z",
     "shell.execute_reply.started": "2022-03-24T23:15:47.665141Z"
    },
    "papermill": {
     "duration": 0.043496,
     "end_time": "2022-03-24T23:16:50.305704",
     "exception": false,
     "start_time": "2022-03-24T23:16:50.262208",
     "status": "completed"
    },
    "tags": []
   },
   "outputs": [],
   "source": [
    "X_train = X_train.drop('Cabin',axis=1)\n",
    "X_val = X_val.drop('Cabin',axis=1)\n",
    "X_test = X_test.drop('Cabin',axis=1)"
   ]
  },
  {
   "cell_type": "code",
   "execution_count": 7,
   "id": "d9fe1f85",
   "metadata": {
    "execution": {
     "iopub.execute_input": "2022-03-24T23:16:50.365824Z",
     "iopub.status.busy": "2022-03-24T23:16:50.364807Z",
     "iopub.status.idle": "2022-03-24T23:16:50.376610Z",
     "shell.execute_reply": "2022-03-24T23:16:50.377149Z",
     "shell.execute_reply.started": "2022-03-24T23:15:47.677501Z"
    },
    "papermill": {
     "duration": 0.043509,
     "end_time": "2022-03-24T23:16:50.377331",
     "exception": false,
     "start_time": "2022-03-24T23:16:50.333822",
     "status": "completed"
    },
    "tags": []
   },
   "outputs": [
    {
     "name": "stdout",
     "output_type": "stream",
     "text": [
      "Pclass        int64\n",
      "Sex          object\n",
      "Age         float64\n",
      "SibSp         int64\n",
      "Parch         int64\n",
      "Fare        float64\n",
      "Embarked     object\n",
      "dtype: object\n",
      "\n",
      "Unique values of categorical columns:\n",
      " Sex         2\n",
      "Embarked    3\n",
      "dtype: int64\n",
      "\n",
      "Numerical columns:\n",
      " Index(['Pclass', 'Age', 'SibSp', 'Parch', 'Fare'], dtype='object')\n"
     ]
    }
   ],
   "source": [
    "# Identifying categorical and numerical columns\n",
    "print(X_train.dtypes)\n",
    "cat_cols = X_train.columns[X_train.dtypes == 'object']\n",
    "print('\\nUnique values of categorical columns:\\n',X_train[cat_cols].nunique())\n",
    "\n",
    "num_cols = X_train.columns.drop(cat_cols)\n",
    "print('\\nNumerical columns:\\n',num_cols)"
   ]
  },
  {
   "cell_type": "markdown",
   "id": "9389c5c0",
   "metadata": {
    "papermill": {
     "duration": 0.029673,
     "end_time": "2022-03-24T23:16:50.436944",
     "exception": false,
     "start_time": "2022-03-24T23:16:50.407271",
     "status": "completed"
    },
    "tags": []
   },
   "source": [
    "## Preprocessing"
   ]
  },
  {
   "cell_type": "code",
   "execution_count": 8,
   "id": "9a4ecf58",
   "metadata": {
    "execution": {
     "iopub.execute_input": "2022-03-24T23:16:50.499632Z",
     "iopub.status.busy": "2022-03-24T23:16:50.498881Z",
     "iopub.status.idle": "2022-03-24T23:16:50.644250Z",
     "shell.execute_reply": "2022-03-24T23:16:50.643649Z",
     "shell.execute_reply.started": "2022-03-24T23:15:47.741542Z"
    },
    "papermill": {
     "duration": 0.177774,
     "end_time": "2022-03-24T23:16:50.644417",
     "exception": false,
     "start_time": "2022-03-24T23:16:50.466643",
     "status": "completed"
    },
    "tags": []
   },
   "outputs": [],
   "source": [
    "from sklearn.compose import ColumnTransformer\n",
    "from sklearn.pipeline import Pipeline\n",
    "from sklearn.impute import SimpleImputer\n",
    "from sklearn.preprocessing import OneHotEncoder\n",
    "\n",
    "# Numerical data preprocessing\n",
    "num_preproc = SimpleImputer(strategy='mean')\n",
    "\n",
    "# Categorical data preprocesseing\n",
    "cat_preproc = Pipeline(steps=[\n",
    "    ('imputer',SimpleImputer(strategy='most_frequent')),\n",
    "    ('onehot',OneHotEncoder(handle_unknown='ignore'))\n",
    "])\n",
    "\n",
    "# Combining numerical and categorical preprocessors\n",
    "preproc = ColumnTransformer(transformers=[\n",
    "    ('num',num_preproc,num_cols),\n",
    "    ('cat',cat_preproc,cat_cols)\n",
    "])"
   ]
  },
  {
   "cell_type": "markdown",
   "id": "519b2e89",
   "metadata": {
    "papermill": {
     "duration": 0.027955,
     "end_time": "2022-03-24T23:16:50.701723",
     "exception": false,
     "start_time": "2022-03-24T23:16:50.673768",
     "status": "completed"
    },
    "tags": []
   },
   "source": [
    "## Building model and pipeline"
   ]
  },
  {
   "cell_type": "code",
   "execution_count": 9,
   "id": "4161ef14",
   "metadata": {
    "execution": {
     "iopub.execute_input": "2022-03-24T23:16:50.764370Z",
     "iopub.status.busy": "2022-03-24T23:16:50.763365Z",
     "iopub.status.idle": "2022-03-24T23:16:50.869341Z",
     "shell.execute_reply": "2022-03-24T23:16:50.868665Z",
     "shell.execute_reply.started": "2022-03-24T23:15:47.822017Z"
    },
    "papermill": {
     "duration": 0.13866,
     "end_time": "2022-03-24T23:16:50.869513",
     "exception": false,
     "start_time": "2022-03-24T23:16:50.730853",
     "status": "completed"
    },
    "tags": []
   },
   "outputs": [],
   "source": [
    "from sklearn.ensemble import RandomForestClassifier\n",
    "\n",
    "first_model = RandomForestClassifier(n_estimators=100, random_state=42)\n"
   ]
  },
  {
   "cell_type": "code",
   "execution_count": 10,
   "id": "8e73383b",
   "metadata": {
    "execution": {
     "iopub.execute_input": "2022-03-24T23:16:50.935823Z",
     "iopub.status.busy": "2022-03-24T23:16:50.935019Z",
     "iopub.status.idle": "2022-03-24T23:16:51.179891Z",
     "shell.execute_reply": "2022-03-24T23:16:51.180443Z",
     "shell.execute_reply.started": "2022-03-24T23:15:47.846720Z"
    },
    "papermill": {
     "duration": 0.279488,
     "end_time": "2022-03-24T23:16:51.180704",
     "exception": false,
     "start_time": "2022-03-24T23:16:50.901216",
     "status": "completed"
    },
    "tags": []
   },
   "outputs": [],
   "source": [
    "first_pipeline = Pipeline(steps=[\n",
    "    ('preprocessor',preproc),\n",
    "    ('model',first_model)\n",
    "])\n",
    "\n",
    "first_pipeline.fit(X_train,y_train)\n",
    "y_pred = first_pipeline.predict(X_val)"
   ]
  },
  {
   "cell_type": "code",
   "execution_count": 11,
   "id": "4ec82465",
   "metadata": {
    "execution": {
     "iopub.execute_input": "2022-03-24T23:16:51.248070Z",
     "iopub.status.busy": "2022-03-24T23:16:51.247265Z",
     "iopub.status.idle": "2022-03-24T23:16:51.253881Z",
     "shell.execute_reply": "2022-03-24T23:16:51.254337Z",
     "shell.execute_reply.started": "2022-03-24T23:15:48.110694Z"
    },
    "papermill": {
     "duration": 0.041557,
     "end_time": "2022-03-24T23:16:51.254518",
     "exception": false,
     "start_time": "2022-03-24T23:16:51.212961",
     "status": "completed"
    },
    "tags": []
   },
   "outputs": [
    {
     "data": {
      "text/plain": [
       "0.7802690582959642"
      ]
     },
     "execution_count": 11,
     "metadata": {},
     "output_type": "execute_result"
    }
   ],
   "source": [
    "# Computing accuracy\n",
    "from sklearn.metrics import accuracy_score\n",
    "accuracy_score(y_val, y_pred)"
   ]
  },
  {
   "cell_type": "markdown",
   "id": "9ba69ded",
   "metadata": {
    "papermill": {
     "duration": 0.028372,
     "end_time": "2022-03-24T23:16:51.313897",
     "exception": false,
     "start_time": "2022-03-24T23:16:51.285525",
     "status": "completed"
    },
    "tags": []
   },
   "source": [
    "## Analyzing for improved parameters"
   ]
  },
  {
   "cell_type": "code",
   "execution_count": 12,
   "id": "a455bf2f",
   "metadata": {
    "execution": {
     "iopub.execute_input": "2022-03-24T23:16:51.380155Z",
     "iopub.status.busy": "2022-03-24T23:16:51.379056Z",
     "iopub.status.idle": "2022-03-24T23:16:51.381376Z",
     "shell.execute_reply": "2022-03-24T23:16:51.381855Z",
     "shell.execute_reply.started": "2022-03-24T23:15:48.179243Z"
    },
    "papermill": {
     "duration": 0.039158,
     "end_time": "2022-03-24T23:16:51.382039",
     "exception": false,
     "start_time": "2022-03-24T23:16:51.342881",
     "status": "completed"
    },
    "tags": []
   },
   "outputs": [],
   "source": [
    "# Method to build pipeline and compute accuracy based on preprocessing and model parameters\n",
    "def pipe_acc(num_preprocessor,cat_preprocessor,model):\n",
    "    \n",
    "    preproc = ColumnTransformer(transformers=[\n",
    "        ('num',num_preprocessor,num_cols),\n",
    "        ('cat',cat_preprocessor,cat_cols)\n",
    "    ])\n",
    "    my_pipeline = Pipeline(steps=[\n",
    "        ('preprocessor',preproc),\n",
    "        ('model',model)\n",
    "    ])\n",
    "    \n",
    "    my_pipeline.fit(X_train,y_train)\n",
    "    return accuracy_score(y_val,my_pipeline.predict(X_val))"
   ]
  },
  {
   "cell_type": "markdown",
   "id": "0241f8b3",
   "metadata": {
    "papermill": {
     "duration": 0.029769,
     "end_time": "2022-03-24T23:16:51.441071",
     "exception": false,
     "start_time": "2022-03-24T23:16:51.411302",
     "status": "completed"
    },
    "tags": []
   },
   "source": [
    "### Numerical Preprocessors"
   ]
  },
  {
   "cell_type": "code",
   "execution_count": 13,
   "id": "ab6db6b7",
   "metadata": {
    "execution": {
     "iopub.execute_input": "2022-03-24T23:16:51.508396Z",
     "iopub.status.busy": "2022-03-24T23:16:51.505777Z",
     "iopub.status.idle": "2022-03-24T23:16:52.506307Z",
     "shell.execute_reply": "2022-03-24T23:16:52.506831Z",
     "shell.execute_reply.started": "2022-03-24T23:15:48.229142Z"
    },
    "papermill": {
     "duration": 1.034885,
     "end_time": "2022-03-24T23:16:52.507013",
     "exception": false,
     "start_time": "2022-03-24T23:16:51.472128",
     "status": "completed"
    },
    "tags": []
   },
   "outputs": [
    {
     "name": "stdout",
     "output_type": "stream",
     "text": [
      "Simple Imputer:\n",
      "mean: 0.780\n",
      "median: 0.771\n",
      "most_frequent: 0.776\n",
      "constant: 0.785\n"
     ]
    }
   ],
   "source": [
    "# Analyzing numerical category preprocessors\n",
    "\n",
    "# Simple imputer parameters\n",
    "print('Simple Imputer:')\n",
    "strategy = ['mean','median','most_frequent','constant']\n",
    "for s in strategy:\n",
    "    print(s+': %.3f' % (pipe_acc(SimpleImputer(strategy=s), cat_preproc, first_model)))"
   ]
  },
  {
   "cell_type": "code",
   "execution_count": 14,
   "id": "cad72315",
   "metadata": {
    "execution": {
     "iopub.execute_input": "2022-03-24T23:16:52.580513Z",
     "iopub.status.busy": "2022-03-24T23:16:52.579823Z",
     "iopub.status.idle": "2022-03-24T23:16:55.626544Z",
     "shell.execute_reply": "2022-03-24T23:16:55.625974Z",
     "shell.execute_reply.started": "2022-03-24T23:15:49.271893Z"
    },
    "papermill": {
     "duration": 3.088534,
     "end_time": "2022-03-24T23:16:55.626725",
     "exception": false,
     "start_time": "2022-03-24T23:16:52.538191",
     "status": "completed"
    },
    "tags": []
   },
   "outputs": [
    {
     "name": "stdout",
     "output_type": "stream",
     "text": [
      "KNN Imputer:\n",
      "uniform 1 NN: 0.771\n",
      "distance 1 NN: 0.771\n",
      "uniform 5 NN: 0.771\n",
      "distance 5 NN: 0.767\n",
      "uniform 10 NN: 0.794\n",
      "distance 10 NN: 0.780\n",
      "uniform 15 NN: 0.794\n",
      "distance 15 NN: 0.776\n",
      "uniform 20 NN: 0.803\n",
      "distance 20 NN: 0.780\n"
     ]
    }
   ],
   "source": [
    "from sklearn.impute import KNNImputer\n",
    "\n",
    "#KNN Imputer parameters\n",
    "print('KNN Imputer:')\n",
    "n_neighbors = [1, 5, 10, 15, 20]\n",
    "weights = ['uniform', 'distance']\n",
    "for n in n_neighbors:\n",
    "    for w in weights:\n",
    "        print(w+' '+str(n)+' NN: %.3f' % (pipe_acc(KNNImputer(n_neighbors=n,weights=w),cat_preproc,first_model)))"
   ]
  },
  {
   "cell_type": "code",
   "execution_count": 15,
   "id": "f3d658f6",
   "metadata": {
    "execution": {
     "iopub.execute_input": "2022-03-24T23:16:55.699358Z",
     "iopub.status.busy": "2022-03-24T23:16:55.698764Z",
     "iopub.status.idle": "2022-03-24T23:16:55.702519Z",
     "shell.execute_reply": "2022-03-24T23:16:55.703105Z",
     "shell.execute_reply.started": "2022-03-24T23:15:52.418042Z"
    },
    "papermill": {
     "duration": 0.041783,
     "end_time": "2022-03-24T23:16:55.703273",
     "exception": false,
     "start_time": "2022-03-24T23:16:55.661490",
     "status": "completed"
    },
    "tags": []
   },
   "outputs": [],
   "source": [
    "fin_num_preproc = KNNImputer(n_neighbors = 5, weights='distance')"
   ]
  },
  {
   "cell_type": "markdown",
   "id": "feeb2bd2",
   "metadata": {
    "papermill": {
     "duration": 0.033807,
     "end_time": "2022-03-24T23:16:55.771169",
     "exception": false,
     "start_time": "2022-03-24T23:16:55.737362",
     "status": "completed"
    },
    "tags": []
   },
   "source": [
    "### Categorical Preprocessors"
   ]
  },
  {
   "cell_type": "code",
   "execution_count": 16,
   "id": "d4a1f1e7",
   "metadata": {
    "execution": {
     "iopub.execute_input": "2022-03-24T23:16:55.844094Z",
     "iopub.status.busy": "2022-03-24T23:16:55.843046Z",
     "iopub.status.idle": "2022-03-24T23:16:55.849241Z",
     "shell.execute_reply": "2022-03-24T23:16:55.849901Z",
     "shell.execute_reply.started": "2022-03-24T23:15:52.426789Z"
    },
    "papermill": {
     "duration": 0.044899,
     "end_time": "2022-03-24T23:16:55.850082",
     "exception": false,
     "start_time": "2022-03-24T23:16:55.805183",
     "status": "completed"
    },
    "tags": []
   },
   "outputs": [
    {
     "data": {
      "text/plain": [
       "Index(['PassengerId', 'Pclass', 'Name', 'Sex', 'Age', 'SibSp', 'Parch',\n",
       "       'Ticket', 'Fare', 'Cabin', 'Embarked'],\n",
       "      dtype='object')"
      ]
     },
     "execution_count": 16,
     "metadata": {},
     "output_type": "execute_result"
    }
   ],
   "source": [
    "test.columns"
   ]
  },
  {
   "cell_type": "markdown",
   "id": "632f3200",
   "metadata": {
    "papermill": {
     "duration": 0.035216,
     "end_time": "2022-03-24T23:16:55.920531",
     "exception": false,
     "start_time": "2022-03-24T23:16:55.885315",
     "status": "completed"
    },
    "tags": []
   },
   "source": [
    "## Final Model"
   ]
  },
  {
   "cell_type": "code",
   "execution_count": 17,
   "id": "99c5b595",
   "metadata": {
    "execution": {
     "iopub.execute_input": "2022-03-24T23:16:55.995258Z",
     "iopub.status.busy": "2022-03-24T23:16:55.994246Z",
     "iopub.status.idle": "2022-03-24T23:16:56.330990Z",
     "shell.execute_reply": "2022-03-24T23:16:56.331992Z",
     "shell.execute_reply.started": "2022-03-24T23:15:52.442981Z"
    },
    "papermill": {
     "duration": 0.375836,
     "end_time": "2022-03-24T23:16:56.332321",
     "exception": false,
     "start_time": "2022-03-24T23:16:55.956485",
     "status": "completed"
    },
    "tags": []
   },
   "outputs": [],
   "source": [
    "fin_cat_preprocessor = Pipeline(steps=[\n",
    "    ('imputer',SimpleImputer(strategy='most_frequent')),\n",
    "    ('onehot',OneHotEncoder(handle_unknown='ignore'))\n",
    "])\n",
    "\n",
    "fin_model = first_model\n",
    "\n",
    "fin_preproc = ColumnTransformer(transformers=[\n",
    "    ('num',fin_num_preproc,num_cols),\n",
    "    ('cat',fin_cat_preprocessor,cat_cols)\n",
    "])\n",
    "\n",
    "fin_pipeline = Pipeline(steps=[\n",
    "    ('preprocessor',fin_preproc),\n",
    "    ('model',fin_model)\n",
    "])\n",
    "\n",
    "\n",
    "fin_pipeline.fit(X_train,y_train)\n",
    "pred_test = fin_pipeline.predict(X_test)"
   ]
  },
  {
   "cell_type": "code",
   "execution_count": 18,
   "id": "3d1c5425",
   "metadata": {
    "execution": {
     "iopub.execute_input": "2022-03-24T23:16:56.441468Z",
     "iopub.status.busy": "2022-03-24T23:16:56.440796Z",
     "iopub.status.idle": "2022-03-24T23:16:56.443489Z",
     "shell.execute_reply": "2022-03-24T23:16:56.443990Z",
     "shell.execute_reply.started": "2022-03-24T23:15:52.789301Z"
    },
    "papermill": {
     "duration": 0.044792,
     "end_time": "2022-03-24T23:16:56.444170",
     "exception": false,
     "start_time": "2022-03-24T23:16:56.399378",
     "status": "completed"
    },
    "tags": []
   },
   "outputs": [
    {
     "data": {
      "text/plain": [
       "(418,)"
      ]
     },
     "execution_count": 18,
     "metadata": {},
     "output_type": "execute_result"
    }
   ],
   "source": [
    "pred_test.shape"
   ]
  },
  {
   "cell_type": "markdown",
   "id": "780a21fe",
   "metadata": {
    "papermill": {
     "duration": 0.034543,
     "end_time": "2022-03-24T23:16:56.513371",
     "exception": false,
     "start_time": "2022-03-24T23:16:56.478828",
     "status": "completed"
    },
    "tags": []
   },
   "source": [
    "## Saving output for submission"
   ]
  },
  {
   "cell_type": "code",
   "execution_count": 19,
   "id": "a7fc0562",
   "metadata": {
    "execution": {
     "iopub.execute_input": "2022-03-24T23:16:56.586495Z",
     "iopub.status.busy": "2022-03-24T23:16:56.585876Z",
     "iopub.status.idle": "2022-03-24T23:16:56.594806Z",
     "shell.execute_reply": "2022-03-24T23:16:56.595357Z",
     "shell.execute_reply.started": "2022-03-24T23:15:52.801324Z"
    },
    "papermill": {
     "duration": 0.04741,
     "end_time": "2022-03-24T23:16:56.595531",
     "exception": false,
     "start_time": "2022-03-24T23:16:56.548121",
     "status": "completed"
    },
    "tags": []
   },
   "outputs": [],
   "source": [
    "output = pd.DataFrame({'PassengerId': test.PassengerId,\n",
    "                       'Survived': pred_test})\n",
    "output.to_csv('submission.csv', index=False)"
   ]
  },
  {
   "cell_type": "code",
   "execution_count": 20,
   "id": "31ea0587",
   "metadata": {
    "execution": {
     "iopub.execute_input": "2022-03-24T23:16:56.671131Z",
     "iopub.status.busy": "2022-03-24T23:16:56.670437Z",
     "iopub.status.idle": "2022-03-24T23:16:56.678222Z",
     "shell.execute_reply": "2022-03-24T23:16:56.677738Z",
     "shell.execute_reply.started": "2022-03-24T23:15:52.820308Z"
    },
    "papermill": {
     "duration": 0.047461,
     "end_time": "2022-03-24T23:16:56.678378",
     "exception": false,
     "start_time": "2022-03-24T23:16:56.630917",
     "status": "completed"
    },
    "tags": []
   },
   "outputs": [
    {
     "data": {
      "text/plain": [
       "(418, 2)"
      ]
     },
     "execution_count": 20,
     "metadata": {},
     "output_type": "execute_result"
    }
   ],
   "source": [
    "s = pd.read_csv('./submission.csv')\n",
    "s.shape"
   ]
  }
 ],
 "metadata": {
  "kernelspec": {
   "display_name": "Python 3",
   "language": "python",
   "name": "python3"
  },
  "language_info": {
   "codemirror_mode": {
    "name": "ipython",
    "version": 3
   },
   "file_extension": ".py",
   "mimetype": "text/x-python",
   "name": "python",
   "nbconvert_exporter": "python",
   "pygments_lexer": "ipython3",
   "version": "3.7.12"
  },
  "papermill": {
   "default_parameters": {},
   "duration": 19.450468,
   "end_time": "2022-03-24T23:16:57.727075",
   "environment_variables": {},
   "exception": null,
   "input_path": "__notebook__.ipynb",
   "output_path": "__notebook__.ipynb",
   "parameters": {},
   "start_time": "2022-03-24T23:16:38.276607",
   "version": "2.3.3"
  }
 },
 "nbformat": 4,
 "nbformat_minor": 5
}
